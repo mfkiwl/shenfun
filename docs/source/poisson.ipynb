{
 "cells": [
  {
   "cell_type": "markdown",
   "id": "191f070c",
   "metadata": {
    "editable": true
   },
   "source": [
    "<!-- File automatically generated using DocOnce (https://github.com/doconce/doconce/):\n",
    "doconce format ipynb poisson.do.txt  -->\n",
    "\n",
    "# Demo - 1D Poisson's equation\n",
    "**Mikael Mortensen** (email: `mikaem@math.uio.no`), Department of Mathematics, University of Oslo.\n",
    "\n",
    "Date: **April 13, 2018**\n",
    "\n",
    "**Summary.** This is a demonstration of how the Python module [shenfun](https://github.com/spectralDNS/shenfun) can be used to solve Poisson's\n",
    "equation with Dirichlet boundary conditions in one dimension. Spectral convergence, as\n",
    "shown in the figure below, is demonstrated.\n",
    "The demo is implemented in slightly more generic terms (more boundary conditions)\n",
    "in [poisson1D.py](https://github.com/spectralDNS/shenfun/blob/master/demo/poisson1D.py), and\n",
    "the numerical method is is described in more detail by J. Shen [shen1](#shen1) and [shen95](#shen95).\n",
    "\n",
    "<!-- dom:FIGURE: [https://rawgit.com/spectralDNS/spectralutilities/master/figures/poisson1D_errornorm.png] Convergence of 1D Poisson solvers for both Legendre and Chebyshev modified basis function. <a id=\"fig:ct0\"></a> -->\n",
    "<!-- begin figure -->\n",
    "<a id=\"fig:ct0\"></a>\n",
    "\n",
    "<img src=\"https://rawgit.com/spectralDNS/spectralutilities/master/figures/poisson1D_errornorm.png\" ><p style=\"font-size: 0.9em\"><i>Figure 1: Convergence of 1D Poisson solvers for both Legendre and Chebyshev modified basis function.</i></p>\n",
    "<!-- end figure -->"
   ]
  },
  {
   "cell_type": "markdown",
   "id": "5c9e928b",
   "metadata": {
    "editable": true
   },
   "source": [
    "## Poisson's equation\n",
    "\n",
    "Poisson's equation is given as"
   ]
  },
  {
   "cell_type": "markdown",
   "id": "88a950ff",
   "metadata": {
    "editable": true
   },
   "source": [
    "<!-- Equation labels as ordinary links -->\n",
    "<a id=\"eq:poisson\"></a>\n",
    "\n",
    "$$\n",
    "\\begin{equation}\n",
    "\\nabla^2 u(x) = f(x) \\quad \\text{for }\\, x \\in (-1, 1), \\label{eq:poisson} \\tag{1}\n",
    "\\end{equation}\n",
    "$$"
   ]
  },
  {
   "cell_type": "markdown",
   "id": "04929b21",
   "metadata": {
    "editable": true
   },
   "source": [
    "<!-- Equation labels as ordinary links -->\n",
    "<a id=\"_auto1\"></a>\n",
    "\n",
    "$$\n",
    "\\begin{equation}  \n",
    "u(-1)=a, u(1)=b, \\notag\n",
    "\\label{_auto1} \\tag{2}\n",
    "\\end{equation}\n",
    "$$"
   ]
  },
  {
   "cell_type": "markdown",
   "id": "6dff101a",
   "metadata": {
    "editable": true
   },
   "source": [
    "where $u(x)$ is the solution, $f(x)$ is a function and $a, b$ are two possibly\n",
    "non-zero constants.\n",
    "\n",
    "To solve Eq. ([1](#eq:poisson)) with the Galerkin method we need smooth continuously\n",
    "differentiable basis functions, $v_k$, that satisfy the given boundary conditions.\n",
    "And then we look for solutions like"
   ]
  },
  {
   "cell_type": "markdown",
   "id": "40cbe4bb",
   "metadata": {
    "editable": true
   },
   "source": [
    "<!-- Equation labels as ordinary links -->\n",
    "<a id=\"eq:u\"></a>\n",
    "\n",
    "$$\n",
    "\\begin{equation}\n",
    "u(x) = \\sum_{k=0}^{N-1} \\hat{u}_k v_k(x), \\label{eq:u} \\tag{3}\n",
    "\\end{equation}\n",
    "$$"
   ]
  },
  {
   "cell_type": "markdown",
   "id": "75b794d4",
   "metadata": {
    "editable": true
   },
   "source": [
    "where $N$ is the size of the discretized problem,\n",
    "$\\{\\hat{u}_k\\}_{k=0}^{N-1}$ are the unknown expansion\n",
    "coefficients, and the function space is $\\text{span}\\{v_k\\}_{k=0}^{N-1}$.\n",
    "\n",
    "The basis functions of the function space can, for example,  be constructed from\n",
    "[Chebyshev](https://en.wikipedia.org/wiki/Chebyshev_polynomials), $T_k(x)$, or\n",
    "[Legendre](https://en.wikipedia.org/wiki/Legendre_polynomials), $L_k(x)$, polynomials\n",
    "and we use the common notation $\\phi_k(x)$ to represent either one of them. It turns out that\n",
    "it is easiest to use basis functions with homogeneous Dirichlet boundary conditions"
   ]
  },
  {
   "cell_type": "markdown",
   "id": "daad7929",
   "metadata": {
    "editable": true
   },
   "source": [
    "<!-- Equation labels as ordinary links -->\n",
    "<a id=\"_auto2\"></a>\n",
    "\n",
    "$$\n",
    "\\begin{equation}\n",
    "v_k(x) = \\phi_k(x) - \\phi_{k+2}(x),\n",
    "\\label{_auto2} \\tag{4}\n",
    "\\end{equation}\n",
    "$$"
   ]
  },
  {
   "cell_type": "markdown",
   "id": "49939654",
   "metadata": {
    "editable": true
   },
   "source": [
    "for $k=0, 1, \\ldots N-3$. This gives the function space\n",
    "$V^N_0 = \\text{span}\\{v_k(x)\\}_{k=0}^{N-3}$.\n",
    "We can then add two more linear basis functions (that belong to the kernel of Poisson's equation)"
   ]
  },
  {
   "cell_type": "markdown",
   "id": "c2eb52a2",
   "metadata": {
    "editable": true
   },
   "source": [
    "<!-- Equation labels as ordinary links -->\n",
    "<a id=\"_auto3\"></a>\n",
    "\n",
    "$$\n",
    "\\begin{equation}\n",
    "v_{N-2} = \\frac{1}{2}(\\phi_0 - \\phi_1), \n",
    "\\label{_auto3} \\tag{5}\n",
    "\\end{equation}\n",
    "$$"
   ]
  },
  {
   "cell_type": "markdown",
   "id": "19b3c0c6",
   "metadata": {
    "editable": true
   },
   "source": [
    "<!-- Equation labels as ordinary links -->\n",
    "<a id=\"_auto4\"></a>\n",
    "\n",
    "$$\n",
    "\\begin{equation}  \n",
    "v_{N-1} = \\frac{1}{2}(\\phi_0 + \\phi_1).\n",
    "\\label{_auto4} \\tag{6}\n",
    "\\end{equation}\n",
    "$$"
   ]
  },
  {
   "cell_type": "markdown",
   "id": "f9753564",
   "metadata": {
    "editable": true
   },
   "source": [
    "which gives the inhomogeneous space $V^N = \\text{span}\\{v_k\\}_{k=0}^{N-1}$.\n",
    "With the two linear basis functions it is easy to see that the last two degrees\n",
    "of freedom, $\\hat{u}_{N-2}$ and $\\hat{u}_{N-1}$, now are given as"
   ]
  },
  {
   "cell_type": "markdown",
   "id": "7ee320eb",
   "metadata": {
    "editable": true
   },
   "source": [
    "<!-- Equation labels as ordinary links -->\n",
    "<a id=\"eq:dirichleta\"></a>\n",
    "\n",
    "$$\n",
    "\\begin{equation}\n",
    "u(-1) = \\sum_{k=0}^{N-1} \\hat{u}_k v_k(-1) = \\hat{u}_{N-2} = a,\n",
    "\\label{eq:dirichleta} \\tag{7} \n",
    "\\end{equation}\n",
    "$$"
   ]
  },
  {
   "cell_type": "markdown",
   "id": "5bfbba11",
   "metadata": {
    "editable": true
   },
   "source": [
    "<!-- Equation labels as ordinary links -->\n",
    "<a id=\"eq:dirichletb\"></a>\n",
    "\n",
    "$$\n",
    "\\begin{equation}  \n",
    "u(+1) = \\sum_{k=0}^{N-1} \\hat{u}_k v_k(+1) = \\hat{u}_{N-1} = b,\n",
    "\\label{eq:dirichletb} \\tag{8}\n",
    "\\end{equation}\n",
    "$$"
   ]
  },
  {
   "cell_type": "markdown",
   "id": "a377dc2d",
   "metadata": {
    "editable": true
   },
   "source": [
    "and, as such, we only have to solve for $\\{\\hat{u}_k\\}_{k=0}^{N-3}$, just like\n",
    "for a problem with homogeneous boundary conditions (for homogeneous boundary condition\n",
    "we simply have $\\hat{u}_{N-2} = \\hat{u}_{N-1} = 0$).\n",
    "We now formulate a variational problem using the Galerkin method: Find $u \\in V^N$ such that"
   ]
  },
  {
   "cell_type": "markdown",
   "id": "bc16986e",
   "metadata": {
    "editable": true
   },
   "source": [
    "<!-- Equation labels as ordinary links -->\n",
    "<a id=\"eq:varform\"></a>\n",
    "\n",
    "$$\n",
    "\\begin{equation}\n",
    "\\int_{-1}^1 \\nabla^2 u \\, v \\, w\\, dx = \\int_{-1}^1 f \\, v\\, w\\, dx \\quad \\forall v \\, \\in \\, V^N_0. \\label{eq:varform} \\tag{9}\n",
    "\\end{equation}\n",
    "$$"
   ]
  },
  {
   "cell_type": "markdown",
   "id": "c56593b5",
   "metadata": {
    "editable": true
   },
   "source": [
    "Note that since we only have $N-3$ unknowns we are only using the homogeneous test\n",
    "functions from $V^N_0$.\n",
    "\n",
    "The weighted integrals, weighted by $w(x)$, are called inner products, and a\n",
    "common notation is"
   ]
  },
  {
   "cell_type": "markdown",
   "id": "e7f282db",
   "metadata": {
    "editable": true
   },
   "source": [
    "<!-- Equation labels as ordinary links -->\n",
    "<a id=\"_auto5\"></a>\n",
    "\n",
    "$$\n",
    "\\begin{equation}\n",
    "\\int_{-1}^1 u \\, v \\, w\\, dx = \\left( u, v\\right)_w.\n",
    "\\label{_auto5} \\tag{10}\n",
    "\\end{equation}\n",
    "$$"
   ]
  },
  {
   "cell_type": "markdown",
   "id": "2aae170f",
   "metadata": {
    "editable": true
   },
   "source": [
    "The integral can either be computed exactly, or with quadrature. The advantage\n",
    "of the latter is that it is generally faster, and that non-linear terms may be\n",
    "computed just as quickly as linear. For a linear problem, it does not make much\n",
    "of a difference, if any at all. Approximating the integral with quadrature, we\n",
    "obtain"
   ]
  },
  {
   "cell_type": "markdown",
   "id": "0597485b",
   "metadata": {
    "editable": true
   },
   "source": [
    "$$\n",
    "\\begin{align*}\n",
    "\\int_{-1}^1 u \\, v \\, w\\, dx &\\approx \\left( u, v \\right)_w^N, \\\\ \n",
    "&\\approx \\sum_{j=0}^{N-1} u(x_j) v(x_j) w_j,\n",
    "\\end{align*}\n",
    "$$"
   ]
  },
  {
   "cell_type": "markdown",
   "id": "1820492f",
   "metadata": {
    "editable": true
   },
   "source": [
    "where $\\{w_j\\}_{j=0}^{N-1}$ are quadrature weights.\n",
    "The quadrature points $\\{x_j\\}_{j=0}^{N-1}$\n",
    "are specific to the chosen basis, and even within basis there are two different\n",
    "choices based on which quadrature rule is selected, either Gauss or Gauss-Lobatto.\n",
    "\n",
    "Inserting for test and trialfunctions, we get the following bilinear form and\n",
    "matrix $A=(a_{jk})\\in\\mathbb{R}^{N-2\\times N-2}$ for the Laplacian"
   ]
  },
  {
   "cell_type": "markdown",
   "id": "0f03aa15",
   "metadata": {
    "editable": true
   },
   "source": [
    "$$\n",
    "\\begin{align*}\n",
    "\\left( \\nabla^2u, v \\right)_w^N &= \\left( \\nabla^2\\sum_{k=0}^{N-3}\\hat{u}_k v_{k}, v_j \\right)_w^N, \\quad j=0,1,\\ldots, N-3\\\\ \n",
    "    &= \\sum_{k=0}^{N-3}\\left(\\nabla^2 v_{k}, v_j \\right)_w^N \\hat{u}_k, \\\\ \n",
    "    &= \\sum_{k=0}^{N-3}a_{jk} \\hat{u}_k.\n",
    "\\end{align*}\n",
    "$$"
   ]
  },
  {
   "cell_type": "markdown",
   "id": "08f3c800",
   "metadata": {
    "editable": true
   },
   "source": [
    "Note that the sum runs over $k=0, 1, \\ldots, N-3$ since\n",
    "the second derivatives of $v_{N-2}$ and $v_{N-1}$ are zero.\n",
    "The right hand side linear form and vector is computed as $\\tilde{f}_j = (f,\n",
    "v_j)_w^N$, for $j=0,1,\\ldots, N-3$, where a tilde is used because this is not\n",
    "a complete transform of the function $f$, but only an inner product.\n",
    "\n",
    "By defining the column vectors $\\boldsymbol{\\hat{u}}=(\\hat{u}_0, \\hat{u}_1, \\ldots, \\hat{u}_{N-3})^T$\n",
    "and $\\boldsymbol{\\tilde{f}}=(\\tilde{f}_0, \\tilde{f}_1, \\ldots, \\tilde{f}_{N-3})^T$\n",
    "we get the linear system of equations"
   ]
  },
  {
   "cell_type": "markdown",
   "id": "65e0bcc0",
   "metadata": {
    "editable": true
   },
   "source": [
    "<!-- Equation labels as ordinary links -->\n",
    "<a id=\"_auto6\"></a>\n",
    "\n",
    "$$\n",
    "\\begin{equation}\n",
    "A \\hat{\\boldsymbol{u}} = \\tilde{\\boldsymbol{f}}.\n",
    "\\label{_auto6} \\tag{11}\n",
    "\\end{equation}\n",
    "$$"
   ]
  },
  {
   "cell_type": "markdown",
   "id": "998ba60a",
   "metadata": {
    "editable": true
   },
   "source": [
    "Now, when the expansion coefficients $\\boldsymbol{\\hat{u}}$ are found by\n",
    "solving this linear system, they may be\n",
    "transformed to real space $u(x)$ using ([3](#eq:u)), and here the contributions\n",
    "from $\\hat{u}_{N-2}$ and $\\hat{u}_{N-1}$ must be accounted for. Note that the matrix\n",
    "$A$ (different for Legendre or Chebyshev) has a very special structure that\n",
    "allows for a solution to be found very efficiently in order of $\\mathcal{O}(N)$\n",
    "operations, see [[shen1]](#shen1) and [[shen95]](#shen95). These solvers are implemented in\n",
    "shenfun for both bases."
   ]
  },
  {
   "cell_type": "markdown",
   "id": "81e844aa",
   "metadata": {
    "editable": true
   },
   "source": [
    "## Method of manufactured solutions\n",
    "\n",
    "In this demo we will use the method of manufactured\n",
    "solutions to demonstrate spectral accuracy of the `shenfun` Dirichlet bases. To\n",
    "this end we choose an analytical function that satisfies the given boundary\n",
    "conditions:"
   ]
  },
  {
   "cell_type": "markdown",
   "id": "a7b27de2",
   "metadata": {
    "editable": true
   },
   "source": [
    "<!-- Equation labels as ordinary links -->\n",
    "<a id=\"eq:u_e\"></a>\n",
    "\n",
    "$$\n",
    "\\begin{equation}\n",
    "u_e(x) = \\sin(k\\pi x)(1-x^2) + a(1-x)/2 + b(1+x)/2, \\label{eq:u_e} \\tag{12}\n",
    "\\end{equation}\n",
    "$$"
   ]
  },
  {
   "cell_type": "markdown",
   "id": "14a5e799",
   "metadata": {
    "editable": true
   },
   "source": [
    "where $k$ is an integer and $a$ and $b$ are constants. Now, feeding $u_e$ through\n",
    "the Laplace operator, we see that the last two linear terms disappear, whereas the\n",
    "first term results in"
   ]
  },
  {
   "cell_type": "markdown",
   "id": "d45e3287",
   "metadata": {
    "editable": true
   },
   "source": [
    "<!-- Equation labels as ordinary links -->\n",
    "<a id=\"_auto7\"></a>\n",
    "\n",
    "$$\n",
    "\\begin{equation}\n",
    " \\nabla^2 u_e(x) = \\frac{d^2 u_e}{dx^2},  \n",
    "\\label{_auto7} \\tag{13}\n",
    "\\end{equation}\n",
    "$$"
   ]
  },
  {
   "cell_type": "markdown",
   "id": "d0f28dd7",
   "metadata": {
    "editable": true
   },
   "source": [
    "<!-- Equation labels as ordinary links -->\n",
    "<a id=\"eq:solution\"></a>\n",
    "\n",
    "$$\n",
    "\\begin{equation}  \n",
    "                  = -4k \\pi x \\cos(k\\pi x) - 2\\sin(k\\pi x) - k^2 \\pi^2 (1 -\n",
    "x^2) \\sin(k \\pi x). \\label{eq:solution} \\tag{14}\n",
    "\\end{equation}\n",
    "$$"
   ]
  },
  {
   "cell_type": "markdown",
   "id": "91f8eb49",
   "metadata": {
    "editable": true
   },
   "source": [
    "Now, setting $f_e(x) = \\nabla^2 u_e(x)$ and solving for $\\nabla^2 u(x) = f_e(x)$,\n",
    "we can compare the numerical solution $u(x)$ with the analytical solution $u_e(x)$\n",
    "and compute error norms."
   ]
  },
  {
   "cell_type": "markdown",
   "id": "fc08f897",
   "metadata": {
    "editable": true
   },
   "source": [
    "## Implementation"
   ]
  },
  {
   "cell_type": "markdown",
   "id": "dc126f5a",
   "metadata": {
    "editable": true
   },
   "source": [
    "### Preamble\n",
    "\n",
    "We will solve Poisson's equation using the [shenfun](https://github.com/spectralDNS/shenfun) Python module. The first thing needed\n",
    "is then to import some of this module's functionality\n",
    "plus some other helper modules, like [Numpy](https://numpy.org) and [Sympy](https://sympy.org):"
   ]
  },
  {
   "cell_type": "code",
   "execution_count": 1,
   "id": "659b5c0d",
   "metadata": {
    "editable": true,
    "execution": {
     "iopub.execute_input": "2024-09-06T11:43:32.397261Z",
     "iopub.status.busy": "2024-09-06T11:43:32.397190Z",
     "iopub.status.idle": "2024-09-06T11:43:33.545558Z",
     "shell.execute_reply": "2024-09-06T11:43:33.545308Z"
    },
    "tags": [
     "thebe-init"
    ]
   },
   "outputs": [],
   "source": [
    "from shenfun import inner, div, grad, TestFunction, TrialFunction, Function, \\\n",
    "    project, Dx, Array, FunctionSpace, dx\n",
    "import numpy as np\n",
    "from sympy import symbols, cos, sin, exp, lambdify"
   ]
  },
  {
   "cell_type": "markdown",
   "id": "cfc9c744",
   "metadata": {
    "editable": true
   },
   "source": [
    "We use `Sympy` for the manufactured solution and `Numpy` for testing."
   ]
  },
  {
   "cell_type": "markdown",
   "id": "40d4aa04",
   "metadata": {
    "editable": true
   },
   "source": [
    "### Manufactured solution\n",
    "\n",
    "The exact solution $u_e(x)$ and the right hand side $f_e(x)$ are created using\n",
    "`Sympy` as follows"
   ]
  },
  {
   "cell_type": "code",
   "execution_count": 2,
   "id": "38c3edf0",
   "metadata": {
    "editable": true,
    "execution": {
     "iopub.execute_input": "2024-09-06T11:43:33.547330Z",
     "iopub.status.busy": "2024-09-06T11:43:33.547102Z",
     "iopub.status.idle": "2024-09-06T11:43:33.559123Z",
     "shell.execute_reply": "2024-09-06T11:43:33.558918Z"
    },
    "tags": [
     "thebe-init"
    ]
   },
   "outputs": [],
   "source": [
    "a = -1\n",
    "b = 1\n",
    "k = 4\n",
    "x = symbols(\"x\")\n",
    "ue = sin(k*np.pi*x)*(1-x**2) + a*(1 - x)/2. + b*(1 + x)/2.\n",
    "fe = ue.diff(x, 2)"
   ]
  },
  {
   "cell_type": "markdown",
   "id": "a66d4067",
   "metadata": {
    "editable": true
   },
   "source": [
    "These solutions are now valid for a continuous domain. The next step is thus to\n",
    "discretize, using a discrete mesh $\\{x_j\\}_{j=0}^{N-1}$ and a finite number of\n",
    "basis functions.\n",
    "\n",
    "Note that it is not mandatory to use `Sympy` for the manufactured solution. Since the\n",
    "solution is known ([14](#eq:solution)), we could just as well simply use `Numpy`\n",
    "to compute $f_e$ at $\\{x_j\\}_{j=0}^{N-1}$. However, with `Sympy` it is much\n",
    "easier to experiment and quickly change the solution."
   ]
  },
  {
   "cell_type": "markdown",
   "id": "e2cfe44f",
   "metadata": {
    "editable": true
   },
   "source": [
    "### Discretization\n",
    "\n",
    "We create a basis with a given number of basis functions, and extract the computational\n",
    "mesh from the basis itself"
   ]
  },
  {
   "cell_type": "code",
   "execution_count": 3,
   "id": "9328ec31",
   "metadata": {
    "editable": true,
    "execution": {
     "iopub.execute_input": "2024-09-06T11:43:33.560414Z",
     "iopub.status.busy": "2024-09-06T11:43:33.560323Z",
     "iopub.status.idle": "2024-09-06T11:43:33.571867Z",
     "shell.execute_reply": "2024-09-06T11:43:33.571636Z"
    },
    "tags": [
     "thebe-init"
    ]
   },
   "outputs": [],
   "source": [
    "N = 32\n",
    "SD = FunctionSpace(N, 'Chebyshev', bc=(a, b))\n",
    "#SD = FunctionSpace(N, 'Legendre', bc=(a, b))"
   ]
  },
  {
   "cell_type": "markdown",
   "id": "db6ef1ac",
   "metadata": {
    "editable": true
   },
   "source": [
    "Note that we can either choose a Legendre or a Chebyshev basis."
   ]
  },
  {
   "cell_type": "markdown",
   "id": "37f9d1b5",
   "metadata": {
    "editable": true
   },
   "source": [
    "### Variational formulation\n",
    "\n",
    "The variational problem ([9](#eq:varform)) can be assembled using `shenfun`'s\n",
    "[TrialFunction](https://shenfun.readthedocs.io/en/latest/shenfun.forms.html#shenfun.forms.arguments.TrialFunction), [TestFunction](https://shenfun.readthedocs.io/en/latest/shenfun.forms.html#shenfun.forms.arguments.TestFunction) and [inner()](https://shenfun.readthedocs.io/en/latest/shenfun.forms.html#shenfun.forms.inner.inner) functions."
   ]
  },
  {
   "cell_type": "code",
   "execution_count": 4,
   "id": "d3f0a739",
   "metadata": {
    "editable": true,
    "execution": {
     "iopub.execute_input": "2024-09-06T11:43:33.573153Z",
     "iopub.status.busy": "2024-09-06T11:43:33.573085Z",
     "iopub.status.idle": "2024-09-06T11:43:33.582031Z",
     "shell.execute_reply": "2024-09-06T11:43:33.581821Z"
    },
    "tags": [
     "thebe-init"
    ]
   },
   "outputs": [],
   "source": [
    "u = TrialFunction(SD)\n",
    "v = TestFunction(SD)\n",
    "# Assemble left hand side matrix\n",
    "A = inner(v, div(grad(u)))\n",
    "# Assemble right hand side\n",
    "fj = Array(SD, buffer=fe)\n",
    "f_hat = Function(SD)\n",
    "f_hat = inner(v, fj, output_array=f_hat)"
   ]
  },
  {
   "cell_type": "markdown",
   "id": "5ecdef9b",
   "metadata": {
    "editable": true
   },
   "source": [
    "Note that the `sympy` function `fe` can be used to initialize the [Array](https://shenfun.readthedocs.io/en/latest/shenfun.forms.html#shenfun.forms.arguments.Array)\n",
    "`fj`. We wrap this Numpy array in an [Array](https://shenfun.readthedocs.io/en/latest/shenfun.forms.html#shenfun.forms.arguments.Array) class\n",
    "(`fj = Array(SD, buffer=fe)`), because an Array\n",
    "is required as input to the [inner()](https://shenfun.readthedocs.io/en/latest/shenfun.forms.html#shenfun.forms.inner.inner) function."
   ]
  },
  {
   "cell_type": "markdown",
   "id": "ee8d601e",
   "metadata": {
    "editable": true
   },
   "source": [
    "### Solve linear equations\n",
    "\n",
    "Finally, solve linear equation system and transform solution from spectral\n",
    "$\\boldsymbol{\\hat{u}}$ vector to the real space $\\{u(x_j)\\}_{j=0}^{N-1}$\n",
    "and then check how the solution corresponds with the exact solution $u_e$.\n",
    "To this end we compute the $L_2$-errornorm using the `shenfun` function\n",
    "[dx()](https://shenfun.readthedocs.io/en/latest/shenfun.utilities.html#shenfun.utilities.dx)"
   ]
  },
  {
   "cell_type": "code",
   "execution_count": 5,
   "id": "3efea157",
   "metadata": {
    "editable": true,
    "execution": {
     "iopub.execute_input": "2024-09-06T11:43:33.583263Z",
     "iopub.status.busy": "2024-09-06T11:43:33.583179Z",
     "iopub.status.idle": "2024-09-06T11:43:33.596634Z",
     "shell.execute_reply": "2024-09-06T11:43:33.596300Z"
    },
    "tags": [
     "thebe-init"
    ]
   },
   "outputs": [
    {
     "name": "stdout",
     "output_type": "stream",
     "text": [
      "Error=2.3565371191241489e-10\n"
     ]
    }
   ],
   "source": [
    "u_hat = A.solve(f_hat)\n",
    "uj = SD.backward(u_hat)\n",
    "ua = Array(SD, buffer=ue)\n",
    "print(\"Error=%2.16e\" %(np.sqrt(dx((uj-ua)**2))))"
   ]
  },
  {
   "cell_type": "markdown",
   "id": "3c8908a6",
   "metadata": {
    "editable": true
   },
   "source": [
    "### Convergence test\n",
    "\n",
    "To do a convergence test we will now create a function `main`, that takes the\n",
    "number of quadrature points as parameter, and prints out\n",
    "the error."
   ]
  },
  {
   "cell_type": "code",
   "execution_count": 6,
   "id": "c69c9d1e",
   "metadata": {
    "editable": true,
    "execution": {
     "iopub.execute_input": "2024-09-06T11:43:33.597990Z",
     "iopub.status.busy": "2024-09-06T11:43:33.597917Z",
     "iopub.status.idle": "2024-09-06T11:43:33.599999Z",
     "shell.execute_reply": "2024-09-06T11:43:33.599789Z"
    },
    "tags": [
     "thebe-init"
    ]
   },
   "outputs": [],
   "source": [
    "def main(N, family='Chebyshev'):\n",
    "    SD = FunctionSpace(N, family=family, bc=(a, b))\n",
    "    u = TrialFunction(SD)\n",
    "    v = TestFunction(SD)\n",
    "\n",
    "    # Get f on quad points\n",
    "    fj = Array(SD, buffer=fe)\n",
    "\n",
    "    # Compute right hand side of Poisson's equation\n",
    "    f_hat = Function(SD)\n",
    "    f_hat = inner(v, fj, output_array=f_hat)\n",
    "\n",
    "    # Get left hand side of Poisson's equation\n",
    "    A = inner(v, div(grad(u)))\n",
    "\n",
    "    f_hat = A.solve(f_hat)\n",
    "    uj = SD.backward(f_hat)\n",
    "\n",
    "    # Compare with analytical solution\n",
    "    ua = Array(SD, buffer=ue)\n",
    "    l2_error = np.linalg.norm(uj-ua)\n",
    "    return l2_error"
   ]
  },
  {
   "cell_type": "markdown",
   "id": "8199b9c0",
   "metadata": {
    "editable": true
   },
   "source": [
    "For example, we find the error of a Chebyshev discretization\n",
    "using 12 quadrature points as"
   ]
  },
  {
   "cell_type": "code",
   "execution_count": 7,
   "id": "e2444fa7",
   "metadata": {
    "editable": true,
    "execution": {
     "iopub.execute_input": "2024-09-06T11:43:33.601279Z",
     "iopub.status.busy": "2024-09-06T11:43:33.601205Z",
     "iopub.status.idle": "2024-09-06T11:43:33.608829Z",
     "shell.execute_reply": "2024-09-06T11:43:33.608629Z"
    },
    "tags": [
     "thebe-init"
    ]
   },
   "outputs": [
    {
     "data": {
      "text/plain": [
       "1.1654916318123927"
      ]
     },
     "execution_count": 7,
     "metadata": {},
     "output_type": "execute_result"
    }
   ],
   "source": [
    "main(12, 'Chebyshev')"
   ]
  },
  {
   "cell_type": "markdown",
   "id": "41161308",
   "metadata": {
    "editable": true
   },
   "source": [
    "To get the convergence we call `main` for a list\n",
    "of $N=[12, 16, \\ldots, 48]$, and collect the errornorms in\n",
    "arrays to be plotted. The error can be plotted using\n",
    "[matplotlib](https://matplotlib.org), and the generated\n",
    "figure is also shown in this demos summary."
   ]
  },
  {
   "cell_type": "code",
   "execution_count": 8,
   "id": "be4c522a",
   "metadata": {
    "editable": true,
    "execution": {
     "iopub.execute_input": "2024-09-06T11:43:33.610014Z",
     "iopub.status.busy": "2024-09-06T11:43:33.609945Z",
     "iopub.status.idle": "2024-09-06T11:43:34.409500Z",
     "shell.execute_reply": "2024-09-06T11:43:34.409288Z"
    },
    "tags": [
     "thebe-init"
    ]
   },
   "outputs": [
    {
     "data": {
      "image/png": "[encoded data removed]",
      "text/plain": [
       "<Figure size 600x400 with 1 Axes>"
      ]
     },
     "metadata": {},
     "output_type": "display_data"
    }
   ],
   "source": [
    "%matplotlib inline\n",
    "\n",
    "import matplotlib.pyplot as plt\n",
    "\n",
    "N = range(12, 50, 4)\n",
    "error = {}\n",
    "for basis in ('legendre', 'chebyshev'):\n",
    "    error[basis] = []\n",
    "    for i in range(len(N)):\n",
    "        errN = main(N[i], basis)\n",
    "        error[basis].append(errN)\n",
    "\n",
    "plt.figure(figsize=(6, 4))\n",
    "for basis, col in zip(('legendre', 'chebyshev'), ('r', 'b')):\n",
    "    plt.semilogy(N, error[basis], col, linewidth=2)\n",
    "plt.title('Convergence of Poisson solvers 1D')\n",
    "plt.xlabel('N')\n",
    "plt.ylabel('Error norm')\n",
    "plt.legend(('Legendre', 'Chebyshev'))\n",
    "plt.show()"
   ]
  },
  {
   "cell_type": "markdown",
   "id": "09bd3e41",
   "metadata": {
    "editable": true
   },
   "source": [
    "The spectral convergence is evident and we can see that\n",
    "after $N=40$ roundoff errors dominate as the errornorm trails off around $10^{-14}$."
   ]
  },
  {
   "cell_type": "markdown",
   "id": "d778fc61",
   "metadata": {
    "editable": true
   },
   "source": [
    "## Complete solver\n",
    "<a id=\"sec:complete\"></a>\n",
    "\n",
    "A complete solver, that can use any family of bases (Chebyshev, Legendre, Jacobi, Chebyshev second kind),\n",
    "and any kind of boundary condition, can be found [here](https://github.com/spectralDNS/shenfun/blob/master/demo/poisson1D.py).\n",
    "\n",
    "<!-- ======= Bibliography ======= -->\n",
    "\n",
    "1. <a id=\"shen1\"></a> **J. Shen**.  Efficient Spectral-Galerkin Method I. Direct Solvers of Second- and Fourth-Order Equations Using Legendre Polynomials, *SIAM Journal on Scientific Computing*, 15(6), pp. 1489-1505, [doi: 10.1137/0915089](https://dx.doi.org/10.1137/0915089), 1994.\n",
    "\n",
    "2. <a id=\"shen95\"></a> **J. Shen**.  Efficient Spectral-Galerkin Method II. Direct Solvers of Second- and Fourth-Order Equations Using Chebyshev Polynomials, *SIAM Journal on Scientific Computing*, 16(1), pp. 74-87, [doi: 10.1137/0916006](https://dx.doi.org/10.1137/0916006), 1995."
   ]
  }
 ],
 "metadata": {
  "kernelspec": {
   "display_name": "Python 3",
   "language": "python",
   "name": "python3"
  },
  "language_info": {
   "codemirror_mode": {
    "name": "ipython",
    "version": 3
   },
   "file_extension": ".py",
   "mimetype": "text/x-python",
   "name": "python",
   "nbconvert_exporter": "python",
   "pygments_lexer": "ipython3",
   "version": "3.12.3"
  }
 },
 "nbformat": 4,
 "nbformat_minor": 5
}
