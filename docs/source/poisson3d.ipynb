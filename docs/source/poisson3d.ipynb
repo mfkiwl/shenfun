{
 "cells": [
  {
   "cell_type": "markdown",
   "id": "8da58369",
   "metadata": {
    "editable": true
   },
   "source": [
    "<!-- File automatically generated using DocOnce (https://github.com/doconce/doconce/):\n",
    "doconce format ipynb poisson3d.do.txt  -->\n",
    "\n",
    "# Demo - 3D Poisson's equation\n",
    "**Mikael Mortensen** (email: `mikaem@math.uio.no`), Department of Mathematics, University of Oslo.\n",
    "\n",
    "Date: **April 13, 2018**\n",
    "\n",
    "**Summary.** This is a demonstration of how the Python module [shenfun](https://github.com/spectralDNS/shenfun) can be used to solve a 3D Poisson\n",
    "equation in a 3D tensor product domain that has homogeneous Dirichlet boundary\n",
    "conditions in one direction and periodicity in the\n",
    "remaining two. The solver described runs with MPI without any further\n",
    "considerations required from the user. Spectral convergence, as shown in [Figure 1](#fig:3d:ct0), is demonstrated.\n",
    "The demo is implemented in slightly more generic terms (more boundary conditions) in\n",
    "[poisson3D.py](https://github.com/spectralDNS/shenfun/blob/master/demo/poisson3D.py), and the numerical method is is described in more detail by J. Shen [[shen1]](#shen1) and [[shen95]](#shen95).\n",
    "\n",
    "<!-- dom:FIGURE: [https://rawgit.com/spectralDNS/spectralutilities/master/figures/poisson3D_errornorm.png] Convergence of 3D Poisson solvers for both Legendre and Chebyshev modified basis function. <a id=\"fig:3d:ct0\"></a> -->\n",
    "<!-- begin figure -->\n",
    "<a id=\"fig:3d:ct0\"></a>\n",
    "\n",
    "<img src=\"https://rawgit.com/spectralDNS/spectralutilities/master/figures/poisson3D_errornorm.png\" ><p style=\"font-size: 0.9em\"><i>Figure 1: Convergence of 3D Poisson solvers for both Legendre and Chebyshev modified basis function.</i></p>\n",
    "<!-- end figure -->"
   ]
  },
  {
   "cell_type": "markdown",
   "id": "f0074255",
   "metadata": {
    "editable": true
   },
   "source": [
    "## Poisson's equation\n",
    "<a id=\"demo:poisson3d\"></a>\n",
    "\n",
    "Poisson's equation is given as"
   ]
  },
  {
   "cell_type": "markdown",
   "id": "89ac398c",
   "metadata": {
    "editable": true
   },
   "source": [
    "<!-- Equation labels as ordinary links -->\n",
    "<a id=\"eq:3d:poisson\"></a>\n",
    "\n",
    "$$\n",
    "\\begin{equation}\n",
    "\\nabla^2 u(\\boldsymbol{x}) = f(\\boldsymbol{x}) \\quad \\text{for }\\, \\boldsymbol{x}=(x, y, z) \\in \\Omega, \\label{eq:3d:poisson} \\tag{1}\n",
    "\\end{equation}\n",
    "$$"
   ]
  },
  {
   "cell_type": "markdown",
   "id": "daa1a9ef",
   "metadata": {
    "editable": true
   },
   "source": [
    "<!-- Equation labels as ordinary links -->\n",
    "<a id=\"_auto1\"></a>\n",
    "\n",
    "$$\n",
    "\\begin{equation}  \n",
    "u(\\pm 1 ,y, z) =0, \n",
    "\\label{_auto1} \\tag{2}\n",
    "\\end{equation}\n",
    "$$"
   ]
  },
  {
   "cell_type": "markdown",
   "id": "9d4a83ba",
   "metadata": {
    "editable": true
   },
   "source": [
    "<!-- Equation labels as ordinary links -->\n",
    "<a id=\"_auto2\"></a>\n",
    "\n",
    "$$\n",
    "\\begin{equation}  \n",
    "u(x, 2\\pi, z) = u(x, 0, z), \n",
    "\\label{_auto2} \\tag{3}\n",
    "\\end{equation}\n",
    "$$"
   ]
  },
  {
   "cell_type": "markdown",
   "id": "e210d64c",
   "metadata": {
    "editable": true
   },
   "source": [
    "<!-- Equation labels as ordinary links -->\n",
    "<a id=\"_auto3\"></a>\n",
    "\n",
    "$$\n",
    "\\begin{equation}  \n",
    "u(x, y, 2\\pi) = u(x, y, 0),\n",
    "\\label{_auto3} \\tag{4}\n",
    "\\end{equation}\n",
    "$$"
   ]
  },
  {
   "cell_type": "markdown",
   "id": "4e547b1b",
   "metadata": {
    "editable": true
   },
   "source": [
    "where $u(\\boldsymbol{x})$ is the solution and $f(\\boldsymbol{x})$ is a function. The domain\n",
    "$\\Omega = (-1, 1)\\times [0, 2\\pi)^2$.\n",
    "\n",
    "To solve Eq. ([1](#eq:3d:poisson)) with the Galerkin method we will make use of\n",
    "smooth basis functions, $v(\\boldsymbol{x})$, that satisfy the given boundary\n",
    "conditions. To this end we will use one basis function for the $x$-direction,\n",
    "$\\mathcal{X}(x)$,\n",
    "one for the $y$-direction, $\\mathcal{Y}(y)$, and one for the $z$-direction,\n",
    "$\\mathcal{Z}(z)$. And\n",
    "then we create three-dimensional basis functions like"
   ]
  },
  {
   "cell_type": "markdown",
   "id": "db6636f2",
   "metadata": {
    "editable": true
   },
   "source": [
    "$$\n",
    "v(x, y, z) = \\mathcal{X}(x) \\mathcal{Y}(y) \\mathcal{Z} (z).\n",
    "$$"
   ]
  },
  {
   "cell_type": "markdown",
   "id": "551b7efa",
   "metadata": {
    "editable": true
   },
   "source": [
    "The basis functions $\\mathcal{Y}(y)$ and $\\mathcal{Z}(z)$ are chosen as Fourier exponentials, since these\n",
    "functions are periodic. Likewise, the basis functions $\\mathcal{X}(x)$ are chosen as\n",
    "modified Legendre or Chebyshev polynomials, using $\\phi_l(x)$ to refer to either\n",
    "one"
   ]
  },
  {
   "cell_type": "markdown",
   "id": "ef225f31",
   "metadata": {
    "editable": true
   },
   "source": [
    "<!-- Equation labels as ordinary links -->\n",
    "<a id=\"_auto4\"></a>\n",
    "\n",
    "$$\n",
    "\\begin{equation}\n",
    "\\mathcal{X}_l(x) = \\phi_l(x) - \\phi_{l+2}(x), \\forall \\, l \\in \\boldsymbol{l}^{N_0},\n",
    "\\label{_auto4} \\tag{5}\n",
    "\\end{equation}\n",
    "$$"
   ]
  },
  {
   "cell_type": "markdown",
   "id": "e3f328da",
   "metadata": {
    "editable": true
   },
   "source": [
    "<!-- Equation labels as ordinary links -->\n",
    "<a id=\"_auto5\"></a>\n",
    "\n",
    "$$\n",
    "\\begin{equation}  \n",
    "\\mathcal{Y}_m(y) =  e^{\\imath m y}, \\forall \\, m \\in \\boldsymbol{m}^{N_1}, \n",
    "\\label{_auto5} \\tag{6}\n",
    "\\end{equation}\n",
    "$$"
   ]
  },
  {
   "cell_type": "markdown",
   "id": "8da83855",
   "metadata": {
    "editable": true
   },
   "source": [
    "<!-- Equation labels as ordinary links -->\n",
    "<a id=\"_auto6\"></a>\n",
    "\n",
    "$$\n",
    "\\begin{equation}  \n",
    "\\mathcal{Z}_n(z) = e^{\\imath n z}, \\forall \\, n \\in \\boldsymbol{n}^{N_2},\n",
    "\\label{_auto6} \\tag{7}\n",
    "\\end{equation}\n",
    "$$"
   ]
  },
  {
   "cell_type": "markdown",
   "id": "be2ba56e",
   "metadata": {
    "editable": true
   },
   "source": [
    "where the size of the discretized problem is $\\boldsymbol{N} = (N_0, N_1, N_2)$,\n",
    "$\\boldsymbol{l}^{N_0} = (0, 1, \\ldots, N_0-3)$, $\\boldsymbol{m}^{N_1} =\n",
    "(-N_1/2, -N_1/2+1, \\ldots, N_1/2-1)$ and $\\boldsymbol{n}^{N_2} = (-N_2/2, -N_2/2+1,\n",
    "\\ldots, N_2/2-1)$. However, due to [Hermitian symmetry](https://docs.scipy.org/doc/numpy-1.13.0/reference/generated/numpy.fft.rfft.html#numpy.fft.rfft), we only store $N_2/2+1$\n",
    "wavenumbers in the $z$-direction, such that $\\boldsymbol{n}^{N_2} = (0, 1, \\ldots,\n",
    "N_2/2)$. We refer to the Cartesian wavenumber mesh on vector form as $\\boldsymbol{k}$:"
   ]
  },
  {
   "cell_type": "markdown",
   "id": "552b4035",
   "metadata": {
    "editable": true
   },
   "source": [
    "$$\n",
    "\\boldsymbol{k} = \\{(l, m, n)\\, | \\,(l, m, n)  \\in \\boldsymbol{l}^{N_0} \\times \\boldsymbol{m}^{N_1} \\times \\boldsymbol{n}^{N_2}\\}.\n",
    "$$"
   ]
  },
  {
   "cell_type": "markdown",
   "id": "f3af3fa7",
   "metadata": {
    "editable": true
   },
   "source": [
    "We have the one-dimensional spaces"
   ]
  },
  {
   "cell_type": "markdown",
   "id": "1035ba0c",
   "metadata": {
    "editable": true
   },
   "source": [
    "<!-- Equation labels as ordinary links -->\n",
    "<a id=\"_auto7\"></a>\n",
    "\n",
    "$$\n",
    "\\begin{equation}\n",
    "V^{N_0} = \\text{span}\\{ \\mathcal{X}_l \\}_{l\\in\\boldsymbol{l}^{N_0}}, \n",
    "\\label{_auto7} \\tag{8}\n",
    "\\end{equation}\n",
    "$$"
   ]
  },
  {
   "cell_type": "markdown",
   "id": "bc0ac2da",
   "metadata": {
    "editable": true
   },
   "source": [
    "<!-- Equation labels as ordinary links -->\n",
    "<a id=\"_auto8\"></a>\n",
    "\n",
    "$$\n",
    "\\begin{equation}  \n",
    "V^{N_1} = \\text{span}\\{ \\mathcal{Y}_m \\}_{m\\in\\boldsymbol{m}^{N_1}}, \n",
    "\\label{_auto8} \\tag{9}\n",
    "\\end{equation}\n",
    "$$"
   ]
  },
  {
   "cell_type": "markdown",
   "id": "92916e18",
   "metadata": {
    "editable": true
   },
   "source": [
    "<!-- Equation labels as ordinary links -->\n",
    "<a id=\"_auto9\"></a>\n",
    "\n",
    "$$\n",
    "\\begin{equation}  \n",
    "V^{N_2} = \\text{span}\\{ \\mathcal{Z}_n \\}_{n\\in\\boldsymbol{n}^{N_2}},\n",
    "\\label{_auto9} \\tag{10}\n",
    "\\end{equation}\n",
    "$$"
   ]
  },
  {
   "cell_type": "markdown",
   "id": "dbcb49ab",
   "metadata": {
    "editable": true
   },
   "source": [
    "and from these we create a tensor product space $W^{\\boldsymbol{N}}(\\boldsymbol{x})$"
   ]
  },
  {
   "cell_type": "markdown",
   "id": "fd8d4ee7",
   "metadata": {
    "editable": true
   },
   "source": [
    "<!-- Equation labels as ordinary links -->\n",
    "<a id=\"_auto10\"></a>\n",
    "\n",
    "$$\n",
    "\\begin{equation}\n",
    "W^{\\boldsymbol{N}}(\\boldsymbol{x}) = V^{N_0}(x) \\otimes V^{N_1}(y) \\otimes V^{N_2}(z).\n",
    "\\label{_auto10} \\tag{11}\n",
    "\\end{equation}\n",
    "$$"
   ]
  },
  {
   "cell_type": "markdown",
   "id": "a8e11dc8",
   "metadata": {
    "editable": true
   },
   "source": [
    "And then we look for discrete solutions $u \\in W^{\\boldsymbol{N}}$ like"
   ]
  },
  {
   "cell_type": "markdown",
   "id": "acaedc94",
   "metadata": {
    "editable": true
   },
   "source": [
    "<!-- Equation labels as ordinary links -->\n",
    "<a id=\"eq:3d:u\"></a>\n",
    "\n",
    "$$\n",
    "\\begin{equation}\n",
    "u(\\boldsymbol{x}) = \\sum_{l\\in \\boldsymbol{l}^{N_0}} \\sum_{m\\in \\boldsymbol{m}^{N_1}}\\sum_{n\\in\n",
    "\\boldsymbol{n}^{N_2}}\\hat{u}_{lmn} \\mathcal{X}_l(x) \\mathcal{Y}_m(y) \\mathcal{Z}_n(z), \\label{eq:3d:u} \\tag{12} \n",
    "\\end{equation}\n",
    "$$"
   ]
  },
  {
   "cell_type": "markdown",
   "id": "423c7214",
   "metadata": {
    "editable": true
   },
   "source": [
    "<!-- Equation labels as ordinary links -->\n",
    "<a id=\"_auto11\"></a>\n",
    "\n",
    "$$\n",
    "\\begin{equation}  \n",
    " = \\sum_{\\boldsymbol{\\textsf{k}} \\in \\boldsymbol{k}}\\hat{u}_{\\boldsymbol{\\textsf{k}}} v_{\\boldsymbol{\\textsf{k}}}(\\boldsymbol{x}),\n",
    "\\label{_auto11} \\tag{13}\n",
    "\\end{equation}\n",
    "$$"
   ]
  },
  {
   "cell_type": "markdown",
   "id": "5ccbfa50",
   "metadata": {
    "editable": true
   },
   "source": [
    "where $\\hat{u}_{lmn}$ are components of the expansion coefficients for $u$ and\n",
    "the second form, $\\{\\hat{u}_{\\boldsymbol{\\textsf{k}}}\\}_{\\boldsymbol{\\textsf{k}}\\in\\boldsymbol{k}}$, is a shorter,\n",
    "simplified notation, with sans-serif $\\boldsymbol{\\textsf{k}}=(l, m, n)$.\n",
    "The expansion coefficients are the unknowns in the spectral Galerkin method.\n",
    "\n",
    "We now formulate a variational problem using the Galerkin method: Find $u \\in\n",
    "W^{\\boldsymbol{N}}$ such that"
   ]
  },
  {
   "cell_type": "markdown",
   "id": "8dc22608",
   "metadata": {
    "editable": true
   },
   "source": [
    "<!-- Equation labels as ordinary links -->\n",
    "<a id=\"eq:3d:varform\"></a>\n",
    "\n",
    "$$\n",
    "\\begin{equation}\n",
    "\\int_{\\Omega} \\nabla^2 u \\, \\overline{v} \\, w\\, \\boldsymbol{dx} = \\int_{\\Omega} f \\,\n",
    "\\overline{v}\\, w\\, \\boldsymbol{dx} \\quad\n",
    "\\forall v \\, \\in \\, W^{\\boldsymbol{N}}. \\label{eq:3d:varform} \\tag{14}\n",
    "\\end{equation}\n",
    "$$"
   ]
  },
  {
   "cell_type": "markdown",
   "id": "2dc04875",
   "metadata": {
    "editable": true
   },
   "source": [
    "Here $\\boldsymbol{dx}=dxdydz$, and the overline represents a complex conjugate, which is needed here because\n",
    "the Fourier exponentials are complex functions.\n",
    "The weighted integrals, weighted by $w(\\boldsymbol{x})$, are called inner products, and a common notation is"
   ]
  },
  {
   "cell_type": "markdown",
   "id": "92d21ff5",
   "metadata": {
    "editable": true
   },
   "source": [
    "<!-- Equation labels as ordinary links -->\n",
    "<a id=\"_auto12\"></a>\n",
    "\n",
    "$$\n",
    "\\begin{equation}\n",
    "\\int_{\\Omega} u \\, \\overline{v} \\, w\\, \\boldsymbol{dx} = \\langle u, v\\rangle _w.\n",
    "\\label{_auto12} \\tag{15}\n",
    "\\end{equation}\n",
    "$$"
   ]
  },
  {
   "cell_type": "markdown",
   "id": "96f41098",
   "metadata": {
    "editable": true
   },
   "source": [
    "The integral can either be computed exactly, or with quadrature. The advantage\n",
    "of the latter is that it is faster (through Fast Fourier transforms),\n",
    "and that non-linear terms may be computed just as quickly as linear.\n",
    "For a linear problem, it does not make much of a difference, if any at all.\n",
    "Approximating the integral with quadrature, we obtain"
   ]
  },
  {
   "cell_type": "markdown",
   "id": "e83fdfbe",
   "metadata": {
    "editable": true
   },
   "source": [
    "$$\n",
    "\\begin{align*}\n",
    "\\int_{\\Omega} u \\, \\overline{v} \\, w\\, \\boldsymbol{dx} &\\approx \\langle u, v\n",
    "\\rangle_w^{\\boldsymbol{N}},  \\\\ \n",
    "&\\approx \\sum_{i=0}^{N_0-1} \\sum_{j=0}^{N_1-1}\\sum_{k=0}^{N_2-1} u(x_i, y_j, z_k) \\overline{v}(x_i, y_j, z_k) w_{i}w_jw_k,\n",
    "\\end{align*}\n",
    "$$"
   ]
  },
  {
   "cell_type": "markdown",
   "id": "c9146845",
   "metadata": {
    "editable": true
   },
   "source": [
    "where $\\{w_i\\}_{i=0}^{N_0-1}$, $\\{w_j\\}_{j=0}^{N_1-1}$, $\\{w_k\\}_{k=0}^{N_2-1}$ now are the quadrature weights for the three different directions. The quadrature points\n",
    "$\\{x_i\\}_{i=0}^{N_0-1}$ are specific to the chosen basis, and even within basis there\n",
    "are two different choices based on which quadrature rule is selected, either\n",
    "Gauss or Gauss-Lobatto. The quadrature points for the Fourier bases are simply\n",
    "uniformly distributed throughout the domain.\n",
    "\n",
    "Inserting for test function ([12](#eq:3d:u)) and trialfunction\n",
    "$v_{pqr} = \\mathcal{X}_{p} \\mathcal{Y}_q \\mathcal{Z}_r$ on the\n",
    "left hand side of ([14](#eq:3d:varform)), we get (with summation on repeated indices\n",
    "to avoid too much clutter)"
   ]
  },
  {
   "cell_type": "markdown",
   "id": "21fc36e3",
   "metadata": {
    "editable": true
   },
   "source": [
    "$$\n",
    "\\begin{align*}\n",
    "\\langle \\nabla^2u, v \\rangle_w^{\\boldsymbol{N}} &= \\left\\langle \\nabla^2\\sum_{l\\in \\boldsymbol{l}^{N_0}}\n",
    "\\sum_{m\\in \\boldsymbol{m}^{N_1}}\\sum_{n\\in \\boldsymbol{n}^{N_2}}\\hat{u}_{lmn}\n",
    "\\mathcal{X}_{l} \\mathcal{Y}_m \\mathcal{Z}_n,\n",
    "\\mathcal{X}_{p} \\mathcal{Y}_q \\mathcal{Z}_r \\right\\rangle_w^{\\boldsymbol{N}}, \\\\ \n",
    "    &= \\left[\\left(\\mathcal{X}_l^{''}, \\mathcal{X}_p \\right)_w^N - (m^2+n^2)\\left(\\mathcal{X}_l, \\mathcal{X}_p \\right)_w^N  \\right]\\delta_{mq} \\delta_{nr} \\hat{u}_{lmn}, \\\\ \n",
    "    &= \\left( a_{pl} - (m^2 + n^2)b_{pl}\\right) \\hat{u}_{lqr}, \\quad \\forall (p,q,r) \\in \\boldsymbol{k},\n",
    "\\end{align*}\n",
    "$$"
   ]
  },
  {
   "cell_type": "markdown",
   "id": "bad9c02f",
   "metadata": {
    "editable": true
   },
   "source": [
    "where the notation $(\\cdot, \\cdot)_w^{N_0}$"
   ]
  },
  {
   "cell_type": "markdown",
   "id": "f5ec1f67",
   "metadata": {
    "editable": true
   },
   "source": [
    "<!-- Equation labels as ordinary links -->\n",
    "<a id=\"_auto13\"></a>\n",
    "\n",
    "$$\n",
    "\\begin{equation}\n",
    "b_{pl} = \\left( \\mathcal{X}_l, \\mathcal{X}_p \\right)_w^{N_0} = \\sum_{i=0}^{N_0-1} \\mathcal{X}_l(x_i)\n",
    "\\mathcal{X}_p(x_i) w(x_i),\n",
    "\\label{_auto13} \\tag{16}\n",
    "\\end{equation}\n",
    "$$"
   ]
  },
  {
   "cell_type": "markdown",
   "id": "d98f0d68",
   "metadata": {
    "editable": true
   },
   "source": [
    "is used to represent a discrete $L_2$ inner product along only the first, nonperiodic,\n",
    "direction. The delta functions above come from integrating over the two periodic\n",
    "directions, where we use constant weight functions $w=1/(2\\pi)$ in the\n",
    "inner products"
   ]
  },
  {
   "cell_type": "markdown",
   "id": "31a7b9e0",
   "metadata": {
    "editable": true
   },
   "source": [
    "<!-- Equation labels as ordinary links -->\n",
    "<a id=\"eq:delta0\"></a>\n",
    "\n",
    "$$\n",
    "\\begin{equation}\n",
    "\\int_0^{2\\pi} \\mathcal{Y}_m(y) \\overline{\\mathcal{Y}}_q(y) \\frac{1}{2\\pi} dy = \\delta_{mq}, \\label{eq:delta0} \\tag{17}\n",
    "\\end{equation}\n",
    "$$"
   ]
  },
  {
   "cell_type": "markdown",
   "id": "9fd98dac",
   "metadata": {
    "editable": true
   },
   "source": [
    "<!-- Equation labels as ordinary links -->\n",
    "<a id=\"eq:delta1\"></a>\n",
    "\n",
    "$$\n",
    "\\begin{equation}\n",
    "\\int_0^{2\\pi} \\mathcal{Z}_n(z) \\overline{\\mathcal{Z}}_r(z) \\frac{1}{2\\pi} dz = \\delta_{nr}. \\label{eq:delta1} \\tag{18}\n",
    "\\end{equation}\n",
    "$$"
   ]
  },
  {
   "cell_type": "markdown",
   "id": "ca9501a2",
   "metadata": {
    "editable": true
   },
   "source": [
    "The Kronecker delta-function $\\delta_{ij}$ is one for $i=j$ and\n",
    "zero otherwise.\n",
    "\n",
    "The right hand side of Eq. ([14](#eq:3d:varform)) is computed as"
   ]
  },
  {
   "cell_type": "markdown",
   "id": "f7ae0369",
   "metadata": {
    "editable": true
   },
   "source": [
    "<!-- Equation labels as ordinary links -->\n",
    "<a id=\"_auto14\"></a>\n",
    "\n",
    "$$\n",
    "\\begin{equation}\n",
    "\\tilde{f}_{pqr} = \\left\\langle f, \\mathcal{X}_{p}\n",
    "\\mathcal{Y}_q \\mathcal{Z}_r  \\right \\rangle_w^{\\boldsymbol{N}},\n",
    "\\label{_auto14} \\tag{19}\n",
    "\\end{equation}\n",
    "$$"
   ]
  },
  {
   "cell_type": "markdown",
   "id": "654013fb",
   "metadata": {
    "editable": true
   },
   "source": [
    "where a tilde is used because this is not a complete transform of the function\n",
    "$f$, but only an inner product.\n",
    "\n",
    "The linear system of equations to solve for the expansion coefficients can now\n",
    "be found as follows"
   ]
  },
  {
   "cell_type": "markdown",
   "id": "a41c8cd2",
   "metadata": {
    "editable": true
   },
   "source": [
    "<!-- Equation labels as ordinary links -->\n",
    "<a id=\"eq:AB\"></a>\n",
    "\n",
    "$$\n",
    "\\begin{equation}\n",
    "\\left(a_{lp} - (m^2+n^2)b_{lp}\\right) \\hat{u}_{pmn} =\n",
    "\\tilde{f}_{lmn}\\quad \\forall \\, (l,m,n) \\in \\boldsymbol{k}. \\label{eq:AB} \\tag{20}\n",
    "\\end{equation}\n",
    "$$"
   ]
  },
  {
   "cell_type": "markdown",
   "id": "f6850f1c",
   "metadata": {
    "editable": true
   },
   "source": [
    "Now, when $\\hat{\\boldsymbol{u}} = \\{\\hat{u}_{\\boldsymbol{\\textsf{k}}}\\}_{\\boldsymbol{\\textsf{k}} \\in \\boldsymbol{k}}$ is\n",
    "found by solving this linear system over the\n",
    "entire computational mesh, it may be\n",
    "transformed to real space $u(\\boldsymbol{x})$ using ([12](#eq:3d:u)). Note that the matrices\n",
    "$A \\in \\mathbb{R}^{N_0-2 \\times N_0-2}$ and $B \\in \\mathbb{R}^{N_0-2 \\times N_0-2}$\n",
    "differ for Legendre or Chebyshev bases, but\n",
    "for either case they have a\n",
    "special structure that allows for a solution to be found very efficiently\n",
    "in the order of $\\mathcal{O}(N_0-3)$ operations given $m$ and $n$, see\n",
    "[[shen1]](#shen1) and [[shen95]](#shen95). Fast solvers for ([20](#eq:AB)) are implemented in `shenfun` for both bases."
   ]
  },
  {
   "cell_type": "markdown",
   "id": "cc81feaf",
   "metadata": {
    "editable": true
   },
   "source": [
    "### Method of manufactured solutions\n",
    "\n",
    "In this demo we will use the method of manufactured\n",
    "solutions to demonstrate spectral accuracy of the `shenfun` bases. To\n",
    "this end we choose a smooth analytical function that satisfies the given boundary\n",
    "conditions:"
   ]
  },
  {
   "cell_type": "markdown",
   "id": "f7eae13e",
   "metadata": {
    "editable": true
   },
   "source": [
    "<!-- Equation labels as ordinary links -->\n",
    "<a id=\"eq:3d:u_e\"></a>\n",
    "\n",
    "$$\n",
    "\\begin{equation}\n",
    "u_e(x, y, z) = \\left(\\cos(4x) + \\sin(2y) + \\sin(4z)\\right)(1-x^2). \\label{eq:3d:u_e} \\tag{21}\n",
    "\\end{equation}\n",
    "$$"
   ]
  },
  {
   "cell_type": "markdown",
   "id": "7cc93b44",
   "metadata": {
    "editable": true
   },
   "source": [
    "Sending $u_e$ through the Laplace operator, we obtain the right hand side"
   ]
  },
  {
   "cell_type": "markdown",
   "id": "b64405fc",
   "metadata": {
    "editable": true
   },
   "source": [
    "<!-- Equation labels as ordinary links -->\n",
    "<a id=\"eq:3d:solution\"></a>\n",
    "\n",
    "$$\n",
    "\\begin{equation}\n",
    " \\nabla^2 u_e(x,y,z) = -16(1 - x^2) \\cos(4 x) + 16 x \\sin(4 x) - 2 \\cos(4 x)\n",
    "                  - (1-x^2)(4 \\sin(2y) + 16\\sin(4z)).  \\label{eq:3d:solution} \\tag{22}\n",
    "\\end{equation}\n",
    "$$"
   ]
  },
  {
   "cell_type": "markdown",
   "id": "bc33b415",
   "metadata": {
    "editable": true
   },
   "source": [
    "Now, setting $f_e(\\boldsymbol{x}) = \\nabla^2 u_e(\\boldsymbol{x})$ and solving for $\\nabla^2\n",
    "u(\\boldsymbol{x}) = f_e(\\boldsymbol{x})$, we can compare the numerical solution $u(\\boldsymbol{x})$ with\n",
    "the analytical solution $u_e(\\boldsymbol{x})$ and compute error norms."
   ]
  },
  {
   "cell_type": "markdown",
   "id": "fc08f897",
   "metadata": {
    "editable": true
   },
   "source": [
    "## Implementation"
   ]
  },
  {
   "cell_type": "markdown",
   "id": "09a2f0ce",
   "metadata": {
    "editable": true
   },
   "source": [
    "### Preamble\n",
    "\n",
    "We will solve the Poisson problem using the [shenfun](https://github.com/spectralDNS/shenfun) Python module. The first thing needed\n",
    "is then to import some of this module's functionality\n",
    "plus some other helper modules, like [Numpy](https://numpy.org) and [Sympy](https://sympy.org):"
   ]
  },
  {
   "cell_type": "code",
   "execution_count": 1,
   "id": "edf17730",
   "metadata": {
    "editable": true,
    "execution": {
     "iopub.execute_input": "2024-08-17T17:13:22.804953Z",
     "iopub.status.busy": "2024-08-17T17:13:22.804671Z",
     "iopub.status.idle": "2024-08-17T17:13:23.158723Z",
     "shell.execute_reply": "2024-08-17T17:13:23.158423Z"
    },
    "tags": [
     "thebe-init"
    ]
   },
   "outputs": [],
   "source": [
    "from sympy import symbols, cos, sin, exp, lambdify\n",
    "import numpy as np\n",
    "from shenfun.tensorproductspace import TensorProductSpace\n",
    "from shenfun import inner, div, grad, TestFunction, TrialFunction, Function, \\\n",
    "    project, Dx, FunctionSpace, comm, Array, chebyshev, dx, la"
   ]
  },
  {
   "cell_type": "markdown",
   "id": "c73b4c22",
   "metadata": {
    "editable": true
   },
   "source": [
    "We use `Sympy` for the manufactured solution and `Numpy` for testing. MPI for\n",
    "Python (`mpi4py`) is required for running the solver with MPI."
   ]
  },
  {
   "cell_type": "markdown",
   "id": "5f7917d3",
   "metadata": {
    "editable": true
   },
   "source": [
    "### Manufactured solution\n",
    "\n",
    "The exact solution $u_e(x, y, z)$ and the right hand side $f_e(x, y, z)$ are created using `Sympy` as follows"
   ]
  },
  {
   "cell_type": "code",
   "execution_count": 2,
   "id": "31c9285d",
   "metadata": {
    "editable": true,
    "execution": {
     "iopub.execute_input": "2024-08-17T17:13:23.160398Z",
     "iopub.status.busy": "2024-08-17T17:13:23.160188Z",
     "iopub.status.idle": "2024-08-17T17:13:23.173744Z",
     "shell.execute_reply": "2024-08-17T17:13:23.173512Z"
    },
    "tags": [
     "thebe-init"
    ]
   },
   "outputs": [],
   "source": [
    "x, y, z = symbols(\"x,y,z\")\n",
    "ue = (cos(4*x) + sin(2*y) + sin(4*z))*(1-x**2)\n",
    "fe = ue.diff(x, 2) + ue.diff(y, 2) + ue.diff(z, 2)"
   ]
  },
  {
   "cell_type": "markdown",
   "id": "bd9f1e6e",
   "metadata": {
    "editable": true
   },
   "source": [
    "These solutions are now valid for a continuous domain. The next step is thus to\n",
    "discretize, using the computational mesh"
   ]
  },
  {
   "cell_type": "markdown",
   "id": "dd64ad46",
   "metadata": {
    "editable": true
   },
   "source": [
    "$$\n",
    "(x_i, y_j, z_k)\\, \\forall \\, (i, j, k) \\in [0, 1,\\ldots, N_0-1] \\times [0, 1, \\ldots, N_1-1] \\times [0, 1, \\ldots, N_2-1]\n",
    "$$"
   ]
  },
  {
   "cell_type": "markdown",
   "id": "61577524",
   "metadata": {
    "editable": true
   },
   "source": [
    "and a finite number of basis functions.\n",
    "\n",
    "Note that it is not mandatory to use `Sympy` for the manufactured solution. Since the\n",
    "solution is known ([22](#eq:3d:solution)), we could just as well simply use `Numpy`\n",
    "to compute $f_e$. However, with `Sympy` it is much\n",
    "easier to experiment and quickly change the solution."
   ]
  },
  {
   "cell_type": "markdown",
   "id": "995b9608",
   "metadata": {
    "editable": true
   },
   "source": [
    "### Discretization and MPI\n",
    "\n",
    "We create three function spaces with given size, one for each dimension of the problem.\n",
    "From these three spaces a [TensorProductSpace](https://shenfun.readthedocs.io/en/latest/shenfun.html#shenfun.tensorproductspace.TensorProductSpace) is created."
   ]
  },
  {
   "cell_type": "code",
   "execution_count": 3,
   "id": "d7ae8f20",
   "metadata": {
    "editable": true,
    "execution": {
     "iopub.execute_input": "2024-08-17T17:13:23.175169Z",
     "iopub.status.busy": "2024-08-17T17:13:23.175096Z",
     "iopub.status.idle": "2024-08-17T17:13:23.181071Z",
     "shell.execute_reply": "2024-08-17T17:13:23.180863Z"
    },
    "tags": [
     "thebe-init"
    ]
   },
   "outputs": [],
   "source": [
    "# Size of discretization\n",
    "N = [14, 15, 16]\n",
    "\n",
    "SD = FunctionSpace(N[0], 'Chebyshev', bc=(0, 0))\n",
    "#SD = FunctionSpace(N[0], 'Legendre', bc=(0, 0))\n",
    "K1 = FunctionSpace(N[1], 'Fourier', dtype='D')\n",
    "K2 = FunctionSpace(N[2], 'Fourier', dtype='d')\n",
    "T = TensorProductSpace(comm, (SD, K1, K2), axes=(0, 1, 2))\n",
    "X = T.local_mesh()"
   ]
  },
  {
   "cell_type": "markdown",
   "id": "072f1919",
   "metadata": {
    "editable": true
   },
   "source": [
    "Note that we can either choose a Legendre or a Chebyshev basis for the\n",
    "nonperiodic direction. The\n",
    "[TensorProductSpace](https://shenfun.readthedocs.io/en/latest/shenfun.html#shenfun.tensorproductspace.TensorProductSpace) class takes an MPI communicator as first argument and the\n",
    "computational mesh is distributed internally using the `pencil` method. The\n",
    "`T.local_mesh` method returns the mesh local to each processor. The `axes`\n",
    "keyword determines the order of transforms going back and forth between real and\n",
    "spectral space. With `axes=(0, 1, 2)` and a forward transform (from real space\n",
    "to spectral, i.e., from $u$ to $\\hat{u}$) axis 2 is transformed first and then 1\n",
    "and 0, respectively.\n",
    "\n",
    "The manufactured solution is created with Dirichlet boundary conditions in the\n",
    "$x$-direction, and for this reason `SD` is the first space in `T`. We could just\n",
    "as well have put the nonperiodic direction along either $y$- or $z$-direction,\n",
    "though, but this would then require that the order of the transformed axes be\n",
    "changed as well. For example, putting the Dirichlet direction along $y$, we\n",
    "would need to create the tensorproductspace as"
   ]
  },
  {
   "cell_type": "markdown",
   "id": "28775815",
   "metadata": {
    "editable": true
   },
   "source": [
    "```Python\n",
    "        T = TensorProductSpace(comm, (K1, SD, K2), axes=(1, 0, 2))\n",
    "```"
   ]
  },
  {
   "cell_type": "markdown",
   "id": "3ee1fe90",
   "metadata": {
    "editable": true
   },
   "source": [
    "such that the Dirichlet direction is the last to be transformed. The reason for\n",
    "this is that only the Dirichlet direction leads to matrices that need to be\n",
    "inverted (or solved). And for this we need the entire data array along the Dirichlet\n",
    "direction to be local to the processor. If the `SD` basis is the last to be\n",
    "transformed, then the data will be aligned in this direction, whereas the other\n",
    "two directions may both, or just one of them, be distributed.\n",
    "\n",
    "Note that `X` is a list containing local values of the arrays $\\{x_i\\}_{i=0}^{N_0-1}$,\n",
    "$\\{y_j\\}_{j=0}^{N_1-1}$ and $\\{z_k\\}_{k=0}^{N_2-1}$.\n",
    "Now, it's not possible to run a jupyter notebook with more than one process,\n",
    "but we can imagine running [the complete solver](https://github.com/spectralDNS/shenfun/blob/master/demo/poisson3D.py)\n",
    "with 4 procesors and a processor mesh of shape $2\\times 2$.\n",
    "We would then get the following local slices for\n",
    "each processor in spectral space"
   ]
  },
  {
   "cell_type": "markdown",
   "id": "ef84f575",
   "metadata": {
    "editable": true
   },
   "source": [
    "```Python\n",
    "        print(comm.Get_rank(), T.local_slice())\n",
    "        3 [slice(0, 14, None), slice(8, 15, None), slice(5, 9, None)]\n",
    "        1 [slice(0, 14, None), slice(0, 8, None), slice(5, 9, None)]\n",
    "        2 [slice(0, 14, None), slice(8, 15, None), slice(0, 5, None)]\n",
    "        0 [slice(0, 14, None), slice(0, 8, None), slice(0, 5, None)]\n",
    "```"
   ]
  },
  {
   "cell_type": "markdown",
   "id": "dce94b33",
   "metadata": {
    "editable": true
   },
   "source": [
    "where the global shape is $\\boldsymbol{N}=(14, 15, 9)$ after taking advantage of\n",
    "Hermitian symmetry in the $z$-direction. So, all processors have the complete first dimension available locally, as they\n",
    "should. Furthermore, processor three owns the slices from $8:15$ and $5:9$ along\n",
    "axes $y$ and $z$, respectively. Processor 2 owns slices $0:8$ and $0:5$ etc. In\n",
    "real space the mesh is distributed differently. First of all the global mesh\n",
    "shape is $\\boldsymbol{N}=(14, 15, 16)$, and it is distributed along the first two\n",
    "dimensions. The local slices can be inspected as"
   ]
  },
  {
   "cell_type": "markdown",
   "id": "dce14f99",
   "metadata": {
    "editable": true
   },
   "source": [
    "```Python\n",
    "        print(comm.Get_rank(), T.local_slice(False))\n",
    "        0 [slice(0, 7, None), slice(0, 8, None), slice(0, 16, None)]\n",
    "        1 [slice(0, 7, None), slice(8, 15, None), slice(0, 16, None)]\n",
    "        2 [slice(7, 14, None), slice(0, 8, None), slice(0, 16, None)]\n",
    "        3 [slice(7, 14, None), slice(8, 15, None), slice(0, 16, None)]\n",
    "```"
   ]
  },
  {
   "cell_type": "markdown",
   "id": "2d326fe7",
   "metadata": {
    "editable": true
   },
   "source": [
    "Since two directions are distributed, both in spectral and real space, we say\n",
    "that we have a two-dimensional decomposition (here a $2\\times 2$ shaped\n",
    "processor mesh) and the\n",
    "MPI distribution is of type *pencil*. It is also possible to choose a *slab*\n",
    "decomposition, where only one dimension of the array is distributed. This choice\n",
    "needs to be made when creating the tensorproductspace as"
   ]
  },
  {
   "cell_type": "markdown",
   "id": "28b8a840",
   "metadata": {
    "editable": true
   },
   "source": [
    "```Python\n",
    "        T = TensorProductSpace(comm, (SD, K1, K2), axes=(0, 1, 2), slab=True)\n",
    "```"
   ]
  },
  {
   "cell_type": "markdown",
   "id": "38b546dd",
   "metadata": {
    "editable": true
   },
   "source": [
    "which would lead to a mesh that is distributed along $x$-direction in real space\n",
    "and $y$-direction in spectral space. The local slices would then be"
   ]
  },
  {
   "cell_type": "markdown",
   "id": "f68d8c78",
   "metadata": {
    "editable": true
   },
   "source": [
    "        print(comm.Get_rank(), T.local_slice()) # spectral space\n",
    "        1 [slice(0, 14, None), slice(4, 8, None), slice(0, 9, None)]\n",
    "        2 [slice(0, 14, None), slice(8, 12, None), slice(0, 9, None)]\n",
    "        0 [slice(0, 14, None), slice(0, 4, None), slice(0, 9, None)]\n",
    "        3 [slice(0, 14, None), slice(12, 15, None), slice(0, 9, None)]\n",
    "        print(comm.Get_rank(), T.local_slice(False)) # real space\n",
    "        3 [slice(11, 14, None), slice(0, 15, None), slice(0, 16, None)]\n",
    "        0 [slice(0, 4, None), slice(0, 15, None), slice(0, 16, None)]\n",
    "        2 [slice(8, 11, None), slice(0, 15, None), slice(0, 16, None)]\n",
    "        1 [slice(4, 8, None), slice(0, 15, None), slice(0, 16, None)]\n"
   ]
  },
  {
   "cell_type": "markdown",
   "id": "f4c9f423",
   "metadata": {
    "editable": true
   },
   "source": [
    "Note that the *slab* decomposition is usually the fastest choice. However, the maximum\n",
    "number of processors with *slab* is $\\min \\{N_0, N_1\\}$, whereas a *pencil*\n",
    "approach can be used with up to $\\min \\{N_1(N_2/2+1), N_0 N_1\\}$ processors."
   ]
  },
  {
   "cell_type": "markdown",
   "id": "3530d3aa",
   "metadata": {
    "editable": true
   },
   "source": [
    "### Variational formulation\n",
    "\n",
    "The variational problem ([14](#eq:3d:varform)) can be assembled using `shenfun`'s\n",
    "form language, which is perhaps surprisingly similar to FEniCS."
   ]
  },
  {
   "cell_type": "code",
   "execution_count": 4,
   "id": "4c0bbdd5",
   "metadata": {
    "editable": true,
    "execution": {
     "iopub.execute_input": "2024-08-17T17:13:23.182699Z",
     "iopub.status.busy": "2024-08-17T17:13:23.182630Z",
     "iopub.status.idle": "2024-08-17T17:13:23.190206Z",
     "shell.execute_reply": "2024-08-17T17:13:23.190002Z"
    },
    "tags": [
     "thebe-init"
    ]
   },
   "outputs": [],
   "source": [
    "u = TrialFunction(T)\n",
    "v = TestFunction(T)\n",
    "# Get f on quad points\n",
    "fj = Array(T, buffer=fe)\n",
    "# Compute right hand side of Poisson equation\n",
    "f_hat = inner(v, fj)\n",
    "# Get left hand side of Poisson equation\n",
    "matrices = inner(v, div(grad(u)))"
   ]
  },
  {
   "cell_type": "markdown",
   "id": "8d0bf840",
   "metadata": {
    "editable": true
   },
   "source": [
    "The Laplacian operator is recognized as `div(grad)`. The `matrices` object is a\n",
    "list of two tensor product matrices, stored as instances of the class [TPMatrix](https://shenfun.readthedocs.io/en/latest/shenfun.html#shenfun.matrixbase.TPMatrix).\n",
    "The two tensor product matrices represents"
   ]
  },
  {
   "cell_type": "markdown",
   "id": "956b3de7",
   "metadata": {
    "editable": true
   },
   "source": [
    "$$\n",
    "a_{pl} \\delta_{mq} \\delta_{nr}\\, \\text{ and }\\, -(m^2 + n^2)b_{pl} \\delta_{mq} \\delta_{nr}\n",
    "$$"
   ]
  },
  {
   "cell_type": "markdown",
   "id": "debfb9d2",
   "metadata": {
    "editable": true
   },
   "source": [
    "from Eqs. ([20](#eq:AB)), ([17](#eq:delta0)) and ([18](#eq:delta1)).\n",
    "The second matrix ($-(m^2 + n^2)b_{pl} \\delta_{mq} \\delta_{nr}$) has an\n",
    "attribute `scale` that is equal to $-(m^2+n^2)$.\n",
    "This `scale` is stored as a numpy array of shape $(1, 15, 9)$, representing the set\n",
    "$\\{-(m^2+n^2): (m, n) \\in \\boldsymbol{m}^{N_1} \\times \\boldsymbol{n}^{N_2}\\}$. Note that $\\boldsymbol{n}^{N_2}$ is stored\n",
    "simply as an array of length $N_2/2+1$ (here 9), since the transform in direction $z$\n",
    "takes a real signal and transforms it taking advantage of Hermitian symmetry,\n",
    "see [rfft](https://docs.scipy.org/doc/numpy-1.13.0/reference/generated/numpy.fft.rfft.html)."
   ]
  },
  {
   "cell_type": "markdown",
   "id": "42f47488",
   "metadata": {
    "editable": true
   },
   "source": [
    "### Solve linear equations\n",
    "\n",
    "Finally, solve linear equation system and transform solution from spectral\n",
    "$\\hat{u}_{\\boldsymbol{\\textsf{k}}}$ vector to the real space $u(\\boldsymbol{x})$ and then check how the solution corresponds with the exact solution $u_e$."
   ]
  },
  {
   "cell_type": "code",
   "execution_count": 5,
   "id": "abc14f5d",
   "metadata": {
    "editable": true,
    "execution": {
     "iopub.execute_input": "2024-08-17T17:13:23.191525Z",
     "iopub.status.busy": "2024-08-17T17:13:23.191459Z",
     "iopub.status.idle": "2024-08-17T17:13:23.198499Z",
     "shell.execute_reply": "2024-08-17T17:13:23.198270Z"
    },
    "tags": [
     "thebe-init"
    ]
   },
   "outputs": [
    {
     "name": "stdout",
     "output_type": "stream",
     "text": [
      "Error=4.3371671652836383e+01\n"
     ]
    }
   ],
   "source": [
    "# Create Helmholtz linear algebra solver\n",
    "Solver = chebyshev.la.Helmholtz\n",
    "#Solver = la.SolverGeneric1ND # For Legendre\n",
    "H = Solver(matrices)\n",
    "\n",
    "# Solve and transform to real space\n",
    "u_hat = Function(T)           # Solution spectral space\n",
    "u_hat = H(u_hat, f_hat)       # Solve\n",
    "uq = T.backward(u_hat)\n",
    "\n",
    "# Compare with analytical solution\n",
    "uj = Array(T, buffer=ue)\n",
    "error = comm.reduce(np.linalg.norm(uj-uq)**2)\n",
    "if comm.Get_rank() == 0:\n",
    "    print(\"Error=%2.16e\" %(np.sqrt(error)))"
   ]
  },
  {
   "cell_type": "markdown",
   "id": "3c8908a6",
   "metadata": {
    "editable": true
   },
   "source": [
    "### Convergence test\n",
    "\n",
    "To do a convergence test we will now create a function `main`, that takes the\n",
    "number of quadrature points as parameter, and prints out\n",
    "the error."
   ]
  },
  {
   "cell_type": "code",
   "execution_count": 6,
   "id": "88433058",
   "metadata": {
    "editable": true,
    "execution": {
     "iopub.execute_input": "2024-08-17T17:13:23.199631Z",
     "iopub.status.busy": "2024-08-17T17:13:23.199567Z",
     "iopub.status.idle": "2024-08-17T17:13:23.202140Z",
     "shell.execute_reply": "2024-08-17T17:13:23.201956Z"
    },
    "tags": [
     "thebe-init"
    ]
   },
   "outputs": [],
   "source": [
    "def main(N, family='Chebyshev'):\n",
    "    Solver = chebyshev.la.Helmholtz if family.lower() == 'chebyshev' else la.SolverGeneric1ND\n",
    "    SD = FunctionSpace(N, family=family, bc=(0, 0))\n",
    "    K1 = FunctionSpace(N, family='F', dtype='D')\n",
    "    K2 = FunctionSpace(N, family='F', dtype='d')\n",
    "    T = TensorProductSpace(comm, (SD, K1, K2), axes=(0, 1, 2))\n",
    "\n",
    "    u = TrialFunction(T)\n",
    "    v = TestFunction(T)\n",
    "\n",
    "    # Get f on quad points\n",
    "    fj = Array(T, buffer=fe)\n",
    "\n",
    "    # Compute right hand side of Poisson's equation\n",
    "    f_hat = Function(T)\n",
    "    f_hat = inner(v, fj, output_array=f_hat)\n",
    "    if family == 'legendre':\n",
    "        f_hat *= -1.\n",
    "\n",
    "    # Get left hand side of Poisson equation\n",
    "    if family.lower() == 'chebyshev':\n",
    "        matrices = inner(v, div(grad(u)))\n",
    "    else:\n",
    "        matrices = inner(grad(v), grad(u))\n",
    "\n",
    "    # Create Helmholtz linear algebra solver\n",
    "    H = Solver(matrices)\n",
    "\n",
    "    # Solve and transform to real space\n",
    "    u_hat = Function(T)           # Solution spectral space\n",
    "    u_hat = H(f_hat, u_hat)       # Solve\n",
    "\n",
    "    uj = Array(T)\n",
    "    uj = u_hat.backward(uj)\n",
    "\n",
    "    # Compare with analytical solution\n",
    "    ua = Array(T, buffer=ue)\n",
    "    #l2_error = np.linalg.norm(uj-ua)\n",
    "    L2_error = np.sqrt(dx((uj-ua)**2))\n",
    "    return L2_error"
   ]
  },
  {
   "cell_type": "markdown",
   "id": "8199b9c0",
   "metadata": {
    "editable": true
   },
   "source": [
    "For example, we find the error of a Chebyshev discretization\n",
    "using 12 quadrature points as"
   ]
  },
  {
   "cell_type": "code",
   "execution_count": 7,
   "id": "e2444fa7",
   "metadata": {
    "editable": true,
    "execution": {
     "iopub.execute_input": "2024-08-17T17:13:23.203250Z",
     "iopub.status.busy": "2024-08-17T17:13:23.203169Z",
     "iopub.status.idle": "2024-08-17T17:13:23.215489Z",
     "shell.execute_reply": "2024-08-17T17:13:23.215281Z"
    },
    "tags": [
     "thebe-init"
    ]
   },
   "outputs": [
    {
     "data": {
      "text/plain": [
       "0.0007817843191356134"
      ]
     },
     "execution_count": 7,
     "metadata": {},
     "output_type": "execute_result"
    }
   ],
   "source": [
    "main(12, 'Chebyshev')"
   ]
  },
  {
   "cell_type": "markdown",
   "id": "41161308",
   "metadata": {
    "editable": true
   },
   "source": [
    "To get the convergence we call `main` for a list\n",
    "of $N=[12, 16, \\ldots, 48]$, and collect the errornorms in\n",
    "arrays to be plotted. The error can be plotted using\n",
    "[matplotlib](https://matplotlib.org), and the generated\n",
    "figure is also shown in this demos summary."
   ]
  },
  {
   "cell_type": "code",
   "execution_count": 8,
   "id": "be4c522a",
   "metadata": {
    "editable": true,
    "execution": {
     "iopub.execute_input": "2024-08-17T17:13:23.216637Z",
     "iopub.status.busy": "2024-08-17T17:13:23.216570Z",
     "iopub.status.idle": "2024-08-17T17:13:24.948422Z",
     "shell.execute_reply": "2024-08-17T17:13:24.948188Z"
    },
    "tags": [
     "thebe-init"
    ]
   },
   "outputs": [
    {
     "data": {
      "image/png": "[encoded data removed]",
      "text/plain": [
       "<Figure size 600x400 with 1 Axes>"
      ]
     },
     "metadata": {},
     "output_type": "display_data"
    }
   ],
   "source": [
    "%matplotlib inline\n",
    "\n",
    "import matplotlib.pyplot as plt\n",
    "\n",
    "N = range(12, 50, 4)\n",
    "error = {}\n",
    "for basis in ('legendre', 'chebyshev'):\n",
    "    error[basis] = []\n",
    "    for i in range(len(N)):\n",
    "        errN = main(N[i], basis)\n",
    "        error[basis].append(errN)\n",
    "\n",
    "plt.figure(figsize=(6, 4))\n",
    "for basis, col in zip(('legendre', 'chebyshev'), ('r', 'b')):\n",
    "    plt.semilogy(N, error[basis], col, linewidth=2)\n",
    "plt.title('Convergence of Poisson solvers 1D')\n",
    "plt.xlabel('N')\n",
    "plt.ylabel('Error norm')\n",
    "plt.legend(('Legendre', 'Chebyshev'))\n",
    "plt.show()"
   ]
  },
  {
   "cell_type": "markdown",
   "id": "2e83be02",
   "metadata": {
    "editable": true
   },
   "source": [
    "The spectral convergence is evident and we can see that\n",
    "after $N=24$ roundoff errors dominate as the errornorm trails off around $10^{-14}$."
   ]
  },
  {
   "cell_type": "markdown",
   "id": "bdbe8c88",
   "metadata": {
    "editable": true
   },
   "source": [
    "## Complete solver\n",
    "<a id=\"sec:complete\"></a>\n",
    "\n",
    "A complete solver, that can use any family of bases (Chebyshev, Legendre, Jacobi, Chebyshev second kind),\n",
    "and any kind of boundary condition, can be found [here](https://github.com/spectralDNS/shenfun/blob/master/demo/poisson3D.py).\n",
    "\n",
    "<!-- ======= Bibliography ======= -->\n",
    "\n",
    "1. <a id=\"shen1\"></a> **J. Shen**.  Efficient Spectral-Galerkin Method I. Direct Solvers of Second- and Fourth-Order Equations Using Legendre Polynomials, *SIAM Journal on Scientific Computing*, 15(6), pp. 1489-1505, [doi: 10.1137/0915089](https://dx.doi.org/10.1137/0915089), 1994.\n",
    "\n",
    "2. <a id=\"shen95\"></a> **J. Shen**.  Efficient Spectral-Galerkin Method II. Direct Solvers of Second- and Fourth-Order Equations Using Chebyshev Polynomials, *SIAM Journal on Scientific Computing*, 16(1), pp. 74-87, [doi: 10.1137/0916006](https://dx.doi.org/10.1137/0916006), 1995."
   ]
  }
 ],
 "metadata": {
  "kernelspec": {
   "display_name": "Python 3",
   "language": "python",
   "name": "python3"
  },
  "language_info": {
   "codemirror_mode": {
    "name": "ipython",
    "version": 3
   },
   "file_extension": ".py",
   "mimetype": "text/x-python",
   "name": "python",
   "nbconvert_exporter": "python",
   "pygments_lexer": "ipython3",
   "version": "3.12.3"
  }
 },
 "nbformat": 4,
 "nbformat_minor": 5
}
