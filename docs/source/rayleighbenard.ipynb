{
 "cells": [
  {
   "cell_type": "markdown",
   "id": "7f6234eb",
   "metadata": {
    "editable": true
   },
   "source": [
    "<!-- File automatically generated using DocOnce (https://github.com/doconce/doconce/):\n",
    "doconce format ipynb rayleighbenard.do.txt  -->\n",
    "\n",
    "# Demo - Rayleigh Benard\n",
    "**Mikael Mortensen** (email: `mikaem@math.uio.no`), Department of Mathematics, University of Oslo.\n",
    "\n",
    "Date: **November 21, 2019**\n",
    "\n",
    "**Summary.** Rayleigh-Benard convection arise\n",
    "due to temperature gradients in a fluid. The governing equations are\n",
    "Navier-Stokes coupled (through buoyancy) with an additional temperature\n",
    "equation derived from the first law of thermodynamics, using a linear\n",
    "correlation between density and temperature.\n",
    "\n",
    "This is a demonstration of how the Python module [shenfun](https://github.com/spectralDNS/shenfun) can be used to solve for\n",
    "these Rayleigh-Benard cells in a 2D channel with two walls of\n",
    "different temperature in one direction, and periodicity in the other direction.\n",
    "The solver described runs with MPI\n",
    "without any further considerations required from the user.\n",
    "Note that there is also a more physically realistic [3D solver](https://github.com/spectralDNS/shenfun/blob/master/demo/RayleighBenard.py).\n",
    "The solver described in this demo has been implemented in a class in the\n",
    "[RayleighBenard2D.py](https://github.com/spectralDNS/shenfun/blob/master/demo/RayleighBenard2D.py)\n",
    "module in the demo folder of shenfun. Below is an example solution, which has been run at a very high\n",
    "Rayleigh number (*Ra*).\n",
    "\n",
    "<!-- dom:FIGURE: [https://raw.githack.com/spectralDNS/spectralutilities/master/movies/RB_256_512_movie_jet.png, width=800] Temperature fluctuations in the Rayleigh Benard flow. The top and bottom walls are kept at different temperatures and this sets up the Rayleigh-Benard convection. The simulation is run at *Ra* =1,000,000, *Pr* =0.7 with 256 and 512 quadrature points in *x* and *y*-directions, respectively. <a id=\"fig:RB\"></a> -->\n",
    "<!-- begin figure -->\n",
    "<a id=\"fig:RB\"></a>\n",
    "\n",
    "<img src=\"https://raw.githack.com/spectralDNS/spectralutilities/master/movies/RB_256_512_movie_jet.png\" width=\"800\"><p style=\"font-size: 0.9em\"><i>Figure 1: Temperature fluctuations in the Rayleigh Benard flow. The top and bottom walls are kept at different temperatures and this sets up the Rayleigh-Benard convection. The simulation is run at <em>Ra</em> =1,000,000, <em>Pr</em> =0.7 with 256 and 512 quadrature points in <em>x</em> and <em>y</em>-directions, respectively.</i></p>\n",
    "<!-- end figure -->"
   ]
  },
  {
   "cell_type": "markdown",
   "id": "177a6e73",
   "metadata": {
    "editable": true
   },
   "source": [
    "## The Rayleigh Bénard equations\n",
    "<a id=\"demo:rayleighbenard\"></a>\n",
    "\n",
    "The governing equations solved in domain $\\Omega=(-1, 1)\\times [0, 2\\pi)$ are"
   ]
  },
  {
   "cell_type": "markdown",
   "id": "ad1449b2",
   "metadata": {
    "editable": true
   },
   "source": [
    "<!-- Equation labels as ordinary links -->\n",
    "<a id=\"eq:momentum\"></a>\n",
    "\n",
    "$$\n",
    "\\begin{equation}\n",
    "    \\frac{\\partial \\boldsymbol{u}}{\\partial t} + (\\boldsymbol{u} \\cdot \\nabla) \\boldsymbol{u} = - \\nabla p + \\sqrt{\\frac{Pr}{Ra}} \\nabla^2 \\boldsymbol{u}  + T \\boldsymbol{i}, \\label{eq:momentum} \\tag{1}\n",
    "\\end{equation}\n",
    "$$"
   ]
  },
  {
   "cell_type": "markdown",
   "id": "59b6c4c7",
   "metadata": {
    "editable": true
   },
   "source": [
    "<!-- Equation labels as ordinary links -->\n",
    "<a id=\"eq:T\"></a>\n",
    "\n",
    "$$\n",
    "\\begin{equation}  \n",
    "    \\frac{\\partial T}{\\partial t} +\\boldsymbol{u} \\cdot \\nabla T = \\frac{1}{\\sqrt{RaPr}} \\nabla^2 T, \\label{eq:T} \\tag{2}\n",
    "\\end{equation}\n",
    "$$"
   ]
  },
  {
   "cell_type": "markdown",
   "id": "5d7e6701",
   "metadata": {
    "editable": true
   },
   "source": [
    "<!-- Equation labels as ordinary links -->\n",
    "<a id=\"eq:div\"></a>\n",
    "\n",
    "$$\n",
    "\\begin{equation}  \n",
    "    \\nabla \\cdot \\boldsymbol{u} = 0, \\label{eq:div} \\tag{3}\n",
    "\\end{equation}\n",
    "$$"
   ]
  },
  {
   "cell_type": "markdown",
   "id": "2a91fb26",
   "metadata": {
    "editable": true
   },
   "source": [
    "where $\\boldsymbol{u}(x, y, t) (= u\\boldsymbol{i} + v\\boldsymbol{j})$ is the velocity vector, $p(x, y, t)$ is pressure, $T(x, y, t)$ is the temperature, and $\\boldsymbol{i}$ and\n",
    "$\\boldsymbol{j}$ are the unity vectors for the $x$ and $y$-directions, respectively.\n",
    "\n",
    "The equations are complemented with boundary conditions $\\boldsymbol{u}(\\pm 1, y, t) = (0, 0), \\boldsymbol{u}(x, 2 \\pi, t) = \\boldsymbol{u}(x, 0, t), T(-1, y, t) = 1, T(1, y, t) =  0, T(x, 2 \\pi, t) = T(x, 0, t)$.\n",
    "Note that these equations have been non-dimensionalized according to [[pandey18]](#pandey18), using dimensionless\n",
    "Rayleigh number $Ra=g \\alpha \\Delta T h^3/(\\nu \\kappa)$ and Prandtl number $Pr=\\nu/\\kappa$. Here\n",
    "$g \\boldsymbol{i}$ is the vector accelleration of gravity, $\\Delta T$ is the temperature difference between\n",
    "the top and bottom walls, $h$ is the hight of the channel in $x$-direction, $\\nu$ is the\n",
    "dynamic viscosity coefficient, $\\kappa$ is the heat transfer coefficient and $\\alpha$ is the\n",
    "thermal expansion coefficient. Note that the\n",
    "governing equations have been non-dimensionalized using the free-fall velocityscale\n",
    "$U=\\sqrt{g \\alpha \\Delta T h}$. See [[pandey18]](#pandey18) for more details.\n",
    "\n",
    "The governing equations contain a non-trivial coupling between velocity, pressure and temperature.\n",
    "This coupling can be simplified by eliminating the pressure from the equation for the wall-normal velocity\n",
    "component $u$. We accomplish this by taking the Laplace of the momentum equation in wall normal\n",
    "direction, using the pressure from the divergence of the momentum equation\n",
    "$\\nabla^2 p = -\\nabla \\cdot \\boldsymbol{H}+\\partial T/\\partial x$, where\n",
    "$\\boldsymbol{H} = (H_x, H_y) = (\\boldsymbol{u} \\cdot \\nabla) \\boldsymbol{u}$"
   ]
  },
  {
   "cell_type": "markdown",
   "id": "f838dca0",
   "metadata": {
    "editable": true
   },
   "source": [
    "<!-- Equation labels as ordinary links -->\n",
    "<a id=\"eq:rb:u\"></a>\n",
    "\n",
    "$$\n",
    "\\begin{equation}\n",
    "    \\frac{\\partial \\nabla^2 {u}}{\\partial t} = \\frac{\\partial^2 H_y}{\\partial x \\partial y} - \\frac{\\partial^2 H_x}{\\partial y\\partial y}  + \\sqrt{\\frac{Pr}{Ra}} \\nabla^4 {u}  + \\frac{\\partial^2 T}{\\partial y^2} . \\label{eq:rb:u} \\tag{4}\n",
    "\\end{equation}\n",
    "$$"
   ]
  },
  {
   "cell_type": "markdown",
   "id": "ca6ea1f7",
   "metadata": {
    "editable": true
   },
   "source": [
    "This equation is solved with $u(\\pm 1,y,t) = \\partial u/\\partial x(\\pm 1,y,t) = 0$, where the latter follows from the\n",
    "divergence constraint. In summary, we now seem to have the following equations to solve:"
   ]
  },
  {
   "cell_type": "markdown",
   "id": "0afef1df",
   "metadata": {
    "editable": true
   },
   "source": [
    "<!-- Equation labels as ordinary links -->\n",
    "<a id=\"eq:rb:u2\"></a>\n",
    "\n",
    "$$\n",
    "\\begin{equation}\n",
    "    \\frac{\\partial \\nabla^2 {u}}{\\partial t} = \\frac{\\partial^2 H_y}{\\partial x \\partial y} - \\frac{\\partial^2 H_x}{\\partial y\\partial y}  + \\sqrt{\\frac{Pr}{Ra}} \\nabla^4 {u}  + \\frac{\\partial^2 T}{\\partial y^2}, \\label{eq:rb:u2} \\tag{5}\n",
    "\\end{equation}\n",
    "$$"
   ]
  },
  {
   "cell_type": "markdown",
   "id": "3d483309",
   "metadata": {
    "editable": true
   },
   "source": [
    "<!-- Equation labels as ordinary links -->\n",
    "<a id=\"eq:v\"></a>\n",
    "\n",
    "$$\n",
    "\\begin{equation}  \n",
    "    \\frac{\\partial v}{\\partial t} + H_y = -  \\frac{\\partial p}{\\partial y} + \\sqrt{\\frac{Pr}{Ra}} \\nabla^2 v, \\label{eq:v} \\tag{6}\n",
    "\\end{equation}\n",
    "$$"
   ]
  },
  {
   "cell_type": "markdown",
   "id": "9f1801e4",
   "metadata": {
    "editable": true
   },
   "source": [
    "<!-- Equation labels as ordinary links -->\n",
    "<a id=\"eq:T2\"></a>\n",
    "\n",
    "$$\n",
    "\\begin{equation}  \n",
    "    \\frac{\\partial T}{\\partial t} +\\boldsymbol{u} \\cdot \\nabla T = \\frac{1}{\\sqrt{RaPr}} \\nabla^2 T, \\label{eq:T2} \\tag{7}\n",
    "\\end{equation}\n",
    "$$"
   ]
  },
  {
   "cell_type": "markdown",
   "id": "2d815654",
   "metadata": {
    "editable": true
   },
   "source": [
    "<!-- Equation labels as ordinary links -->\n",
    "<a id=\"eq:div2\"></a>\n",
    "\n",
    "$$\n",
    "\\begin{equation}  \n",
    "    \\nabla \\cdot \\boldsymbol{u} = 0 \\label{eq:div2} \\tag{8}.\n",
    "\\end{equation}\n",
    "$$"
   ]
  },
  {
   "cell_type": "markdown",
   "id": "87c1dd49",
   "metadata": {
    "editable": true
   },
   "source": [
    "However, we note that Eqs. ([5](#eq:rb:u2)) and ([7](#eq:T2)) and ([8](#eq:div2)) do not depend on pressure, and,\n",
    "apparently, on each time step we can solve ([5](#eq:rb:u2)) for $u$, then ([8](#eq:div2)) for $v$ and finally ([7](#eq:T2)) for $T$.\n",
    "So what do we need ([6](#eq:v)) for? It appears to have become redundant from the elimination of the\n",
    "pressure from Eq. ([5](#eq:rb:u2)). It turns out that this is actually almost completely true, but\n",
    "([5](#eq:rb:u2)), ([7](#eq:T2)) and ([8](#eq:div2)) can only provide closure for all but one of the\n",
    "Fourier coefficients. To see this it is necessary to introduce some discretization and basis functions\n",
    "that will be used to solve the problem. To this end we use $P_N$, which is the set of all real polynomials\n",
    "of degree less than or equal to N and introduce the following finite-dimensional approximation spaces"
   ]
  },
  {
   "cell_type": "markdown",
   "id": "469f8896",
   "metadata": {
    "editable": true
   },
   "source": [
    "<!-- Equation labels as ordinary links -->\n",
    "<a id=\"eq:VB\"></a>\n",
    "\n",
    "$$\n",
    "\\begin{equation}\n",
    "  V_N^B(x) = \\{v \\in P_N | v(\\pm 1) = v´(\\pm 1) = 0\\}, \\label{eq:VB} \\tag{9} \n",
    "\\end{equation}\n",
    "$$"
   ]
  },
  {
   "cell_type": "markdown",
   "id": "c8f804cb",
   "metadata": {
    "editable": true
   },
   "source": [
    "<!-- Equation labels as ordinary links -->\n",
    "<a id=\"eq:VD\"></a>\n",
    "\n",
    "$$\n",
    "\\begin{equation}  \n",
    "  V_N^D(x) = \\{v \\in P_N | v(\\pm 1) = 0\\}, \\label{eq:VD} \\tag{10} \n",
    "\\end{equation}\n",
    "$$"
   ]
  },
  {
   "cell_type": "markdown",
   "id": "f3d0a11f",
   "metadata": {
    "editable": true
   },
   "source": [
    "<!-- Equation labels as ordinary links -->\n",
    "<a id=\"eq:VT\"></a>\n",
    "\n",
    "$$\n",
    "\\begin{equation}  \n",
    "  V_N^T(x) = \\{v \\in P_N | v(-1) = 0, v(1) = 1\\}, \\label{eq:VT} \\tag{11} \n",
    "\\end{equation}\n",
    "$$"
   ]
  },
  {
   "cell_type": "markdown",
   "id": "eae8e9d1",
   "metadata": {
    "editable": true
   },
   "source": [
    "<!-- Equation labels as ordinary links -->\n",
    "<a id=\"eq:VW\"></a>\n",
    "\n",
    "$$\n",
    "\\begin{equation}  \n",
    "  V_N^W(x) = \\{v \\in P_N\\}, \\label{eq:VW} \\tag{12} \n",
    "\\end{equation}\n",
    "$$"
   ]
  },
  {
   "cell_type": "markdown",
   "id": "7be2b88e",
   "metadata": {
    "editable": true
   },
   "source": [
    "<!-- Equation labels as ordinary links -->\n",
    "<a id=\"eq:VF\"></a>\n",
    "\n",
    "$$\n",
    "\\begin{equation}  \n",
    "  V_M^F(y) = \\{\\exp(\\imath l y) | l \\in [-M/2, -M/2+1, \\ldots M/2-1]\\}. \\label{eq:VF} \\tag{13}\n",
    "\\end{equation}\n",
    "$$"
   ]
  },
  {
   "cell_type": "markdown",
   "id": "a5e83417",
   "metadata": {
    "editable": true
   },
   "source": [
    "Here $\\text{dim}(V_N^B) = N-4, \\text{dim}(V_N^D) = \\text{dim}(V_N^W) = \\text{dim}(V_N^T) = N-2$\n",
    "and $\\text{dim}(V_M^F)=M$. We note that\n",
    "$V_N^B, V_N^D, V_N^W$ and $V_N^T$ can be used to approximate $u, v, T$ and $p$, respectively, in the $x$-direction.\n",
    "Also note that for $V_M^F$ it is assumed that $M$ is an even number.\n",
    "\n",
    "We can now choose basis functions for the spaces, using Shen's composite bases for either Legendre or\n",
    "Chebyshev polynomials. For the Fourier space the basis functions are already given. We leave the actual choice\n",
    "of basis as an implementation option for later. For now we use $\\phi^B(x), \\phi^D(x), \\phi^W$ and $\\phi^T(x)$\n",
    "as common notation for basis functions in spaces $V_N^B, V_N^D, V_N^W$ and $V_N^T$, respectively.\n",
    "\n",
    "To get the required approximation spaces for the entire domain we use tensor products of the\n",
    "one-dimensional spaces in ([9](#eq:VB))-([13](#eq:VF))"
   ]
  },
  {
   "cell_type": "markdown",
   "id": "38df0fa1",
   "metadata": {
    "editable": true
   },
   "source": [
    "<!-- Equation labels as ordinary links -->\n",
    "<a id=\"eq:WBF\"></a>\n",
    "\n",
    "$$\n",
    "\\begin{equation}\n",
    "  W_{BF} = V_N^B \\otimes V_M^F, \\label{eq:WBF} \\tag{14}  \n",
    "\\end{equation}\n",
    "$$"
   ]
  },
  {
   "cell_type": "markdown",
   "id": "ba2319bf",
   "metadata": {
    "editable": true
   },
   "source": [
    "<!-- Equation labels as ordinary links -->\n",
    "<a id=\"eq:WDF\"></a>\n",
    "\n",
    "$$\n",
    "\\begin{equation}  \n",
    "  W_{DF} = V_N^D \\otimes V_M^F, \\label{eq:WDF} \\tag{15}  \n",
    "\\end{equation}\n",
    "$$"
   ]
  },
  {
   "cell_type": "markdown",
   "id": "97c4f4bc",
   "metadata": {
    "editable": true
   },
   "source": [
    "<!-- Equation labels as ordinary links -->\n",
    "<a id=\"eq:WTF\"></a>\n",
    "\n",
    "$$\n",
    "\\begin{equation}  \n",
    "  W_{TF} = V_N^T \\otimes V_M^F, \\label{eq:WTF} \\tag{16}  \n",
    "\\end{equation}\n",
    "$$"
   ]
  },
  {
   "cell_type": "markdown",
   "id": "25acfc6e",
   "metadata": {
    "editable": true
   },
   "source": [
    "<!-- Equation labels as ordinary links -->\n",
    "<a id=\"eq:WWF\"></a>\n",
    "\n",
    "$$\n",
    "\\begin{equation}  \n",
    "  W_{WF} = V_N^W \\otimes V_M^F. \\label{eq:WWF} \\tag{17}\n",
    "\\end{equation}\n",
    "$$"
   ]
  },
  {
   "cell_type": "markdown",
   "id": "827f02da",
   "metadata": {
    "editable": true
   },
   "source": [
    "Space $W_{BF}$ has 2D tensor product basis functions $\\phi_k^B(x) \\exp (\\imath l y)$ and\n",
    "similar for the others. All in all\n",
    "we get the following approximations for the unknowns"
   ]
  },
  {
   "cell_type": "markdown",
   "id": "fc1fc414",
   "metadata": {
    "editable": true
   },
   "source": [
    "<!-- Equation labels as ordinary links -->\n",
    "<a id=\"_auto1\"></a>\n",
    "\n",
    "$$\n",
    "\\begin{equation}\n",
    "    u_N(x, y, t) = \\sum_{k \\in \\boldsymbol{k}_B} \\sum_{l \\in \\boldsymbol{l}} \\hat{u}_{kl}(t) \\phi_k^B(x) \\exp(\\imath l y), \n",
    "\\label{_auto1} \\tag{18}\n",
    "\\end{equation}\n",
    "$$"
   ]
  },
  {
   "cell_type": "markdown",
   "id": "b3e1db16",
   "metadata": {
    "editable": true
   },
   "source": [
    "<!-- Equation labels as ordinary links -->\n",
    "<a id=\"_auto2\"></a>\n",
    "\n",
    "$$\n",
    "\\begin{equation}  \n",
    "    v_N(x, y, t) = \\sum_{k \\in \\boldsymbol{k}_D} \\sum_{l \\in \\boldsymbol{l}} \\hat{v}_{kl}(t) \\phi_k^D(x) \\exp(\\imath l y), \n",
    "\\label{_auto2} \\tag{19}\n",
    "\\end{equation}\n",
    "$$"
   ]
  },
  {
   "cell_type": "markdown",
   "id": "bfc89552",
   "metadata": {
    "editable": true
   },
   "source": [
    "<!-- Equation labels as ordinary links -->\n",
    "<a id=\"_auto3\"></a>\n",
    "\n",
    "$$\n",
    "\\begin{equation}  \n",
    "    p_N(x, y, t) = \\sum_{k \\in \\boldsymbol{k}_W} \\sum_{l \\in \\boldsymbol{l}} \\hat{p}_{kl}(t) \\phi_k^W(x) \\exp(\\imath l y), \n",
    "\\label{_auto3} \\tag{20}\n",
    "\\end{equation}\n",
    "$$"
   ]
  },
  {
   "cell_type": "markdown",
   "id": "d37af4a7",
   "metadata": {
    "editable": true
   },
   "source": [
    "<!-- Equation labels as ordinary links -->\n",
    "<a id=\"_auto4\"></a>\n",
    "\n",
    "$$\n",
    "\\begin{equation}  \n",
    "    T_N(x, y, t) = \\sum_{k \\in \\boldsymbol{k}_T} \\sum_{l \\in \\boldsymbol{l}} \\hat{T}_{kl}(t) \\phi_k^T(x) \\exp(\\imath l y),\n",
    "\\label{_auto4} \\tag{21}\n",
    "\\end{equation}\n",
    "$$"
   ]
  },
  {
   "cell_type": "markdown",
   "id": "3d0a241c",
   "metadata": {
    "editable": true
   },
   "source": [
    "where $\\boldsymbol{k}_{x} = \\{0, 1, \\ldots \\text{dim}(V_N^x)-1\\}, \\, \\text{for} \\, x\\in(B, D, W, T)$\n",
    "and $\\boldsymbol{l} = \\{-M/2, -M/2+1, \\ldots, M/2-1\\}$.\n",
    "Note that since the problem is defined in real space we will have Hermitian symmetry. This means\n",
    "that $\\hat{u}_{k, l} = \\overline{\\hat{u}}_{k, -l}$, with an overbar being a complex conjugate,\n",
    "and similar for $\\hat{v}_{kl}, \\hat{p}_{kl}$ and\n",
    "$\\hat{T}_{kl}$. For this reason we can get away with\n",
    "solving for only the positive $l$'s, as long as we remember that the sum in the end goes over both positive\n",
    "and negative $l's$. This is actually automatically taken care of by the FFT provider and is\n",
    "not much of an additional complexity in the implementation. So from now on $\\boldsymbol{l} = \\{0, 1, \\ldots, M/2\\}$.\n",
    "\n",
    "We can now take a look at why Eq. ([6](#eq:v)) is needed. If we first solve ([5](#eq:rb:u2)) for\n",
    "$\\hat{u}_{kl}(t), (k, l) \\in \\boldsymbol{k}_B \\times \\boldsymbol{l}$, then we can use ([8](#eq:div2)) to\n",
    "solve for $\\hat{v}_{kl}(t)$. But here there is a problem. We can see this by creating the variational\n",
    "form required to solve ([8](#eq:div2)) by the spectral Galerkin method. To this end make $v=v_N$ in ([8](#eq:div2))\n",
    "a trial function, use $u=u_N$ a known function and take the weighted inner product over the\n",
    "domain using test function $q \\in W_{DF}$"
   ]
  },
  {
   "cell_type": "markdown",
   "id": "4b48d850",
   "metadata": {
    "editable": true
   },
   "source": [
    "<!-- Equation labels as ordinary links -->\n",
    "<a id=\"_auto5\"></a>\n",
    "\n",
    "$$\n",
    "\\begin{equation}\n",
    "    \\left < \\frac{\\partial u_N}{\\partial x} + \\frac{\\partial v_N}{\\partial y}, q \\right > _w = 0.\n",
    "\\label{_auto5} \\tag{22}\n",
    "\\end{equation}\n",
    "$$"
   ]
  },
  {
   "cell_type": "markdown",
   "id": "6505d4f0",
   "metadata": {
    "editable": true
   },
   "source": [
    "Here we are using the inner product notation"
   ]
  },
  {
   "cell_type": "markdown",
   "id": "9150f8b5",
   "metadata": {
    "editable": true
   },
   "source": [
    "<!-- Equation labels as ordinary links -->\n",
    "<a id=\"_auto6\"></a>\n",
    "\n",
    "$$\n",
    "\\begin{equation}\n",
    "    \\left < a, b \\right > _w = \\int_{-1}^1 \\int_0^{2\\pi} a \\overline{b} dx_wdy_w \\left(\\approx \\sum_{i}\\sum_{j} a(x_i, y_j) \\overline{b}(x_i, y_j) w_i w_j\\right),\n",
    "\\label{_auto6} \\tag{23}\n",
    "\\end{equation}\n",
    "$$"
   ]
  },
  {
   "cell_type": "markdown",
   "id": "d98142bf",
   "metadata": {
    "editable": true
   },
   "source": [
    "where the exact form of the\n",
    "weighted scalar product depends on the chosen basis; Legendre has $dx_w=dx$, Chebyshev\n",
    "$dx_w = dx/\\sqrt{1-x^2}$ and Fourier $dy_w=dy/2/\\pi$. The bases also have associated quadrature weights\n",
    "$\\{w_i \\}_{i=0}^{N-1}$ and $\\{w_j\\}_{j=0}^{M-1}$ that are used to approximate the integrals.\n",
    "\n",
    "Inserting now for the known $u_N$, the unknown $v_N$, and $q=\\phi_m^D(x) \\exp(\\imath n y)$ the\n",
    "continuity equation becomes"
   ]
  },
  {
   "cell_type": "markdown",
   "id": "2ac1d624",
   "metadata": {
    "editable": true
   },
   "source": [
    "$$\n",
    "\\int_{-1}^1 \\int_{0}^{2\\pi} \\frac{\\partial}{\\partial x} \\left(\\sum_{k \\in \\boldsymbol{k}_B} \\sum_{l \\in \\boldsymbol{l}} \\hat{u}_{kl}(t) \\phi_k^B(x) \\exp(\\imath l y) \\right) \\phi_m^D(x) \\exp(-\\imath n y) dx_w dy_w + \\\\ \n",
    "  \\int_{-1}^1 \\int_{0}^{2\\pi} \\frac{\\partial}{\\partial y} \\left(\\sum_{k \\in \\boldsymbol{k}_D} \\sum_{l \\in \\boldsymbol{l}} \\hat{v}_{kl}(t) \\phi_k^D(x) \\exp(\\imath l y) \\right) \\phi_m^D(x) \\exp(-\\imath n y) dx_w dy_w  = 0.\n",
    "$$"
   ]
  },
  {
   "cell_type": "markdown",
   "id": "1a8e691c",
   "metadata": {
    "editable": true
   },
   "source": [
    "The $x$ and $y$ domains are separable, so we can rewrite as"
   ]
  },
  {
   "cell_type": "markdown",
   "id": "1cf1221d",
   "metadata": {
    "editable": true
   },
   "source": [
    "$$\n",
    "\\sum_{k \\in \\boldsymbol{k}_B} \\sum_{l \\in \\boldsymbol{l}} \\int_{-1}^1 \\frac{\\partial \\phi_k^B(x)}{\\partial x}  \\phi_m^D(x) dx_w \\int_{0}^{2\\pi} \\exp(\\imath l y) \\exp(-\\imath n y) dy_w \\hat{u}_{kl} + \\\\ \n",
    "    \\sum_{k \\in \\boldsymbol{k}_D} \\sum_{l \\in \\boldsymbol{l}} \\int_{-1}^1 \\phi_k^D(x) \\phi_m^D(x) dx_w   \\int_{0}^{2\\pi} \\frac{\\partial \\exp(\\imath l y)}{\\partial y} \\exp(-\\imath n y) dy_w \\hat{v}_{kl} = 0.\n",
    "$$"
   ]
  },
  {
   "cell_type": "markdown",
   "id": "4df1a6eb",
   "metadata": {
    "editable": true
   },
   "source": [
    "Now perform some exact manipulations in the Fourier direction and introduce the\n",
    "1D inner product notation for the $x$-direction"
   ]
  },
  {
   "cell_type": "markdown",
   "id": "a3eb4492",
   "metadata": {
    "editable": true
   },
   "source": [
    "<!-- Equation labels as ordinary links -->\n",
    "<a id=\"_auto7\"></a>\n",
    "\n",
    "$$\n",
    "\\begin{equation}\n",
    "    \\left(a, b\\right)_w = \\int_{-1}^1 a(x) b(x) dx_w \\left(\\approx \\sum_{j = 0}^{N-1} a(x_j)b(x_j) w_j\\right).\n",
    "\\label{_auto7} \\tag{24}\n",
    "\\end{equation}\n",
    "$$"
   ]
  },
  {
   "cell_type": "markdown",
   "id": "1b5d5113",
   "metadata": {
    "editable": true
   },
   "source": [
    "By also simplifying the notation using summation of repeated indices,\n",
    "we get the following equation"
   ]
  },
  {
   "cell_type": "markdown",
   "id": "26b6a18f",
   "metadata": {
    "editable": true
   },
   "source": [
    "<!-- Equation labels as ordinary links -->\n",
    "<a id=\"_auto8\"></a>\n",
    "\n",
    "$$\n",
    "\\begin{equation}\n",
    "   \\delta_{ln} \\left(\\frac{\\partial \\phi_k^B}{\\partial x}, \\phi_m^D \\right)_w \\hat{u}_{kl}\n",
    "   + \\imath l \\delta_{ln} \\left(\\phi_k^D, \\phi_m^D \\right)_w \\hat{v}_{kl}  = 0.\n",
    "\\label{_auto8} \\tag{25}\n",
    "\\end{equation}\n",
    "$$"
   ]
  },
  {
   "cell_type": "markdown",
   "id": "e486aa6d",
   "metadata": {
    "editable": true
   },
   "source": [
    "Now $l$ must equal $n$ and we can simplify some more"
   ]
  },
  {
   "cell_type": "markdown",
   "id": "f4c027ba",
   "metadata": {
    "editable": true
   },
   "source": [
    "<!-- Equation labels as ordinary links -->\n",
    "<a id=\"eq:div3\"></a>\n",
    "\n",
    "$$\n",
    "\\begin{equation}\n",
    "   \\left(\\frac{\\partial \\phi_k^B}{\\partial x}, \\phi_m^D \\right)_w \\hat{u}_{kl}\n",
    "   + \\imath l \\left(\\phi_k^D, \\phi_m^D \\right)_w \\hat{v}_{kl}  = 0. \\label{eq:div3} \\tag{26}\n",
    "\\end{equation}\n",
    "$$"
   ]
  },
  {
   "cell_type": "markdown",
   "id": "fb8eb364",
   "metadata": {
    "editable": true
   },
   "source": [
    "We see that this equation can be solved for\n",
    "$\\hat{v}_{kl} \\text{ for } (k, l) \\in \\boldsymbol{k}_D \\times [1, 2, \\ldots, M/2]$, but try with\n",
    "$l=0$ and you hit division by zero, which obviously is not allowed. And this is the reason\n",
    "why Eq. ([6](#eq:v)) is still needed, to solve for $\\hat{v}_{k,0}$! Fortunately,\n",
    "since $\\exp(\\imath 0 y) = 1$, the pressure derivative $\\frac{\\partial p}{\\partial y} = 0$,\n",
    "and as such the pressure is still not required. When used only for\n",
    "Fourier coefficient 0, Eq. ([6](#eq:v)) becomes"
   ]
  },
  {
   "cell_type": "markdown",
   "id": "e1966ab1",
   "metadata": {
    "editable": true
   },
   "source": [
    "<!-- Equation labels as ordinary links -->\n",
    "<a id=\"eq:vx\"></a>\n",
    "\n",
    "$$\n",
    "\\begin{equation}\n",
    "\\frac{\\partial v}{\\partial t} + N_y = \\sqrt{\\frac{Pr}{Ra}} \\frac{\\partial^2 v}{\\partial x^2}. \\label{eq:vx} \\tag{27}\n",
    "\\end{equation}\n",
    "$$"
   ]
  },
  {
   "cell_type": "markdown",
   "id": "69a9f741",
   "metadata": {
    "editable": true
   },
   "source": [
    "There is still one more revelation to be made from Eq. ([26](#eq:div3)). When $l=0$ we get"
   ]
  },
  {
   "cell_type": "markdown",
   "id": "440cd498",
   "metadata": {
    "editable": true
   },
   "source": [
    "<!-- Equation labels as ordinary links -->\n",
    "<a id=\"_auto9\"></a>\n",
    "\n",
    "$$\n",
    "\\begin{equation}\n",
    "    \\left(\\frac{\\partial \\phi_k^B}{\\partial x}, \\phi_m^D \\right)_w \\hat{u}_{k,0} = 0,\n",
    "\\label{_auto9} \\tag{28}\n",
    "\\end{equation}\n",
    "$$"
   ]
  },
  {
   "cell_type": "markdown",
   "id": "200607d9",
   "metadata": {
    "editable": true
   },
   "source": [
    "which is trivially satisfied if $\\hat{u}_{k,0}=0$ for $k\\in\\boldsymbol{k}_B$. Bottom line is\n",
    "that we only need to solve Eq. ([5](#eq:rb:u2)) for $l \\in \\boldsymbol{l}/\\{0\\}$, whereas we can use\n",
    "directly $\\hat{u}_{k,0}=0 \\text{ for } k \\in \\boldsymbol{k}_B$.\n",
    "\n",
    "To sum up, with the solution known at $t = t - \\Delta t$, we solve\n",
    "\n",
    ":::{table}\n",
    ":widths: auto\n",
    "\n",
    "|      Equation                                           |             For unknown     |                With indices                                         |\n",
    "| :------------------------------------------------------ | :-------------------------- | :------------------------------------------------------------------ |\n",
    "| (<a class=\"reference external\" href=\"#eq:rb:u2\">5</a>)  |     {math}`\\hat{u}_{kl}(t)` |    {math}`(k, l) \\in \\boldsymbol{k}_B \\times \\boldsymbol{l}/\\{0\\}`  |\n",
    "| (<a class=\"reference external\" href=\"#eq:div2\">8</a>)   |     {math}`\\hat{v}_{kl}(t)` |    {math}`(k, l) \\in \\boldsymbol{k}_D \\times \\boldsymbol{l}/\\{0\\}`  |\n",
    "| (<a class=\"reference external\" href=\"#eq:vx\">27</a>)    |     {math}`\\hat{v}_{kl}(t)` |    {math}`(k, l) \\in \\boldsymbol{k}_D \\times \\{0\\}`                 |\n",
    "| (<a class=\"reference external\" href=\"#eq:T2\">7</a>)     |     {math}`\\hat{T}_{kl}(t)` |    {math}`(k, l) \\in \\boldsymbol{k}_T \\times \\boldsymbol{l}`        |\n",
    "\n",
    ":::\n"
   ]
  },
  {
   "cell_type": "markdown",
   "id": "b943e520",
   "metadata": {
    "editable": true
   },
   "source": [
    "## Temporal discretization\n",
    "\n",
    "The governing equations are integrated in time using any one of the time steppers available in\n",
    "shenfun. There are several possible IMEX Runge Kutta methods, see [integrators.py](https://github.com/spectralDNS/shenfun/blob/master/shenfun/utilities/integrators.py).\n",
    "The time steppers are used for any generic equation"
   ]
  },
  {
   "cell_type": "markdown",
   "id": "b6237baa",
   "metadata": {
    "editable": true
   },
   "source": [
    "<!-- Equation labels as ordinary links -->\n",
    "<a id=\"eq:genericpsi\"></a>\n",
    "\n",
    "$$\n",
    "\\begin{equation}\n",
    " \\frac{\\partial \\psi}{\\partial t} = \\mathcal{N} + \\mathcal{L}\\psi \\label{eq:genericpsi} \\tag{29},\n",
    "\\end{equation}\n",
    "$$"
   ]
  },
  {
   "cell_type": "markdown",
   "id": "f42997a8",
   "metadata": {
    "editable": true
   },
   "source": [
    "where $\\mathcal{N}$ and $\\mathcal{L}$ represents the nonlinear and linear contributions, respectively.\n",
    "The timesteppers are provided with $\\psi, \\mathcal{L}$ and $\\mathcal{N}$, and possibly some tailored\n",
    "linear algebra solvers, and solvers are then further assembled under the hood.\n",
    "\n",
    "All the timesteppers split one time step into one or several stages.\n",
    "The classes [IMEXRK222](https://shenfun.readthedocs.io/en/latest/shenfun.utilities.html#shenfun.utilities.integrators.IMEXRK222), [IMEXRK3](https://shenfun.readthedocs.io/en/latest/shenfun.utilities.html#shenfun.utilities.integrators.IMEXRK3) and [IMEXRK443](https://shenfun.readthedocs.io/en/latest/shenfun.utilities.html#shenfun.utilities.integrators.IMEXRK443)\n",
    "have 2, 3 and 4 steps, respectively, and the cost is proportional."
   ]
  },
  {
   "cell_type": "markdown",
   "id": "1b1d02c6",
   "metadata": {
    "editable": true
   },
   "source": [
    "## Implementation\n",
    "\n",
    "To get started we need instances of the approximation spaces discussed in\n",
    "Eqs. ([9](#eq:VB)) - ([17](#eq:WWF)). When the spaces are created we also need\n",
    "to specify the family and the dimension of each space. Here we simply\n",
    "choose Chebyshev and Fourier with 100 and 256 quadrature points in $x$ and\n",
    "$y$-directions, respectively. We could replace 'Chebyshev' by 'Legendre',\n",
    "but the former is known to be faster due to the existence of fast transforms."
   ]
  },
  {
   "cell_type": "code",
   "execution_count": 1,
   "id": "4917abcd",
   "metadata": {
    "editable": true,
    "execution": {
     "iopub.execute_input": "2024-08-17T21:21:22.859257Z",
     "iopub.status.busy": "2024-08-17T21:21:22.858895Z",
     "iopub.status.idle": "2024-08-17T21:21:23.335226Z",
     "shell.execute_reply": "2024-08-17T21:21:23.334907Z"
    },
    "tags": [
     "thebe-init"
    ]
   },
   "outputs": [],
   "source": [
    "from shenfun import *\n",
    "\n",
    "N, M = 64, 128\n",
    "family = 'Chebyshev'\n",
    "VB = FunctionSpace(N, family, bc=(0, 0, 0, 0))\n",
    "VD = FunctionSpace(N, family, bc=(0, 0))\n",
    "VW = FunctionSpace(N, family)\n",
    "VT = FunctionSpace(N, family, bc=(1, 0))\n",
    "VF = FunctionSpace(M, 'F', dtype='d')"
   ]
  },
  {
   "cell_type": "markdown",
   "id": "b7122e43",
   "metadata": {
    "editable": true
   },
   "source": [
    "And then we create tensor product spaces by combining these bases (like in Eqs. ([14](#eq:WBF))-([17](#eq:WWF)))."
   ]
  },
  {
   "cell_type": "code",
   "execution_count": 2,
   "id": "32a0a207",
   "metadata": {
    "editable": true,
    "execution": {
     "iopub.execute_input": "2024-08-17T21:21:23.337009Z",
     "iopub.status.busy": "2024-08-17T21:21:23.336767Z",
     "iopub.status.idle": "2024-08-17T21:21:23.699243Z",
     "shell.execute_reply": "2024-08-17T21:21:23.698858Z"
    },
    "tags": [
     "thebe-init"
    ]
   },
   "outputs": [],
   "source": [
    "W_BF = TensorProductSpace(comm, (VB, VF))    # Wall-normal velocity\n",
    "W_DF = TensorProductSpace(comm, (VD, VF))    # Streamwise velocity\n",
    "W_WF = TensorProductSpace(comm, (VW, VF))    # No bc\n",
    "W_TF = TensorProductSpace(comm, (VT, VF))    # Temperature\n",
    "BD = VectorSpace([W_BF, W_DF])   # Velocity vector\n",
    "DD = VectorSpace([W_DF, W_DF])   # Convection vector\n",
    "W_DFp = W_DF.get_dealiased(padding_factor=1.5)\n",
    "BDp = BD.get_dealiased(padding_factor=1.5)"
   ]
  },
  {
   "cell_type": "markdown",
   "id": "3e9e1f8d",
   "metadata": {
    "editable": true
   },
   "source": [
    "Here the `VectorSpae` create mixed tensor product spaces by the\n",
    "Cartesian products `BD = W_BF` $\\times$ `W_DF` and `DD = W_DF` $\\times$ `W_DF`.\n",
    "These mixed space will be used to hold the velocity and convection vectors,\n",
    "but we will not solve the equations in a coupled manner and continue in the\n",
    "segregated approach outlined above.\n",
    "\n",
    "We also need containers for the computed solutions. These are created as"
   ]
  },
  {
   "cell_type": "code",
   "execution_count": 3,
   "id": "be8b51ce",
   "metadata": {
    "editable": true,
    "execution": {
     "iopub.execute_input": "2024-08-17T21:21:23.700743Z",
     "iopub.status.busy": "2024-08-17T21:21:23.700654Z",
     "iopub.status.idle": "2024-08-17T21:21:23.702692Z",
     "shell.execute_reply": "2024-08-17T21:21:23.702454Z"
    },
    "tags": [
     "thebe-init"
    ]
   },
   "outputs": [],
   "source": [
    "u_  = Function(BD)     # Velocity vector, two components\n",
    "T_  = Function(W_TF)   # Temperature\n",
    "H_  = Function(DD)     # Convection vector\n",
    "uT_ = Function(BD)     # u times T"
   ]
  },
  {
   "cell_type": "markdown",
   "id": "4c90842d",
   "metadata": {
    "editable": true
   },
   "source": [
    "### Wall-normal velocity equation\n",
    "\n",
    "We implement Eq. ([5](#eq:rb:u2)) using a generic time stepper.\n",
    "To this end we first need to declare some test- and trial functions, as well as\n",
    "some model constants and the length of the time step. We store the\n",
    "PDE time stepper in a dictionary called `pdes` just for convenience:"
   ]
  },
  {
   "cell_type": "code",
   "execution_count": 4,
   "id": "b3ee1794",
   "metadata": {
    "editable": true,
    "execution": {
     "iopub.execute_input": "2024-08-17T21:21:23.703943Z",
     "iopub.status.busy": "2024-08-17T21:21:23.703871Z",
     "iopub.status.idle": "2024-08-17T21:21:23.728239Z",
     "shell.execute_reply": "2024-08-17T21:21:23.727945Z"
    },
    "tags": [
     "thebe-init"
    ]
   },
   "outputs": [],
   "source": [
    "\n",
    "# Specify viscosity and time step size using dimensionless Ra and Pr\n",
    "Ra = 1000000\n",
    "Pr = 0.7\n",
    "nu = np.sqrt(Pr/Ra)\n",
    "kappa = 1./np.sqrt(Pr*Ra)\n",
    "dt = 0.025\n",
    "\n",
    "# Choose timestepper and create instance of class\n",
    "\n",
    "PDE = IMEXRK3 # IMEX222, IMEXRK443\n",
    "\n",
    "v = TestFunction(W_BF) # The space we're solving for u in\n",
    "\n",
    "pdes = {\n",
    "    'u': PDE(v,                              # test function\n",
    "             div(grad(u_[0])),               # u\n",
    "             lambda f: nu*div(grad(f)),      # linear operator on u\n",
    "             [Dx(Dx(H_[1], 0, 1), 1, 1)-Dx(H_[0], 1, 2), Dx(T_, 1, 2)],\n",
    "             dt=dt,\n",
    "             solver=chebyshev.la.Biharmonic if family == 'Chebyshev' else la.SolverGeneric1ND,\n",
    "             latex=r\"\\frac{\\partial \\nabla^2 u}{\\partial t} = \\nu \\nabla^4 u + \\frac{\\partial^2 N_y}{\\partial x \\partial y} - \\frac{\\partial^2 N_x}{\\partial y^2}\")\n",
    "}\n",
    "pdes['u'].assemble()"
   ]
  },
  {
   "cell_type": "markdown",
   "id": "7b8ac028",
   "metadata": {
    "editable": true
   },
   "source": [
    "Notice the one-to-one resemblance with ([5](#eq:rb:u2)).\n",
    "\n",
    "The right hand side depends on the convection vector $\\boldsymbol{H}$, which can be computed in many different ways.\n",
    "Here we will make use of\n",
    "the identity $(\\boldsymbol{u} \\cdot \\nabla) \\boldsymbol{u} = -\\boldsymbol{u} \\times (\\nabla \\times \\boldsymbol{u}) + 0.5 \\nabla\\boldsymbol{u} \\cdot \\boldsymbol{u}$,\n",
    "where $0.5 \\nabla \\boldsymbol{u} \\cdot \\boldsymbol{u}$ can be added to the eliminated pressure and as such\n",
    "be neglected. Compute $\\boldsymbol{H} = -\\boldsymbol{u} \\times (\\nabla \\times \\boldsymbol{u})$ by first evaluating\n",
    "the velocity and the curl in real space. The curl is obtained by projection of $\\nabla \\times \\boldsymbol{u}$\n",
    "to the no-boundary-condition space `W_TF`, followed by a backward transform to real space.\n",
    "The velocity is simply transformed backwards with padding."
   ]
  },
  {
   "cell_type": "code",
   "execution_count": 5,
   "id": "1edae12b",
   "metadata": {
    "editable": true,
    "execution": {
     "iopub.execute_input": "2024-08-17T21:21:23.729666Z",
     "iopub.status.busy": "2024-08-17T21:21:23.729589Z",
     "iopub.status.idle": "2024-08-17T21:21:23.736840Z",
     "shell.execute_reply": "2024-08-17T21:21:23.736590Z"
    },
    "tags": [
     "thebe-init"
    ]
   },
   "outputs": [],
   "source": [
    "# Get a mask for setting Nyquist frequency to zero\n",
    "mask = W_DF.get_mask_nyquist()\n",
    "Curl = Project(curl(u_), W_WF) # Instance used to compute curl\n",
    "\n",
    "def compute_convection(u, H):\n",
    "    up = u.backward(padding_factor=1.5).v\n",
    "    curl = Curl().backward(padding_factor=1.5)\n",
    "    H[0] = W_DFp.forward(-curl*up[1])\n",
    "    H[1] = W_DFp.forward(curl*up[0])\n",
    "    H.mask_nyquist(mask)\n",
    "    return H"
   ]
  },
  {
   "cell_type": "markdown",
   "id": "4833c72d",
   "metadata": {
    "editable": true
   },
   "source": [
    "Note that the convection has a homogeneous Dirichlet boundary condition in the\n",
    "non-periodic direction."
   ]
  },
  {
   "cell_type": "markdown",
   "id": "4bf47890",
   "metadata": {
    "editable": true
   },
   "source": [
    "### Streamwise velocity\n",
    "\n",
    "The streamwise velocity is computed using Eq. ([26](#eq:div3)) and ([27](#eq:vx)).\n",
    "The first part is done fastest by projecting $f=\\frac{\\partial u}{\\partial x}$\n",
    "to the same Dirichlet space `W_DF` used by $v$. This is most efficiently\n",
    "done by creating a class to do it"
   ]
  },
  {
   "cell_type": "code",
   "execution_count": 6,
   "id": "ef83143c",
   "metadata": {
    "editable": true,
    "execution": {
     "iopub.execute_input": "2024-08-17T21:21:23.738159Z",
     "iopub.status.busy": "2024-08-17T21:21:23.738078Z",
     "iopub.status.idle": "2024-08-17T21:21:23.746635Z",
     "shell.execute_reply": "2024-08-17T21:21:23.746441Z"
    },
    "tags": [
     "thebe-init"
    ]
   },
   "outputs": [],
   "source": [
    "f = dudx = Project(Dx(u_[0], 0, 1), W_DF)"
   ]
  },
  {
   "cell_type": "markdown",
   "id": "15d1dd66",
   "metadata": {
    "editable": true
   },
   "source": [
    "Since $f$ now is in the same space as the streamwise velocity, Eq. ([26](#eq:div3))\n",
    "simplifies to"
   ]
  },
  {
   "cell_type": "markdown",
   "id": "0cc5e0c5",
   "metadata": {
    "editable": true
   },
   "source": [
    "<!-- Equation labels as ordinary links -->\n",
    "<a id=\"eq:fdiv\"></a>\n",
    "\n",
    "$$\n",
    "\\begin{equation}\n",
    "  \\imath l \\left(\\phi_k^D, \\phi_m^D \\right)_w \\hat{v}_{kl}\n",
    "   = -\\left( \\phi_k^D, \\phi_m^D \\right)_w \\hat{f}_{kl}, \\label{eq:fdiv} \\tag{30} \n",
    "\\end{equation}\n",
    "$$"
   ]
  },
  {
   "cell_type": "markdown",
   "id": "6f940ea9",
   "metadata": {
    "editable": true
   },
   "source": [
    "<!-- Equation labels as ordinary links -->\n",
    "<a id=\"_auto10\"></a>\n",
    "\n",
    "$$\n",
    "\\begin{equation}  \n",
    "   \\hat{v}_{kl} = \\frac{\\imath \\hat{f}_{kl}}{ l}.\n",
    "\\label{_auto10} \\tag{31}\n",
    "\\end{equation}\n",
    "$$"
   ]
  },
  {
   "cell_type": "markdown",
   "id": "93c20b46",
   "metadata": {
    "editable": true
   },
   "source": [
    "We thus compute $\\hat{v}_{kl}$ for all $k$ and $l>0$ as"
   ]
  },
  {
   "cell_type": "code",
   "execution_count": 7,
   "id": "0a919817",
   "metadata": {
    "editable": true,
    "execution": {
     "iopub.execute_input": "2024-08-17T21:21:23.747865Z",
     "iopub.status.busy": "2024-08-17T21:21:23.747796Z",
     "iopub.status.idle": "2024-08-17T21:21:23.750437Z",
     "shell.execute_reply": "2024-08-17T21:21:23.750229Z"
    },
    "tags": [
     "thebe-init"
    ]
   },
   "outputs": [],
   "source": [
    "K = W_BF.local_wavenumbers(scaled=True)\n",
    "K[1][0, 0] = 1 # to avoid division by zero. This component is computed later anyway.\n",
    "u_[1] = 1j*dudx()/K[1]"
   ]
  },
  {
   "cell_type": "markdown",
   "id": "df413965",
   "metadata": {
    "editable": true
   },
   "source": [
    "which leaves only $\\hat{v}_{k0}$. For this we use ([27](#eq:vx)) and get"
   ]
  },
  {
   "cell_type": "code",
   "execution_count": 8,
   "id": "115a2254",
   "metadata": {
    "editable": true,
    "execution": {
     "iopub.execute_input": "2024-08-17T21:21:23.751578Z",
     "iopub.status.busy": "2024-08-17T21:21:23.751504Z",
     "iopub.status.idle": "2024-08-17T21:21:23.755956Z",
     "shell.execute_reply": "2024-08-17T21:21:23.755752Z"
    },
    "tags": [
     "thebe-init"
    ]
   },
   "outputs": [],
   "source": [
    "v00 = Function(VD)\n",
    "v0 = TestFunction(VD)\n",
    "h1 = Function(VD) # convection equal to H_[1, :, 0]\n",
    "pdes1d = {\n",
    "    'v0': PDE(v0,\n",
    "              v00,\n",
    "              lambda f: nu*div(grad(f)),\n",
    "              -Expr(h1),\n",
    "              dt=dt,\n",
    "              solver=chebyshev.la.Helmholtz if family == 'Chebyshev' else la.Solver,\n",
    "              latex=r\"\\frac{\\partial v}{\\partial t} = \\nu \\frac{\\partial^2 v}{\\partial x^2} - N_y \"),\n",
    "}\n",
    "pdes1d['v0'].assemble()"
   ]
  },
  {
   "cell_type": "markdown",
   "id": "6dafd2a3",
   "metadata": {
    "editable": true
   },
   "source": [
    "A function that computes `v` for an integration stage `rk` is"
   ]
  },
  {
   "cell_type": "code",
   "execution_count": 9,
   "id": "d52d2548",
   "metadata": {
    "editable": true,
    "execution": {
     "iopub.execute_input": "2024-08-17T21:21:23.757116Z",
     "iopub.status.busy": "2024-08-17T21:21:23.757044Z",
     "iopub.status.idle": "2024-08-17T21:21:23.758712Z",
     "shell.execute_reply": "2024-08-17T21:21:23.758500Z"
    },
    "tags": [
     "thebe-init"
    ]
   },
   "outputs": [],
   "source": [
    "def compute_v(rk):\n",
    "    v00[:] = u_[1, :, 0].real\n",
    "    h1[:] = H_[1, :, 0].real\n",
    "    u_[1] = 1j*dudx()/K[1]\n",
    "    pdes1d['v0'].compute_rhs(rk)\n",
    "    u_[1, :, 0] = pdes1d['v0'].solve_step(rk)"
   ]
  },
  {
   "cell_type": "markdown",
   "id": "c2709468",
   "metadata": {
    "editable": true
   },
   "source": [
    "### Temperature\n",
    "\n",
    "The temperature equation ([2](#eq:T)) is implemented using a Helmholtz solver.\n",
    "The main difficulty with the temperature is the non-homogeneous boundary\n",
    "condition that requires special attention. A non-zero Dirichlet boundary\n",
    "condition is implemented by adding two basis functions to the\n",
    "basis of the function space"
   ]
  },
  {
   "cell_type": "markdown",
   "id": "54e16ff6",
   "metadata": {
    "editable": true
   },
   "source": [
    "<!-- Equation labels as ordinary links -->\n",
    "<a id=\"_auto11\"></a>\n",
    "\n",
    "$$\n",
    "\\begin{equation}\n",
    "    \\phi^D_{N-2} = 0.5(1+x), \n",
    "\\label{_auto11} \\tag{32}\n",
    "\\end{equation}\n",
    "$$"
   ]
  },
  {
   "cell_type": "markdown",
   "id": "cf5b8b0b",
   "metadata": {
    "editable": true
   },
   "source": [
    "<!-- Equation labels as ordinary links -->\n",
    "<a id=\"_auto12\"></a>\n",
    "\n",
    "$$\n",
    "\\begin{equation}  \n",
    "    \\phi^D_{N-1} = 0.5(1-x),\n",
    "\\label{_auto12} \\tag{33}\n",
    "\\end{equation}\n",
    "$$"
   ]
  },
  {
   "cell_type": "markdown",
   "id": "f036c207",
   "metadata": {
    "editable": true
   },
   "source": [
    "with the approximation now becoming"
   ]
  },
  {
   "cell_type": "markdown",
   "id": "e4e54760",
   "metadata": {
    "editable": true
   },
   "source": [
    "<!-- Equation labels as ordinary links -->\n",
    "<a id=\"_auto13\"></a>\n",
    "\n",
    "$$\n",
    "\\begin{equation}\n",
    "    T_N(x, y, t) = \\sum_{k=0}^{N-1} \\sum_{l \\in \\boldsymbol{l}} \\hat{T}_{kl} \\phi^D_k(x)\\exp(\\imath l y), \n",
    "\\label{_auto13} \\tag{34}\n",
    "\\end{equation}\n",
    "$$"
   ]
  },
  {
   "cell_type": "markdown",
   "id": "7711f3a7",
   "metadata": {
    "editable": true
   },
   "source": [
    "<!-- Equation labels as ordinary links -->\n",
    "<a id=\"_auto14\"></a>\n",
    "\n",
    "$$\n",
    "\\begin{equation}  \n",
    "                 = \\sum_{k=0}^{N-3} \\sum_{l \\in \\boldsymbol{l}} \\hat{T}_{kl} \\phi^D_k(x)\\exp(\\imath l y) + \\sum_{k=N-2}^{N-1} \\sum_{l \\in \\boldsymbol{l}} \\hat{T}_{kl} \\phi^D_k(x)\\exp(\\imath l y).\n",
    "\\label{_auto14} \\tag{35}\n",
    "\\end{equation}\n",
    "$$"
   ]
  },
  {
   "cell_type": "markdown",
   "id": "9c0495e0",
   "metadata": {
    "editable": true
   },
   "source": [
    "The boundary condition requires"
   ]
  },
  {
   "cell_type": "markdown",
   "id": "de20a9ca",
   "metadata": {
    "editable": true
   },
   "source": [
    "<!-- Equation labels as ordinary links -->\n",
    "<a id=\"_auto15\"></a>\n",
    "\n",
    "$$\n",
    "\\begin{equation}\n",
    "T_N(1, y, t) = \\sum_{k=N-2}^{N-1} \\sum_{l \\in \\boldsymbol{l}} \\hat{T}_{kl} \\phi^D_k(1)\\exp(\\imath l y), \n",
    "\\label{_auto15} \\tag{36}\n",
    "\\end{equation}\n",
    "$$"
   ]
  },
  {
   "cell_type": "markdown",
   "id": "7a45e061",
   "metadata": {
    "editable": true
   },
   "source": [
    "<!-- Equation labels as ordinary links -->\n",
    "<a id=\"eq:TN0\"></a>\n",
    "\n",
    "$$\n",
    "\\begin{equation}  \n",
    "             = \\sum_{l \\in \\boldsymbol{l}} \\hat{T}_{N-2, l} \\exp(\\imath l y), \\label{eq:TN0} \\tag{37}\n",
    "\\end{equation}\n",
    "$$"
   ]
  },
  {
   "cell_type": "markdown",
   "id": "d478e8e2",
   "metadata": {
    "editable": true
   },
   "source": [
    "and"
   ]
  },
  {
   "cell_type": "markdown",
   "id": "46da00c4",
   "metadata": {
    "editable": true
   },
   "source": [
    "<!-- Equation labels as ordinary links -->\n",
    "<a id=\"_auto16\"></a>\n",
    "\n",
    "$$\n",
    "\\begin{equation}\n",
    "T_N(-1, y, t) = \\sum_{k=N-2}^{N-1} \\sum_{l \\in \\boldsymbol{l}} \\hat{T}_{kl} \\phi^D_k(-1)\\exp(\\imath l y), \n",
    "\\label{_auto16} \\tag{38}\n",
    "\\end{equation}\n",
    "$$"
   ]
  },
  {
   "cell_type": "markdown",
   "id": "08f254e3",
   "metadata": {
    "editable": true
   },
   "source": [
    "<!-- Equation labels as ordinary links -->\n",
    "<a id=\"eq:TN1\"></a>\n",
    "\n",
    "$$\n",
    "\\begin{equation}  \n",
    "              = \\sum_{l \\in \\boldsymbol{l}} \\hat{T}_{N-1, l} \\exp(\\imath l y). \\label{eq:TN1} \\tag{39}\n",
    "\\end{equation}\n",
    "$$"
   ]
  },
  {
   "cell_type": "markdown",
   "id": "6ba8d915",
   "metadata": {
    "editable": true
   },
   "source": [
    "We find $\\hat{T}_{N-2, l}$ and $\\hat{T}_{N-1, l}$ using orthogonality. Multiply ([37](#eq:TN0)) and\n",
    "([39](#eq:TN1)) by $\\exp(-\\imath m y)$ and integrate over the domain $[0, 2\\pi]$. We get"
   ]
  },
  {
   "cell_type": "markdown",
   "id": "37475efa",
   "metadata": {
    "editable": true
   },
   "source": [
    "<!-- Equation labels as ordinary links -->\n",
    "<a id=\"_auto17\"></a>\n",
    "\n",
    "$$\n",
    "\\begin{equation}\n",
    "    \\hat{T}_{N-2, l} = \\int_{0}^{2\\pi} T_N(1, y, t) \\exp(-\\imath l y) dy, \n",
    "\\label{_auto17} \\tag{40}\n",
    "\\end{equation}\n",
    "$$"
   ]
  },
  {
   "cell_type": "markdown",
   "id": "11a34479",
   "metadata": {
    "editable": true
   },
   "source": [
    "<!-- Equation labels as ordinary links -->\n",
    "<a id=\"_auto18\"></a>\n",
    "\n",
    "$$\n",
    "\\begin{equation}  \n",
    "    \\hat{T}_{N-1, l} = \\int_{0}^{2\\pi} T_N(-1, y, t) \\exp(-\\imath l y) dy.\n",
    "\\label{_auto18} \\tag{41}\n",
    "\\end{equation}\n",
    "$$"
   ]
  },
  {
   "cell_type": "markdown",
   "id": "802c82db",
   "metadata": {
    "editable": true
   },
   "source": [
    "Using this approach it is easy to see that any inhomogeneous function $T_N(\\pm 1, y, t)$\n",
    "of $y$ and $t$ can be used for the boundary condition, and not just a constant.\n",
    "However, we will not get into this here.\n",
    "And luckily for us all this complexity with boundary conditions will be\n",
    "taken care of under the hood by shenfun.\n",
    "\n",
    "A time stepper for the temperature equation is implemented as"
   ]
  },
  {
   "cell_type": "code",
   "execution_count": 10,
   "id": "174a1ac5",
   "metadata": {
    "editable": true,
    "execution": {
     "iopub.execute_input": "2024-08-17T21:21:23.760307Z",
     "iopub.status.busy": "2024-08-17T21:21:23.760236Z",
     "iopub.status.idle": "2024-08-17T21:21:23.788410Z",
     "shell.execute_reply": "2024-08-17T21:21:23.788205Z"
    },
    "tags": [
     "thebe-init"
    ]
   },
   "outputs": [],
   "source": [
    "uT_ = Function(BD)\n",
    "q = TestFunction(W_TF)\n",
    "pdes['T'] = PDE(q,\n",
    "                T_,\n",
    "                lambda f: kappa*div(grad(f)),\n",
    "                -div(uT_),\n",
    "                dt=dt,\n",
    "                solver=chebyshev.la.Helmholtz if family == 'Chebyshev' else la.SolverGeneric1ND,\n",
    "                latex=r\"\\frac{\\partial T}{\\partial t} = \\kappa \\nabla^2 T - \\nabla \\cdot \\vec{u}T\")\n",
    "pdes['T'].assemble()"
   ]
  },
  {
   "cell_type": "markdown",
   "id": "d1745f18",
   "metadata": {
    "editable": true
   },
   "source": [
    "The `uT_` term is computed with dealiasing as"
   ]
  },
  {
   "cell_type": "code",
   "execution_count": 11,
   "id": "62dc1037",
   "metadata": {
    "editable": true,
    "execution": {
     "iopub.execute_input": "2024-08-17T21:21:23.789586Z",
     "iopub.status.busy": "2024-08-17T21:21:23.789514Z",
     "iopub.status.idle": "2024-08-17T21:21:23.791128Z",
     "shell.execute_reply": "2024-08-17T21:21:23.790938Z"
    },
    "tags": [
     "thebe-init"
    ]
   },
   "outputs": [],
   "source": [
    "def compute_uT(u_, T_, uT_):\n",
    "    up = u_.backward(padding_factor=1.5)\n",
    "    Tp = T_.backward(padding_factor=1.5)\n",
    "    uT_ = BDp.forward(up*Tp, uT_)\n",
    "    return uT_"
   ]
  },
  {
   "cell_type": "markdown",
   "id": "7db1c217",
   "metadata": {
    "editable": true
   },
   "source": [
    "Finally all that is left is to initialize the solution and\n",
    "integrate it forward in time."
   ]
  },
  {
   "cell_type": "code",
   "execution_count": 12,
   "id": "1a2cfb7b",
   "metadata": {
    "editable": true,
    "execution": {
     "iopub.execute_input": "2024-08-17T21:21:23.792300Z",
     "iopub.status.busy": "2024-08-17T21:21:23.792235Z",
     "iopub.status.idle": "2024-08-17T21:21:31.258551Z",
     "shell.execute_reply": "2024-08-17T21:21:31.258300Z"
    },
    "tags": [
     "thebe-init"
    ]
   },
   "outputs": [
    {
     "data": {
      "image/png": "[encoded data removed]",
      "text/plain": [
       "<Figure size 640x480 with 1 Axes>"
      ]
     },
     "metadata": {},
     "output_type": "display_data"
    }
   ],
   "source": [
    "%matplotlib inline\n",
    "\n",
    "import matplotlib.pyplot as plt\n",
    "# initialization\n",
    "T_b = Array(W_TF)\n",
    "X = W_TF.local_mesh(True)\n",
    "#T_b[:] = 0.5*(1-X[0]) + 0.001*np.random.randn(*T_b.shape)*(1-X[0])*(1+X[0])\n",
    "T_b[:] = 0.5*(1-X[0]+0.25*np.sin(np.pi*X[0]))+0.001*np.random.randn(*T_b.shape)*(1-X[0])*(1+X[0])\n",
    "T_ = T_b.forward(T_)\n",
    "T_.mask_nyquist(mask)\n",
    "\n",
    "t = 0\n",
    "tstep = 0\n",
    "end_time = 15\n",
    "while t < end_time-1e-8:\n",
    "    for rk in range(PDE.steps()):\n",
    "        compute_convection(u_, H_)\n",
    "        compute_uT(u_, T_, uT_)\n",
    "        pdes['u'].compute_rhs(rk)\n",
    "        pdes['T'].compute_rhs(rk)\n",
    "        pdes['u'].solve_step(rk)\n",
    "        compute_v(rk)\n",
    "        pdes['T'].solve_step(rk)\n",
    "    t += dt\n",
    "    tstep += 1\n",
    "plt.contourf(X[1], X[0], T_.backward(), 100)\n",
    "plt.show()"
   ]
  },
  {
   "cell_type": "markdown",
   "id": "33635218",
   "metadata": {
    "editable": true
   },
   "source": [
    "A complete solver implemented in a solver class can be found in\n",
    "[RayleighBenard2D.py](https://github.com/spectralDNS/shenfun/blob/master/demo/RayleighBenard2D.py).\n",
    "Note that in the final solver it is also possible to use a $(y, t)$-dependent boundary condition\n",
    "for the hot wall. And the solver can also be configured to store intermediate results to\n",
    "an `HDF5` format that later can be visualized in, e.g., Paraview. The movie in the\n",
    "beginning of this demo has been created in Paraview.\n",
    "\n",
    "<!-- ======= Bibliography ======= -->\n",
    "\n",
    "1. <a id=\"pandey18\"></a> **A. Pandey, J. D. Scheel and J. Schumacher**.  Turbulent Superstructures in Rayleigh-B\\'enard Convection, *Nature Communications*, 9(1), pp. 2118, [doi: 10.1038/s41467-018-04478-0](https://dx.doi.org/10.1038/s41467-018-04478-0), 2018."
   ]
  }
 ],
 "metadata": {
  "kernelspec": {
   "display_name": "Python 3",
   "language": "python",
   "name": "python3"
  },
  "language_info": {
   "codemirror_mode": {
    "name": "ipython",
    "version": 3
   },
   "file_extension": ".py",
   "mimetype": "text/x-python",
   "name": "python",
   "nbconvert_exporter": "python",
   "pygments_lexer": "ipython3",
   "version": "3.12.3"
  }
 },
 "nbformat": 4,
 "nbformat_minor": 5
}
