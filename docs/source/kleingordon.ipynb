{
 "cells": [
  {
   "cell_type": "markdown",
   "id": "755b1597",
   "metadata": {
    "editable": true
   },
   "source": [
    "<!-- File automatically generated using DocOnce (https://github.com/doconce/doconce/):\n",
    "doconce format ipynb kleingordon.do.txt  -->\n",
    "\n",
    "# Demo - Cubic nonlinear Klein-Gordon equation\n",
    "**Mikael Mortensen** (email: `mikaem@math.uio.no`), Department of Mathematics, University of Oslo.\n",
    "\n",
    "Date: **April 13, 2018**\n",
    "\n",
    "**Summary.** This is a demonstration of how the Python module [shenfun](https://github.com/spectralDNS/shenfun) can be used to solve the time-dependent,\n",
    "nonlinear Klein-Gordon equation, in a triply periodic domain. The demo is implemented in\n",
    "a single Python file [KleinGordon.py](https://github.com/spectralDNS/shenfun/blob/master/demo/KleinGordon.py), and it may be run\n",
    "in parallel using MPI. The Klein-Gordon equation is solved using a mixed\n",
    "formulation. The discretization, and some background on the spectral Galerkin\n",
    "method is given first, before we turn to the actual details of the `shenfun`\n",
    "implementation.\n",
    "\n",
    "<a id=\"mov:kleingordon\"></a>\n",
    "\n",
    "<!-- dom:FIGURE: [https://rawgit.com/spectralDNS/spectralutilities/master/movies/KleinGordon.gif] -->\n",
    "<!-- begin figure -->\n",
    "\n",
    "<img src=\"https://rawgit.com/spectralDNS/spectralutilities/master/movies/KleinGordon.gif\" ><p style=\"font-size: 0.9em\"><i>Figure 1</i></p>\n",
    "<!-- end figure -->\n",
    "\n",
    "Movie showing the evolution of the solution $u$ from the Klein-Gordon equation, in a slice through the center of the domain, computed with the code described in this demo."
   ]
  },
  {
   "cell_type": "markdown",
   "id": "8ae995a4",
   "metadata": {
    "editable": true
   },
   "source": [
    "## The nonlinear Klein-Gordon equation\n",
    "\n",
    "The cubic nonlinear Klein-Gordon equation is a wave equation important for many\n",
    "scientific applications such as solid state physics, nonlinear optics and\n",
    "quantum field theory [[abdul08]](#abdul08). The equation is given as"
   ]
  },
  {
   "cell_type": "markdown",
   "id": "83b245d3",
   "metadata": {
    "editable": true
   },
   "source": [
    "<!-- Equation labels as ordinary links -->\n",
    "<a id=\"eq:kg\"></a>\n",
    "\n",
    "$$\n",
    "\\begin{equation}\n",
    "\\frac{\\partial^2 u}{\\partial t^2} = \\nabla^2 u - \\gamma(u - u|u|^2) \\quad\n",
    "\\text{for} \\, u \\in\n",
    "\\Omega, \\label{eq:kg} \\tag{1}\n",
    "\\end{equation}\n",
    "$$"
   ]
  },
  {
   "cell_type": "markdown",
   "id": "10fb3c95",
   "metadata": {
    "editable": true
   },
   "source": [
    "with initial conditions"
   ]
  },
  {
   "cell_type": "markdown",
   "id": "e4bb65b4",
   "metadata": {
    "editable": true
   },
   "source": [
    "<!-- Equation labels as ordinary links -->\n",
    "<a id=\"eq:init\"></a>\n",
    "\n",
    "$$\n",
    "\\begin{equation}\n",
    "u(\\boldsymbol{x}, t=0) = u^0 \\quad \\text{and} \\quad \\frac{\\partial u(\\boldsymbol{x},\n",
    "t=0)}{\\partial t} = u_t^0. \\label{eq:init} \\tag{2}\n",
    "\\end{equation}\n",
    "$$"
   ]
  },
  {
   "cell_type": "markdown",
   "id": "10adb615",
   "metadata": {
    "editable": true
   },
   "source": [
    "The spatial coordinates are here denoted as $\\boldsymbol{x} = (x, y, z)$, and\n",
    "$t$ is time. The parameter $\\gamma=\\pm 1$ determines whether the equations are focusing\n",
    "($+1$) or defocusing ($-1$) (in the movie we have used $\\gamma=1$).\n",
    "The domain $\\Omega=[-2\\pi, 2\\pi)^3$ is triply\n",
    "periodic and initial conditions will here be set as"
   ]
  },
  {
   "cell_type": "markdown",
   "id": "40131bb3",
   "metadata": {
    "editable": true
   },
   "source": [
    "<!-- Equation labels as ordinary links -->\n",
    "<a id=\"_auto1\"></a>\n",
    "\n",
    "$$\n",
    "\\begin{equation}\n",
    "u^0 = 0.1 \\exp \\left( -\\boldsymbol{x} \\cdot \\boldsymbol{x} \\right), \n",
    "\\label{_auto1} \\tag{3}\n",
    "\\end{equation}\n",
    "$$"
   ]
  },
  {
   "cell_type": "markdown",
   "id": "53595408",
   "metadata": {
    "editable": true
   },
   "source": [
    "<!-- Equation labels as ordinary links -->\n",
    "<a id=\"_auto2\"></a>\n",
    "\n",
    "$$\n",
    "\\begin{equation}  \n",
    "u_t^0 = 0.\n",
    "\\label{_auto2} \\tag{4}\n",
    "\\end{equation}\n",
    "$$"
   ]
  },
  {
   "cell_type": "markdown",
   "id": "4c365136",
   "metadata": {
    "editable": true
   },
   "source": [
    "We will solve these equations using a mixed formulation and a spectral Galerkin\n",
    "method. The mixed formulation reads"
   ]
  },
  {
   "cell_type": "markdown",
   "id": "66f1256e",
   "metadata": {
    "editable": true
   },
   "source": [
    "<!-- Equation labels as ordinary links -->\n",
    "<a id=\"eq:df\"></a>\n",
    "\n",
    "$$\n",
    "\\begin{equation}\n",
    "\\frac{\\partial f}{\\partial t} = \\nabla^2 u - \\gamma (u - u|u|^2), \\label{eq:df} \\tag{5}\n",
    "\\end{equation}\n",
    "$$"
   ]
  },
  {
   "cell_type": "markdown",
   "id": "8eb65116",
   "metadata": {
    "editable": true
   },
   "source": [
    "<!-- Equation labels as ordinary links -->\n",
    "<a id=\"eq:du\"></a>\n",
    "\n",
    "$$\n",
    "\\begin{equation}  \n",
    "\\frac{\\partial u}{\\partial t} = f. \\label{eq:du} \\tag{6}\n",
    "\\end{equation}\n",
    "$$"
   ]
  },
  {
   "cell_type": "markdown",
   "id": "ea17eddc",
   "metadata": {
    "editable": true
   },
   "source": [
    "The energy of the solution can be computed as"
   ]
  },
  {
   "cell_type": "markdown",
   "id": "9e81800c",
   "metadata": {
    "editable": true
   },
   "source": [
    "<!-- Equation labels as ordinary links -->\n",
    "<a id=\"_auto3\"></a>\n",
    "\n",
    "$$\n",
    "\\begin{equation}\n",
    "E(u) = \\int_{\\Omega} \\left( \\frac{1}{2} f^2 + \\frac{1}{2}|\\nabla u|^2 + \\gamma(\\frac{1}{2}u^2 - \\frac{1}{4}u^4) \\right) dx\n",
    "\\label{_auto3} \\tag{7}\n",
    "\\end{equation}\n",
    "$$"
   ]
  },
  {
   "cell_type": "markdown",
   "id": "b53f8a5b",
   "metadata": {
    "editable": true
   },
   "source": [
    "and it is crucial that this energy remains constant in time.\n",
    "\n",
    "The movie above is showing the solution $u$, computed with the\n",
    "code shown below."
   ]
  },
  {
   "cell_type": "markdown",
   "id": "c6e00bc7",
   "metadata": {
    "editable": true
   },
   "source": [
    "## Spectral Galerkin formulation\n",
    "<a id=\"sec:specgal\"></a>\n",
    "The PDEs in ([5](#eq:df)) and ([6](#eq:du)) can be solved with many different\n",
    "numerical methods. We will here use the [shenfun](https://github.com/spectralDNS/shenfun) software and this software makes use of\n",
    "the spectral Galerkin method. Being a Galerkin method, we need to reshape the\n",
    "governing equations into proper variational forms, and this is done by\n",
    "multiplying  ([5](#eq:df)) and ([6](#eq:du)) with the complex conjugate of proper\n",
    "test functions and then integrating\n",
    "over the domain. To this end we make use of the triply periodic tensor product\n",
    "function space $W^{\\boldsymbol{N}}(\\Omega)$ (defined in Eq. ([14](#eq:kg:Wn)))\n",
    "and use testfunctions $g \\in W^{\\boldsymbol{N}}$\n",
    "with Eq. ([5](#eq:df))  and  $v \\in W^{\\boldsymbol{N}}$ with Eq. ([6](#eq:du)),\n",
    "and obtain"
   ]
  },
  {
   "cell_type": "markdown",
   "id": "fedc6701",
   "metadata": {
    "editable": true
   },
   "source": [
    "<!-- Equation labels as ordinary links -->\n",
    "<a id=\"eq:df_var\"></a>\n",
    "\n",
    "$$\n",
    "\\begin{equation}\n",
    "\\frac{\\partial}{\\partial t} \\int_{\\Omega} f\\, \\overline{g}\\, w \\,d\\Omega = \\int_{\\Omega}\n",
    "\\left(\\nabla^2 u - \\gamma( u\\, - u|u|^2) \\right) \\overline{g} \\, w \\,d\\Omega, \\label{eq:df_var} \\tag{8} \n",
    "\\end{equation}\n",
    "$$"
   ]
  },
  {
   "cell_type": "markdown",
   "id": "08ad1175",
   "metadata": {
    "editable": true
   },
   "source": [
    "<!-- Equation labels as ordinary links -->\n",
    "<a id=\"eq:kg:du_var\"></a>\n",
    "\n",
    "$$\n",
    "\\begin{equation}  \n",
    "\\frac{\\partial }{\\partial t} \\int_{\\Omega} u\\, \\overline{v}\\, w \\, dx =\n",
    "\\int_{\\Omega} f\\, \\overline{v} \\, w \\, d\\Omega. \\label{eq:kg:du_var} \\tag{9}\n",
    "\\end{equation}\n",
    "$$"
   ]
  },
  {
   "cell_type": "markdown",
   "id": "fbf5fa50",
   "metadata": {
    "editable": true
   },
   "source": [
    "Note that the overline is used to indicate a complex conjugate, and\n",
    "$w$ is a weight function associated with the test functions. The functions\n",
    "$f$ and $u$ are now\n",
    "to be considered as trial functions, and the integrals over the\n",
    "domain are referred to as inner products. With inner product notation"
   ]
  },
  {
   "cell_type": "markdown",
   "id": "4979f581",
   "metadata": {
    "editable": true
   },
   "source": [
    "$$\n",
    "\\left(u, v\\right) = \\int_{\\Omega} u \\, \\overline{v} \\, w\\, dx.\n",
    "$$"
   ]
  },
  {
   "cell_type": "markdown",
   "id": "3e695b09",
   "metadata": {
    "editable": true
   },
   "source": [
    "and an integration by parts on the Laplacian, the variational problem can be\n",
    "formulated as:"
   ]
  },
  {
   "cell_type": "markdown",
   "id": "36f5f08f",
   "metadata": {
    "editable": true
   },
   "source": [
    "<!-- Equation labels as ordinary links -->\n",
    "<a id=\"eq:df_var2\"></a>\n",
    "\n",
    "$$\n",
    "\\begin{equation}\n",
    "\\frac{\\partial}{\\partial t} (f, g) = -(\\nabla u, \\nabla g)\n",
    "-\\gamma \\left( u - u|u|^2, g \\right), \\label{eq:df_var2} \\tag{10} \n",
    "\\end{equation}\n",
    "$$"
   ]
  },
  {
   "cell_type": "markdown",
   "id": "781f3602",
   "metadata": {
    "editable": true
   },
   "source": [
    "<!-- Equation labels as ordinary links -->\n",
    "<a id=\"eq:kg:du_var2\"></a>\n",
    "\n",
    "$$\n",
    "\\begin{equation}  \n",
    "\\frac{\\partial }{\\partial t} (u, v) = (f, v). \\label{eq:kg:du_var2} \\tag{11}\n",
    "\\end{equation}\n",
    "$$"
   ]
  },
  {
   "cell_type": "markdown",
   "id": "24226db7",
   "metadata": {
    "editable": true
   },
   "source": [
    "The time and space discretizations are\n",
    "still left open. There are numerous different approaches that one could take for\n",
    "discretizing in time, and the first two terms on the right hand side of\n",
    "([10](#eq:df_var2)) can easily be treated implicitly as well as explicitly. However,\n",
    "the approach we will follow in Sec. ([Runge-Kutta integrator](#sec:rk)) is a fully explicit 4th order [Runge-Kutta](https://en.wikipedia.org/wiki/Runge-Kutta_methods) method. Also note that\n",
    "the inner product in the demo will be computed numerically with quadrature\n",
    "through fast Fourier transforms, and the integrals are thus not computed exactly\n",
    "for all terms."
   ]
  },
  {
   "cell_type": "markdown",
   "id": "1465f0a3",
   "metadata": {
    "editable": true
   },
   "source": [
    "## Discretization\n",
    "To find a numerical solution we need to discretize the continuous problem\n",
    "([10](#eq:df_var2)) and ([11](#eq:kg:du_var2)) in space as well as time. Since the\n",
    "problem is triply periodic, Fourier exponentials are normally the best choice\n",
    "for trial and test functions, and as such we use basis functions"
   ]
  },
  {
   "cell_type": "markdown",
   "id": "4d5445cd",
   "metadata": {
    "editable": true
   },
   "source": [
    "<!-- Equation labels as ordinary links -->\n",
    "<a id=\"_auto4\"></a>\n",
    "\n",
    "$$\n",
    "\\begin{equation}\n",
    "\\phi_l(x) = e^{\\imath \\underline{l} x}, \\quad -\\infty < l < \\infty,\n",
    "\\label{_auto4} \\tag{12}\n",
    "\\end{equation}\n",
    "$$"
   ]
  },
  {
   "cell_type": "markdown",
   "id": "5f2a57dd",
   "metadata": {
    "editable": true
   },
   "source": [
    "where $l$ is the wavenumber, and\n",
    "$\\underline{l}=\\frac{2\\pi}{L}l$ is the scaled wavenumber, scaled with domain\n",
    "length $L$ (here $4\\pi$). Since we want to solve these equations on a computer, we need to choose\n",
    "a finite number of test functions. A function space $V^N$ can be defined as"
   ]
  },
  {
   "cell_type": "markdown",
   "id": "b90d937b",
   "metadata": {
    "editable": true
   },
   "source": [
    "<!-- Equation labels as ordinary links -->\n",
    "<a id=\"eq:kg:Vn\"></a>\n",
    "\n",
    "$$\n",
    "\\begin{equation}\n",
    "V^N(x) = \\text{span} \\{\\phi_l(x)\\}_{l\\in \\boldsymbol{l}}, \\label{eq:kg:Vn} \\tag{13}\n",
    "\\end{equation}\n",
    "$$"
   ]
  },
  {
   "cell_type": "markdown",
   "id": "01bd92d5",
   "metadata": {
    "editable": true
   },
   "source": [
    "where $N$ is chosen as an even positive integer and $\\boldsymbol{l} = -N/2,\n",
    "-N/2+1, \\ldots, N/2-1$. And now, since $\\Omega$ is a\n",
    "three-dimensional domain, we can create tensor products of such bases to get,\n",
    "e.g., for three dimensions"
   ]
  },
  {
   "cell_type": "markdown",
   "id": "59d5f2f3",
   "metadata": {
    "editable": true
   },
   "source": [
    "<!-- Equation labels as ordinary links -->\n",
    "<a id=\"eq:kg:Wn\"></a>\n",
    "\n",
    "$$\n",
    "\\begin{equation}\n",
    "W^{\\boldsymbol{N}}(x, y, z) = V^N(x) \\otimes V^N(y) \\otimes V^N(z), \\label{eq:kg:Wn} \\tag{14}\n",
    "\\end{equation}\n",
    "$$"
   ]
  },
  {
   "cell_type": "markdown",
   "id": "68961d5f",
   "metadata": {
    "editable": true
   },
   "source": [
    "where $\\boldsymbol{N} = (N, N, N)$. Obviously, it is not necessary to use the\n",
    "same number ($N$) of basis functions for each direction, but it is done here\n",
    "for simplicity. A 3D tensor product basis function is now defined as"
   ]
  },
  {
   "cell_type": "markdown",
   "id": "04821397",
   "metadata": {
    "editable": true
   },
   "source": [
    "<!-- Equation labels as ordinary links -->\n",
    "<a id=\"_auto5\"></a>\n",
    "\n",
    "$$\n",
    "\\begin{equation}\n",
    "\\Phi_{lmn}(x,y,z) = e^{\\imath \\underline{l} x} e^{\\imath \\underline{m} y}\n",
    "e^{\\imath \\underline{n} z} = e^{\\imath\n",
    "(\\underline{l}x + \\underline{m}y + \\underline{n}z)},\n",
    "\\label{_auto5} \\tag{15}\n",
    "\\end{equation}\n",
    "$$"
   ]
  },
  {
   "cell_type": "markdown",
   "id": "e9a3ffab",
   "metadata": {
    "editable": true
   },
   "source": [
    "where the indices for $y$- and $z$-direction are $\\underline{m}=\\frac{2\\pi}{L}m,\n",
    "\\underline{n}=\\frac{2\\pi}{L}n$, and $\\boldsymbol{m}$ and $\\boldsymbol{n}$ are the same as\n",
    "$\\boldsymbol{l}$ due to using the same number of basis functions for each direction. One\n",
    "distinction, though, is that for the $z$-direction expansion coefficients are only stored for\n",
    "$n=0, 1, \\ldots, N/2$ due to Hermitian symmetry (real input data). However, for simplicity,\n",
    "we still write the sum in Eq. ([16](#eq:usg)) over the entire range of basis functions.\n",
    "\n",
    "We now look for solutions of the form"
   ]
  },
  {
   "cell_type": "markdown",
   "id": "382c00cb",
   "metadata": {
    "editable": true
   },
   "source": [
    "<!-- Equation labels as ordinary links -->\n",
    "<a id=\"eq:usg\"></a>\n",
    "\n",
    "$$\n",
    "\\begin{equation}\n",
    "u(x, y, z, t) = \\sum_{l=-N/2}^{N/2-1}\\sum_{m=-N/2}^{N/2-1}\\sum_{n=-N/2}^{N/2-1}\n",
    "\\hat{u}_{lmn} (t)\\Phi_{lmn}(x,y,z). \\label{eq:usg} \\tag{16}\n",
    "\\end{equation}\n",
    "$$"
   ]
  },
  {
   "cell_type": "markdown",
   "id": "016c1249",
   "metadata": {
    "editable": true
   },
   "source": [
    "The expansion coefficients $\\hat{\\boldsymbol{u}} = \\{\\hat{u}_{lmn}(t)\\}_{(l,m,n) \\in \\boldsymbol{l} \\times \\boldsymbol{m} \\times \\boldsymbol{n}}$\n",
    "can be related directly to the solution $u(x, y, z, t)$ using Fast\n",
    "Fourier Transforms (FFTs) if we are satisfied with obtaining\n",
    "the solution in quadrature points corresponding to"
   ]
  },
  {
   "cell_type": "markdown",
   "id": "84463f92",
   "metadata": {
    "editable": true
   },
   "source": [
    "<!-- Equation labels as ordinary links -->\n",
    "<a id=\"_auto6\"></a>\n",
    "\n",
    "$$\n",
    "\\begin{equation}\n",
    " x_i = \\frac{4 \\pi i}{N}-2\\pi \\quad \\forall \\, i \\in \\boldsymbol{i},\n",
    "\\text{where}\\, \\boldsymbol{i}=(0,1,\\ldots,N-1), \n",
    "\\label{_auto6} \\tag{17}\n",
    "\\end{equation}\n",
    "$$"
   ]
  },
  {
   "cell_type": "markdown",
   "id": "1f16ed28",
   "metadata": {
    "editable": true
   },
   "source": [
    "<!-- Equation labels as ordinary links -->\n",
    "<a id=\"_auto7\"></a>\n",
    "\n",
    "$$\n",
    "\\begin{equation}  \n",
    " y_j = \\frac{4 \\pi j}{N}-2\\pi \\quad \\forall \\, j \\in \\boldsymbol{j},\n",
    "\\text{where}\\, \\boldsymbol{j}=(0,1,\\ldots,N-1), \n",
    "\\label{_auto7} \\tag{18}\n",
    "\\end{equation}\n",
    "$$"
   ]
  },
  {
   "cell_type": "markdown",
   "id": "28257dfb",
   "metadata": {
    "editable": true
   },
   "source": [
    "<!-- Equation labels as ordinary links -->\n",
    "<a id=\"_auto8\"></a>\n",
    "\n",
    "$$\n",
    "\\begin{equation}  \n",
    " z_k = \\frac{4 \\pi k}{N}-2\\pi \\quad \\forall \\, k \\in \\boldsymbol{k},\n",
    "\\text{where}\\, \\boldsymbol{k}=(0,1,\\ldots,N-1).\n",
    "\\label{_auto8} \\tag{19}\n",
    "\\end{equation}\n",
    "$$"
   ]
  },
  {
   "cell_type": "markdown",
   "id": "df5dd8f4",
   "metadata": {
    "editable": true
   },
   "source": [
    "Note that these points are different from the standard (like $2\\pi j/N$) since\n",
    "the domain\n",
    "is set to $[-2\\pi, 2\\pi]^3$ and not the more common $[0, 2\\pi]^3$. We have"
   ]
  },
  {
   "cell_type": "markdown",
   "id": "e5ad43ee",
   "metadata": {
    "editable": true
   },
   "source": [
    "<!-- Equation labels as ordinary links -->\n",
    "<a id=\"eq:uxyz\"></a>\n",
    "\n",
    "$$\n",
    "\\begin{equation}\n",
    "\\boldsymbol{u} = \\mathcal{F}_x^{-1}\\left(\\mathcal{F}_y^{-1}\\left(\\mathcal{F}_z^{-1}\\left(\\hat{\\boldsymbol{u}}\\right)\\right)\\right) \\label{eq:uxyz} \\tag{20}\n",
    "\\end{equation}\n",
    "$$"
   ]
  },
  {
   "cell_type": "markdown",
   "id": "332d71ce",
   "metadata": {
    "editable": true
   },
   "source": [
    "with $\\boldsymbol{u} = \\{u(x_i, y_j, z_k)\\}_{(i,j,k)\\in \\boldsymbol{i} \\times \\boldsymbol{j} \\times \\boldsymbol{k}}$\n",
    "and where $\\mathcal{F}_x^{-1}$ is the inverse Fourier transform along the direction $x$, for\n",
    "all indices in the other direction. Note that the three\n",
    "inverse FFTs are performed sequentially, one direction at the time, and that there is no\n",
    "scaling factor due to\n",
    "the definition used for the inverse [Fourier transform](https://mpi4py-fft.readthedocs.io/en/latest/dft.html)"
   ]
  },
  {
   "cell_type": "markdown",
   "id": "e18610fd",
   "metadata": {
    "editable": true
   },
   "source": [
    "<!-- Equation labels as ordinary links -->\n",
    "<a id=\"_auto9\"></a>\n",
    "\n",
    "$$\n",
    "\\begin{equation}\n",
    "u(x_j) = \\sum_{l=-N/2}^{N/2-1} \\hat{u}_l e^{\\imath \\underline{l}\n",
    "x_j}, \\quad \\,\\, \\forall \\, j \\in \\, \\boldsymbol{j}.\n",
    "\\label{_auto9} \\tag{21}\n",
    "\\end{equation}\n",
    "$$"
   ]
  },
  {
   "cell_type": "markdown",
   "id": "f384ac43",
   "metadata": {
    "editable": true
   },
   "source": [
    "Note that this differs from the definition used by, e.g.,\n",
    "[Numpy](https://docs.scipy.org/doc/numpy-1.13.0/reference/routines.fft.html).\n",
    "\n",
    "The inner products used in Eqs. ([10](#eq:df_var2)), ([11](#eq:kg:du_var2)) may be\n",
    "computed using forward FFTs. However, there is a tiny detail that deserves\n",
    "a comment. The regular Fourier inner product is given as"
   ]
  },
  {
   "cell_type": "markdown",
   "id": "928dbba0",
   "metadata": {
    "editable": true
   },
   "source": [
    "$$\n",
    "\\int_{0}^{L} e^{\\imath \\underline{k}x} e^{- \\imath \\underline{l}x} dx = L\\, \\delta_{kl}\n",
    "$$"
   ]
  },
  {
   "cell_type": "markdown",
   "id": "157f8783",
   "metadata": {
    "editable": true
   },
   "source": [
    "where a weight function is chosen as $w(x) = 1$ and $\\delta_{kl}$ equals unity\n",
    "for $k=l$ and zero otherwise. In Shenfun we choose instead to use a weight\n",
    "function $w(x)=1/L$, such that the weighted inner product integrates to\n",
    "unity:"
   ]
  },
  {
   "cell_type": "markdown",
   "id": "6b9f5897",
   "metadata": {
    "editable": true
   },
   "source": [
    "$$\n",
    "\\int_{0}^{L} e^{\\imath \\underline{k}x} e^{- \\imath \\underline{l}x} \\frac{1}{L} dx = \\delta_{kl}.\n",
    "$$"
   ]
  },
  {
   "cell_type": "markdown",
   "id": "84026af7",
   "metadata": {
    "editable": true
   },
   "source": [
    "With this weight function the (discrete) scalar product and the forward transform\n",
    "are the same and we obtain:"
   ]
  },
  {
   "cell_type": "markdown",
   "id": "98b58094",
   "metadata": {
    "editable": true
   },
   "source": [
    "<!-- Equation labels as ordinary links -->\n",
    "<a id=\"_auto10\"></a>\n",
    "\n",
    "$$\n",
    "\\begin{equation}\n",
    "\\left(u, v \\right) = \\boldsymbol{\\hat{u}} =\n",
    "\\left(\\frac{1}{N}\\right)^3\n",
    "\\mathcal{F}_z\\left(\\mathcal{F}_y\\left(\\mathcal{F}_x\\left(\\boldsymbol{u}\\right)\\right)\\right).\n",
    "\\label{_auto10} \\tag{22}\n",
    "\\end{equation}\n",
    "$$"
   ]
  },
  {
   "cell_type": "markdown",
   "id": "736c335d",
   "metadata": {
    "editable": true
   },
   "source": [
    "From this we see that the variational forms ([10](#eq:df_var2)) and ([11](#eq:kg:du_var2))\n",
    "may be written in terms of the Fourier transformed quantities $\\hat{\\boldsymbol{u}}$ and\n",
    "$\\hat{\\boldsymbol{f}}$. Expanding the exact derivatives of the nabla operator, we have"
   ]
  },
  {
   "cell_type": "markdown",
   "id": "e0edb86f",
   "metadata": {
    "editable": true
   },
   "source": [
    "<!-- Equation labels as ordinary links -->\n",
    "<a id=\"_auto11\"></a>\n",
    "\n",
    "$$\n",
    "\\begin{equation}\n",
    "(\\nabla u, \\nabla v) =\n",
    "\\left((\\underline{l}^2+\\underline{m}^2+\\underline{n}^2)\\hat{u}_{lmn}\\right), \n",
    "\\label{_auto11} \\tag{23}\n",
    "\\end{equation}\n",
    "$$"
   ]
  },
  {
   "cell_type": "markdown",
   "id": "3d2ba41c",
   "metadata": {
    "editable": true
   },
   "source": [
    "<!-- Equation labels as ordinary links -->\n",
    "<a id=\"_auto12\"></a>\n",
    "\n",
    "$$\n",
    "\\begin{equation}  \n",
    "(u, v) = \\left(\\hat{u}_{lmn}\\right), \n",
    "\\label{_auto12} \\tag{24}\n",
    "\\end{equation}\n",
    "$$"
   ]
  },
  {
   "cell_type": "markdown",
   "id": "6ecb4c2c",
   "metadata": {
    "editable": true
   },
   "source": [
    "<!-- Equation labels as ordinary links -->\n",
    "<a id=\"_auto13\"></a>\n",
    "\n",
    "$$\n",
    "\\begin{equation}  \n",
    "(u|u|^2, v) = \\left(\\widehat{u|u|^2}_{lmn}\\right)\n",
    "\\label{_auto13} \\tag{25}\n",
    "\\end{equation}\n",
    "$$"
   ]
  },
  {
   "cell_type": "markdown",
   "id": "fdc7f2d9",
   "metadata": {
    "editable": true
   },
   "source": [
    "where the indices on the right hand side run over $(l, m, n) \\in \\boldsymbol{l} \\times \\boldsymbol{m} \\times \\boldsymbol{n}$.\n",
    "The equations to be solved for each wavenumber can now be found directly as"
   ]
  },
  {
   "cell_type": "markdown",
   "id": "19dc93b3",
   "metadata": {
    "editable": true
   },
   "source": [
    "<!-- Equation labels as ordinary links -->\n",
    "<a id=\"eq:df_var3\"></a>\n",
    "\n",
    "$$\n",
    "\\begin{equation}\n",
    "\\frac{\\partial \\hat{f}_{lmn}}{\\partial t}  =\n",
    "\\left(-(\\underline{l}^2+\\underline{m}^2+\\underline{n}^2+\\gamma)\\hat{u}_{lnm} + \\gamma \\widehat{u|u|^2}_{lnm}\\right), \\label{eq:df_var3} \\tag{26} \n",
    "\\end{equation}\n",
    "$$"
   ]
  },
  {
   "cell_type": "markdown",
   "id": "95c68d2a",
   "metadata": {
    "editable": true
   },
   "source": [
    "<!-- Equation labels as ordinary links -->\n",
    "<a id=\"eq:kg:du_var3\"></a>\n",
    "\n",
    "$$\n",
    "\\begin{equation}  \n",
    "\\frac{\\partial \\hat{u}_{lnm}}{\\partial t} = \\hat{f}_{lnm}. \\label{eq:kg:du_var3} \\tag{27}\n",
    "\\end{equation}\n",
    "$$"
   ]
  },
  {
   "cell_type": "markdown",
   "id": "04ae7faf",
   "metadata": {
    "editable": true
   },
   "source": [
    "There is more than one way to arrive at these equations. Taking the 3D Fourier\n",
    "transform of both equations  ([5](#eq:df)) and ([6](#eq:du)) is one obvious way.\n",
    "With the Python module [shenfun](https://github.com/spectralDNS/shenfun), one can work with the\n",
    "inner products as seen in ([10](#eq:df_var2)) and ([11](#eq:kg:du_var2)), or the Fourier\n",
    "transforms directly. See for example Sec. [Runge-Kutta integrator](#sec:rk) for how $(\\nabla u, \\nabla\n",
    "v)$ can be\n",
    "implemented.  In short, [shenfun](https://shenfun.readthedocs.io/en/latest/shenfun.html#module-shenfun) contains all the tools required to work with\n",
    "the spectral Galerkin method, and we will now see how [shenfun](https://shenfun.readthedocs.io/en/latest/shenfun.html#module-shenfun) can be used to solve\n",
    "the Klein-Gordon equation.\n",
    "\n",
    "For completion, we note that the discretized problem to solve can be formulated\n",
    "with the Galerkin method as:\n",
    "for all $t>0$, find $(f, u) \\in W^N \\times W^N$  such that"
   ]
  },
  {
   "cell_type": "markdown",
   "id": "4df82afa",
   "metadata": {
    "editable": true
   },
   "source": [
    "<!-- Equation labels as ordinary links -->\n",
    "<a id=\"eq:dff\"></a>\n",
    "\n",
    "$$\n",
    "\\begin{equation}\n",
    "\\frac{\\partial}{\\partial t} (f, g) = -(\\nabla u, \\nabla g)\n",
    "-\\gamma \\left( u - u|u|^2, g \\right) \\quad \\forall \\, g \\in W^{N}, \\label{eq:dff} \\tag{28} \n",
    "\\end{equation}\n",
    "$$"
   ]
  },
  {
   "cell_type": "markdown",
   "id": "b08ed918",
   "metadata": {
    "editable": true
   },
   "source": [
    "<!-- Equation labels as ordinary links -->\n",
    "<a id=\"eq:kg:duu\"></a>\n",
    "\n",
    "$$\n",
    "\\begin{equation}  \n",
    "\\frac{\\partial }{\\partial t} (u, v) = (f, v) \\quad \\forall \\, v \\in W^N. \\label{eq:kg:duu} \\tag{29}\n",
    "\\end{equation}\n",
    "$$"
   ]
  },
  {
   "cell_type": "markdown",
   "id": "a339ed0f",
   "metadata": {
    "editable": true
   },
   "source": [
    "where $u(x, y, z, 0)$ and $f(x, y, z, 0)$ are given as the initial conditions\n",
    "according to Eq. ([2](#eq:init))."
   ]
  },
  {
   "cell_type": "markdown",
   "id": "847c4d2e",
   "metadata": {
    "editable": true
   },
   "source": [
    "## Implementation\n",
    "\n",
    "To solve the Klein-Gordon equations we need to make use of the Fourier function\n",
    "spaces defined in\n",
    "[shenfun](https://shenfun.readthedocs.io/en/latest/shenfun.html#module-shenfun), and these are found in submodule\n",
    "[shenfun.fourier.bases](https://shenfun.readthedocs.io/en/latest/shenfun.fourier.html#module-shenfun.fourier.bases).\n",
    "The triply periodic domain allows for Fourier in all three directions, and we\n",
    "can as such create one instance of this space using [FunctionSpace()](https://shenfun.readthedocs.io/en/latest/shenfun.forms.html#shenfun.forms.arguments.FunctionSpace) with\n",
    "family ``Fourier``\n",
    "for each direction. However, since the initial data are real, we\n",
    "can take advantage of Hermitian symmetries and thus make use of a\n",
    "real to complex class for one (but only one) of the directions, by specifying\n",
    "``dtype='d'``. We can only make use of the\n",
    "real-to-complex class for the direction that we choose to transform first with the forward\n",
    "FFT, and the reason is obviously that the output from a forward transform of\n",
    "real data is now complex. We may start implementing the solver as follows"
   ]
  },
  {
   "cell_type": "code",
   "execution_count": 1,
   "id": "82b448d1",
   "metadata": {
    "editable": true,
    "execution": {
     "iopub.execute_input": "2024-08-17T17:13:17.882929Z",
     "iopub.status.busy": "2024-08-17T17:13:17.882616Z",
     "iopub.status.idle": "2024-08-17T17:13:18.254249Z",
     "shell.execute_reply": "2024-08-17T17:13:18.253919Z"
    },
    "tags": [
     "thebe-init"
    ]
   },
   "outputs": [],
   "source": [
    "from shenfun import *\n",
    "import numpy as np\n",
    "import sympy as sp\n",
    "\n",
    "# Set size of discretization\n",
    "N = (32, 32, 32)\n",
    "\n",
    "# Defocusing or focusing\n",
    "gamma = 1\n",
    "\n",
    "rank = comm.Get_rank()\n",
    "\n",
    "# Create function spaces\n",
    "K0 = FunctionSpace(N[0], 'F', domain=(-2*np.pi, 2*np.pi), dtype='D')\n",
    "K1 = FunctionSpace(N[1], 'F', domain=(-2*np.pi, 2*np.pi), dtype='D')\n",
    "K2 = FunctionSpace(N[2], 'F', domain=(-2*np.pi, 2*np.pi), dtype='d')"
   ]
  },
  {
   "cell_type": "markdown",
   "id": "6be0674c",
   "metadata": {
    "editable": true
   },
   "source": [
    "We now have three instances `K0`, `K1` and `K2`, corresponding to the space\n",
    "([13](#eq:kg:Vn)), that each can be used to solve\n",
    "one-dimensional problems. However, we want to solve a 3D problem, and for this\n",
    "we need a tensor product space, like ([14](#eq:kg:Wn)), created as a tensor\n",
    "product of these three spaces"
   ]
  },
  {
   "cell_type": "code",
   "execution_count": 2,
   "id": "31bae268",
   "metadata": {
    "editable": true,
    "execution": {
     "iopub.execute_input": "2024-08-17T17:13:18.255844Z",
     "iopub.status.busy": "2024-08-17T17:13:18.255696Z",
     "iopub.status.idle": "2024-08-17T17:13:18.273853Z",
     "shell.execute_reply": "2024-08-17T17:13:18.273635Z"
    },
    "tags": [
     "thebe-init"
    ]
   },
   "outputs": [],
   "source": [
    "T = TensorProductSpace(comm, (K0, K1, K2), **{'planner_effort':\n",
    "                                              'FFTW_MEASURE'})"
   ]
  },
  {
   "cell_type": "markdown",
   "id": "bf3976b2",
   "metadata": {
    "editable": true
   },
   "source": [
    "Here the `planner_effort`, which is a flag used by [FFTW](http://www.fftw.org), is optional. Possibel choices are from the list\n",
    "(`FFTW_ESTIMATE`, `FFTW_MEASURE`, `FFTW_PATIENT`, `FFTW_EXHAUSTIVE`), and the\n",
    "flag determines how much effort FFTW puts in looking for an optimal algorithm\n",
    "for the current platform. Note that it is also possible to use FFTW [wisdom](http://www.fftw.org/fftw3_doc/Wisdom.html#Wisdom) with\n",
    "`shenfun`, and as such, for production, one may perform exhaustive planning once\n",
    "and then simply import the result of that planning later, as wisdom.\n",
    "\n",
    "The [TensorProductSpace](https://shenfun.readthedocs.io/en/latest/shenfun.html#shenfun.tensorproductspace.TensorProductSpace) instance `T` contains pretty much all we need for\n",
    "computing inner products or fast transforms between real and wavenumber space.\n",
    "However, since we are going to solve for a mixed system, it is convenient to also use the\n",
    "[CompositeSpace](https://shenfun.readthedocs.io/en/latest/shenfun.html#shenfun.tensorproductspace.CompositeSpace) class"
   ]
  },
  {
   "cell_type": "code",
   "execution_count": 3,
   "id": "7eb29c91",
   "metadata": {
    "editable": true,
    "execution": {
     "iopub.execute_input": "2024-08-17T17:13:18.275090Z",
     "iopub.status.busy": "2024-08-17T17:13:18.275020Z",
     "iopub.status.idle": "2024-08-17T17:13:18.276587Z",
     "shell.execute_reply": "2024-08-17T17:13:18.276365Z"
    },
    "tags": [
     "thebe-init"
    ]
   },
   "outputs": [],
   "source": [
    "TT = CompositeSpace([T, T])\n",
    "TV = VectorSpace(T)"
   ]
  },
  {
   "cell_type": "markdown",
   "id": "5e029c38",
   "metadata": {
    "editable": true
   },
   "source": [
    "Here the space `TV` will be used to compute gradients, which\n",
    "explains why it is a vector.\n",
    "\n",
    "We need containers for the solution as well as intermediate work arrays for,\n",
    "e.g., the Runge-Kutta method. Arrays are created using\n",
    "[Sympy](http://www.sympy.org/en/index.html) for\n",
    "initialization. Below `f` is initialized to 0,\n",
    "whereas `u = 0.1*sp.exp(-(x**2 + y**2 + z**2))`."
   ]
  },
  {
   "cell_type": "code",
   "execution_count": 4,
   "id": "ce384d37",
   "metadata": {
    "editable": true,
    "execution": {
     "iopub.execute_input": "2024-08-17T17:13:18.277731Z",
     "iopub.status.busy": "2024-08-17T17:13:18.277667Z",
     "iopub.status.idle": "2024-08-17T17:13:18.427276Z",
     "shell.execute_reply": "2024-08-17T17:13:18.426973Z"
    },
    "tags": [
     "thebe-init"
    ]
   },
   "outputs": [],
   "source": [
    "# Use sympy to set up initial condition\n",
    "x, y, z = sp.symbols(\"x,y,z\", real=True)\n",
    "ue = 0.1*sp.exp(-(x**2 + y**2 + z**2))\n",
    "\n",
    "fu = Array(TT, buffer=(0, ue)) # Solution array in physical space\n",
    "f, u = fu                # Split solution array by creating two views u and f\n",
    "dfu = Function(TT)       # Array for right hand sides\n",
    "df, du = dfu             # Split into views\n",
    "Tp = T.get_dealiased((1.5, 1.5, 1.5))\n",
    "up = Array(Tp)           # Work array\n",
    "\n",
    "fu_hat = Function(TT)    # Solution in spectral space\n",
    "fu_hat = fu.forward()\n",
    "f_hat, u_hat = fu_hat\n",
    "\n",
    "gradu = Array(TV)        # Solution array for gradient"
   ]
  },
  {
   "cell_type": "markdown",
   "id": "0f7e0745",
   "metadata": {
    "editable": true
   },
   "source": [
    "The [Array](https://shenfun.readthedocs.io/en/latest/shenfun.forms.html#shenfun.forms.arguments.Array) class is a subclass of Numpy's [ndarray](https://docs.scipy.org/doc/numpy/reference/generated/numpy.ndarray.html),\n",
    "without much more functionality than constructors that return arrays of the\n",
    "correct shape according to the basis used in the construction. The\n",
    "[Array](https://shenfun.readthedocs.io/en/latest/shenfun.forms.html#shenfun.forms.arguments.Array) represents the left hand side of ([16](#eq:usg)),\n",
    "evaluated on the quadrature mesh. A different type\n",
    "of array is returned by the [Function](https://shenfun.readthedocs.io/en/latest/shenfun.forms.html#shenfun.forms.arguments.Function)\n",
    "class, that subclasses both Nympy's ndarray as well as an internal\n",
    "[BasisFunction](https://shenfun.readthedocs.io/en/latest/shenfun.forms.html#shenfun.forms.arguments.BasisFunction)\n",
    "class. An instance of the [Function](https://shenfun.readthedocs.io/en/latest/shenfun.forms.html#shenfun.forms.arguments.Function) represents the entire\n",
    "spectral Galerkin function ([16](#eq:usg))."
   ]
  },
  {
   "cell_type": "markdown",
   "id": "cf89575c",
   "metadata": {
    "editable": true
   },
   "source": [
    "### Runge-Kutta integrator\n",
    "\n",
    "<a id=\"sec:rk\"></a>\n",
    "\n",
    "We use an explicit fourth order Runge-Kutta integrator,\n",
    "imported from [shenfun.utilities.integrators](https://shenfun.readthedocs.io/en/latest/shenfun.utilities.html#module-shenfun.utilities.integrators). The solver\n",
    "requires one function to compute nonlinear terms,\n",
    "and one to compute linear. But here we will make\n",
    "just one function that computes both, and call it\n",
    "`NonlinearRHS`:"
   ]
  },
  {
   "cell_type": "code",
   "execution_count": 5,
   "id": "e982a934",
   "metadata": {
    "editable": true,
    "execution": {
     "iopub.execute_input": "2024-08-17T17:13:18.428668Z",
     "iopub.status.busy": "2024-08-17T17:13:18.428580Z",
     "iopub.status.idle": "2024-08-17T17:13:18.440348Z",
     "shell.execute_reply": "2024-08-17T17:13:18.440123Z"
    },
    "tags": [
     "thebe-init"
    ]
   },
   "outputs": [],
   "source": [
    "uh = TrialFunction(T)\n",
    "vh = TestFunction(T)\n",
    "L = inner(grad(vh), -grad(uh)) + [inner(vh, -gamma*uh)]\n",
    "L = la.SolverDiagonal(L).mat.scale\n",
    "\n",
    "def NonlinearRHS(self, fu, fu_hat, dfu_hat, **par):\n",
    "    global count, up\n",
    "    dfu_hat.fill(0)\n",
    "    f_hat, u_hat = fu_hat\n",
    "    df_hat, du_hat = dfu_hat\n",
    "    up = Tp.backward(u_hat, up)\n",
    "    df_hat = Tp.forward(gamma*up**3, df_hat)\n",
    "    df_hat += L*u_hat\n",
    "    du_hat[:] = f_hat\n",
    "    return dfu_hat"
   ]
  },
  {
   "cell_type": "markdown",
   "id": "29c06ebf",
   "metadata": {
    "editable": true
   },
   "source": [
    "Note that `L` now is an array that represents the linear\n",
    "coefficients in ([27](#eq:kg:du_var3)).\n",
    "\n",
    "All that is left is to write a function that is called\n",
    "on each time step, which will allow us to store intermediate\n",
    "solutions, compute intermediate energies, and plot\n",
    "intermediate solutions. Since we will plot the same plot\n",
    "many times, we create the figure first, and then simply update\n",
    "the plotted arrays in the `update` function."
   ]
  },
  {
   "cell_type": "code",
   "execution_count": 6,
   "id": "1f4ce1d4",
   "metadata": {
    "editable": true,
    "execution": {
     "iopub.execute_input": "2024-08-17T17:13:18.441655Z",
     "iopub.status.busy": "2024-08-17T17:13:18.441585Z",
     "iopub.status.idle": "2024-08-17T17:13:18.626031Z",
     "shell.execute_reply": "2024-08-17T17:13:18.625761Z"
    },
    "tags": [
     "thebe-init"
    ]
   },
   "outputs": [
    {
     "data": {
      "image/png": "[encoded data removed]",
      "text/plain": [
       "<Figure size 640x480 with 1 Axes>"
      ]
     },
     "metadata": {},
     "output_type": "display_data"
    }
   ],
   "source": [
    "%matplotlib inline\n",
    "\n",
    "import matplotlib.pyplot as plt\n",
    "X = T.local_mesh(True)\n",
    "if rank == 0:\n",
    "    plt.figure()\n",
    "    image = plt.contourf(X[1][..., 0], X[0][..., 0], u[..., N[2]//2], 100)\n",
    "    plt.draw()\n",
    "    plt.pause(1e-6)"
   ]
  },
  {
   "cell_type": "markdown",
   "id": "09b92d8a",
   "metadata": {
    "editable": true
   },
   "source": [
    "The actual `update` function is"
   ]
  },
  {
   "cell_type": "code",
   "execution_count": 7,
   "id": "0547e688",
   "metadata": {
    "editable": true,
    "execution": {
     "iopub.execute_input": "2024-08-17T17:13:18.627397Z",
     "iopub.status.busy": "2024-08-17T17:13:18.627247Z",
     "iopub.status.idle": "2024-08-17T17:13:18.631148Z",
     "shell.execute_reply": "2024-08-17T17:13:18.630940Z"
    },
    "tags": [
     "thebe-init"
    ]
   },
   "outputs": [],
   "source": [
    "# Get wavenumbers\n",
    "K = np.array(T.local_wavenumbers(True, True, True))\n",
    "\n",
    "def update(self, fu, fu_hat, t, tstep, **params):\n",
    "    global gradu\n",
    "\n",
    "    transformed = False\n",
    "    if rank == 0 and tstep % params['plot_tstep'] == 0 and params['plot_tstep'] > 0:\n",
    "        fu = fu_hat.backward(fu)\n",
    "        f, u = fu[:]\n",
    "        self.image = plt.contourf(X[1][..., 0], X[0][..., 0], u[..., N[2]//2], 100)\n",
    "        display(self.image, clear=True)\n",
    "        plt.pause(1e-6)\n",
    "        transformed = True\n",
    "\n",
    "    if tstep % params['Compute_energy'] == 0:\n",
    "        if transformed is False:\n",
    "            fu = fu_hat.backward(fu)\n",
    "        f, u = fu\n",
    "        f_hat, u_hat = fu_hat\n",
    "        ekin = 0.5*energy_fourier(f_hat, T)\n",
    "        es = 0.5*energy_fourier(1j*(K*u_hat), T)\n",
    "        eg = gamma*np.sum(0.5*u**2 - 0.25*u**4)/np.prod(np.array(N))\n",
    "        eg = comm.allreduce(eg)\n",
    "        gradu = TV.backward(1j*(K[0]*u_hat[0]+K[1]*u_hat[1]+K[2]*u_hat[2]), gradu)\n",
    "        ep = comm.allreduce(np.sum(f*gradu)/np.prod(np.array(N)))\n",
    "        ea = comm.allreduce(np.sum(np.array(X)*(0.5*f**2 + 0.5*gradu**2 - (0.5*u**2 - 0.25*u**4)*f))/np.prod(np.array(N)))\n",
    "        if rank == 0:\n",
    "            params['energy'][0] += \"Time = %2.2f Total energy = %2.8e Linear momentum %2.8e Angular momentum %2.8e \\n\" %(t, ekin+es+eg, ep, ea)\n",
    "            print(params['energy'][0])\n",
    "        comm.barrier()"
   ]
  },
  {
   "cell_type": "markdown",
   "id": "2654c25b",
   "metadata": {
    "editable": true
   },
   "source": [
    "With all functions in place, the actual integrator\n",
    "can be created and called as"
   ]
  },
  {
   "cell_type": "code",
   "execution_count": 8,
   "id": "b5ab745a",
   "metadata": {
    "editable": true,
    "execution": {
     "iopub.execute_input": "2024-08-17T17:13:18.632303Z",
     "iopub.status.busy": "2024-08-17T17:13:18.632236Z",
     "iopub.status.idle": "2024-08-17T17:13:21.068731Z",
     "shell.execute_reply": "2024-08-17T17:13:21.068485Z"
    },
    "tags": [
     "thebe-init"
    ]
   },
   "outputs": [
    {
     "data": {
      "text/plain": [
       "<matplotlib.contour.QuadContourSet at 0x133e879b0>"
      ]
     },
     "metadata": {},
     "output_type": "display_data"
    },
    {
     "data": {
      "image/png": "[encoded data removed]",
      "text/plain": [
       "<Figure size 640x480 with 1 Axes>"
      ]
     },
     "metadata": {},
     "output_type": "display_data"
    },
    {
     "name": "stdout",
     "output_type": "stream",
     "text": [
      "Time = 0.05 Total energy = 1.98329923e-05 Linear momentum 6.42238800e-24 Angular momentum -2.92145793e-04 \n",
      "Time = 0.10 Total energy = 1.98329923e-05 Linear momentum 1.31556755e-23 Angular momentum -2.80169377e-04 \n",
      "Time = 0.15 Total energy = 1.98329923e-05 Linear momentum 2.04511117e-23 Angular momentum -2.61131233e-04 \n",
      "Time = 0.20 Total energy = 1.98329923e-05 Linear momentum 2.83829882e-23 Angular momentum -2.36332458e-04 \n",
      "Time = 0.25 Total energy = 1.98329923e-05 Linear momentum 3.67386534e-23 Angular momentum -2.07437862e-04 \n",
      "Time = 0.30 Total energy = 1.98329923e-05 Linear momentum 4.48989055e-23 Angular momentum -1.76338524e-04 \n",
      "Time = 0.35 Total energy = 1.98329923e-05 Linear momentum 5.17647244e-23 Angular momentum -1.45000052e-04 \n",
      "Time = 0.40 Total energy = 1.98329923e-05 Linear momentum 5.58193938e-23 Angular momentum -1.15311113e-04 \n",
      "Time = 0.45 Total energy = 1.98329923e-05 Linear momentum 5.53440577e-23 Angular momentum -8.89461368e-05 \n",
      "Time = 0.50 Total energy = 1.98329923e-05 Linear momentum 4.88057766e-23 Angular momentum -6.72539478e-05 \n",
      "Time = 0.55 Total energy = 1.98329923e-05 Linear momentum 3.53380529e-23 Angular momentum -5.11807565e-05 \n",
      "Time = 0.60 Total energy = 1.98329923e-05 Linear momentum 1.52052687e-23 Angular momentum -4.12319404e-05 \n",
      "Time = 0.65 Total energy = 1.98329923e-05 Linear momentum -9.90025800e-24 Angular momentum -3.74728598e-05 \n",
      "Time = 0.70 Total energy = 1.98329923e-05 Linear momentum -3.68563893e-23 Angular momentum -3.95650954e-05 \n",
      "Time = 0.75 Total energy = 1.98329923e-05 Linear momentum -6.14741507e-23 Angular momentum -4.68313792e-05 \n",
      "Time = 0.80 Total energy = 1.98329923e-05 Linear momentum -7.91975202e-23 Angular momentum -5.83404077e-05 \n",
      "Time = 0.85 Total energy = 1.98329923e-05 Linear momentum -8.60149697e-23 Angular momentum -7.30018097e-05 \n",
      "Time = 0.90 Total energy = 1.98329923e-05 Linear momentum -7.93771785e-23 Angular momentum -8.96617491e-05 \n",
      "Time = 0.95 Total energy = 1.98329923e-05 Linear momentum -5.89005961e-23 Angular momentum -1.07190826e-04 \n",
      "Time = 1.00 Total energy = 1.98329923e-05 Linear momentum -2.66537293e-23 Angular momentum -1.24557824e-04 \n",
      "\n"
     ]
    }
   ],
   "source": [
    "par = {'Compute_energy': 10,\n",
    "       'plot_tstep': 10,\n",
    "       'end_time': 1}\n",
    "dt = 0.005\n",
    "integrator = RK4(TT, N=NonlinearRHS, update=update, energy=[\"\"], **par)\n",
    "integrator.setup(dt)\n",
    "fu_hat = integrator.solve(fu, fu_hat, dt, (0, par['end_time']))"
   ]
  },
  {
   "cell_type": "markdown",
   "id": "57859b90",
   "metadata": {
    "editable": true
   },
   "source": [
    "A complete solver is found [here](https://github.com/spectralDNS/shenfun/blob/master/demo/KleinGordon.py).\n",
    "\n",
    "<!-- ======= Bibliography ======= -->\n",
    "\n",
    "1. <a id=\"abdul08\"></a> **A.-M. Wazwaz**.  New Travelling Wave Solutions to the Boussinesq and the Klein-Gordon Equations, *Communications in Nonlinear Science and Numerical Simulation*, 13(5), pp. 889-901, [doi: 10.1016/j.cnsns.2006.08.005](https://dx.doi.org/10.1016/j.cnsns.2006.08.005), 2008."
   ]
  }
 ],
 "metadata": {
  "kernelspec": {
   "display_name": "Python 3",
   "language": "python",
   "name": "python3"
  },
  "language_info": {
   "codemirror_mode": {
    "name": "ipython",
    "version": 3
   },
   "file_extension": ".py",
   "mimetype": "text/x-python",
   "name": "python",
   "nbconvert_exporter": "python",
   "pygments_lexer": "ipython3",
   "version": "3.12.3"
  }
 },
 "nbformat": 4,
 "nbformat_minor": 5
}
